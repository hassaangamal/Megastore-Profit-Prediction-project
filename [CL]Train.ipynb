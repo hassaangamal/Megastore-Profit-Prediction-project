{
 "cells": [
  {
   "cell_type": "code",
   "execution_count": 1,
   "metadata": {},
   "outputs": [],
   "source": [
    "from CL_Split import train_df as data\n",
    "from UTILS import *\n",
    "from sklearn.preprocessing import LabelEncoder\n",
    "from sklearn.ensemble import RandomForestRegressor \n",
    "import seaborn as sns\n",
    "from joblib import dump\n",
    "import time"
   ]
  },
  {
   "cell_type": "code",
   "execution_count": 2,
   "metadata": {},
   "outputs": [],
   "source": [
    "data['Order Date']=pd.to_datetime(data['Order Date'])\n",
    "data['Order year']=data['Order Date'].dt.year\n",
    "data['Order quarter']=data['Order Date'].dt.quarter\n",
    "data = data.drop('Order Date', axis=1)\n",
    "data['Ship Date']=pd.to_datetime(data['Ship Date'])\n",
    "data['Ship year']=data['Ship Date'].dt.year\n",
    "data['Ship quarter']=data['Ship Date'].dt.quarter\n",
    "data = data.drop('Ship Date', axis=1)\n",
    "#Extract Categories\n",
    "data[[\"Main Category\",\"Sub Category\"]]=data[\"CategoryTree\"].str.extract(\"'MainCategory': '(?P<Main_Category>[^']*)', 'SubCategory': '(?P<Sub_Category>[^']*)'\")\n",
    "data.drop(columns=['CategoryTree'],inplace=True)\n",
    "#Drop Features\n",
    "data.drop(columns=[\"Row ID\",\"Order ID\",\"Customer ID\",\"City\",\"Postal Code\",\"Ship year\",\"Ship quarter\",\"Product Name\",\"Country\",\"Segment\"],inplace=True)\n"
   ]
  },
  {
   "cell_type": "code",
   "execution_count": 3,
   "metadata": {},
   "outputs": [],
   "source": [
    "time_map={\"Validation\":{},\"fit\":{}}"
   ]
  },
  {
   "cell_type": "code",
   "execution_count": 4,
   "metadata": {},
   "outputs": [],
   "source": [
    "transform_target={\"High Loss\":0,\"Low Loss\":1,\"Low Profit\":2,\"Medium Profit\":3,\"High Profit\":4}\n",
    "data[\"ReturnCategoryNominal\"]=data[\"ReturnCategory\"].map(transform_target)\n"
   ]
  },
  {
   "cell_type": "code",
   "execution_count": 5,
   "metadata": {},
   "outputs": [
    {
     "data": {
      "text/plain": [
       "1467    3\n",
       "6071    3\n",
       "2337    3\n",
       "1578    2\n",
       "6522    3\n",
       "       ..\n",
       "5226    3\n",
       "5390    3\n",
       "860     3\n",
       "7603    2\n",
       "7270    4\n",
       "Name: ReturnCategoryNominal, Length: 6396, dtype: int64"
      ]
     },
     "execution_count": 5,
     "metadata": {},
     "output_type": "execute_result"
    }
   ],
   "source": [
    "data[\"ReturnCategoryNominal\"]"
   ]
  },
  {
   "cell_type": "code",
   "execution_count": 6,
   "metadata": {},
   "outputs": [],
   "source": [
    "data=remove_outliers(data,[\"Sales\"],threshold=2.5)"
   ]
  },
  {
   "cell_type": "code",
   "execution_count": 7,
   "metadata": {},
   "outputs": [],
   "source": [
    "mapping_dict=transform_ordinal(data,\"State\",\"ReturnCategoryNominal\")\n",
    "data['state_mean'] = data['State'].map(mapping_dict)"
   ]
  },
  {
   "cell_type": "code",
   "execution_count": 8,
   "metadata": {},
   "outputs": [],
   "source": [
    "sub_cat_dict=transform_ordinal(data,\"Sub Category\",\"ReturnCategoryNominal\")"
   ]
  },
  {
   "cell_type": "code",
   "execution_count": 9,
   "metadata": {},
   "outputs": [],
   "source": [
    "data[\"sub_cat_encoded\"]=data[\"Sub Category\"].map(sub_cat_dict)"
   ]
  },
  {
   "cell_type": "code",
   "execution_count": 10,
   "metadata": {},
   "outputs": [
    {
     "name": "stderr",
     "output_type": "stream",
     "text": [
      "d:\\FCIS\\Machine Learning\\Project\\Environ\\.venv\\lib\\site-packages\\sklearn\\preprocessing\\_encoders.py:868: FutureWarning: `sparse` was renamed to `sparse_output` in version 1.2 and will be removed in 1.4. `sparse_output` is ignored unless you leave `sparse` to its default value.\n",
      "  warnings.warn(\n"
     ]
    }
   ],
   "source": [
    "final_df_cat,onehot_scaler=one_hot_encode_columns([\"Main Category\",\"Region\"],data)"
   ]
  },
  {
   "cell_type": "code",
   "execution_count": 11,
   "metadata": {},
   "outputs": [],
   "source": [
    "final_df_num=feature_select_numerical(filter_numerical(data),\"ReturnCategoryNominal\")"
   ]
  },
  {
   "cell_type": "code",
   "execution_count": 12,
   "metadata": {},
   "outputs": [],
   "source": [
    "final_df=pd.concat([final_df_num,final_df_cat],axis=1)"
   ]
  },
  {
   "cell_type": "code",
   "execution_count": 13,
   "metadata": {},
   "outputs": [],
   "source": [
    "final_df_norm,scaler=normalize_feature(final_df.drop(columns=[\"ReturnCategoryNominal\"]))"
   ]
  },
  {
   "cell_type": "code",
   "execution_count": 14,
   "metadata": {},
   "outputs": [
    {
     "data": {
      "text/html": [
       "<div>\n",
       "<style scoped>\n",
       "    .dataframe tbody tr th:only-of-type {\n",
       "        vertical-align: middle;\n",
       "    }\n",
       "\n",
       "    .dataframe tbody tr th {\n",
       "        vertical-align: top;\n",
       "    }\n",
       "\n",
       "    .dataframe thead th {\n",
       "        text-align: right;\n",
       "    }\n",
       "</style>\n",
       "<table border=\"1\" class=\"dataframe\">\n",
       "  <thead>\n",
       "    <tr style=\"text-align: right;\">\n",
       "      <th></th>\n",
       "      <th>Sales</th>\n",
       "      <th>Quantity</th>\n",
       "      <th>Discount</th>\n",
       "      <th>state_mean</th>\n",
       "      <th>sub_cat_encoded</th>\n",
       "      <th>Main Category_Furniture</th>\n",
       "      <th>Main Category_Office Supplies</th>\n",
       "      <th>Main Category_Technology</th>\n",
       "      <th>Region_Central</th>\n",
       "      <th>Region_East</th>\n",
       "      <th>Region_South</th>\n",
       "      <th>Region_West</th>\n",
       "    </tr>\n",
       "  </thead>\n",
       "  <tbody>\n",
       "    <tr>\n",
       "      <th>1467</th>\n",
       "      <td>0.057885</td>\n",
       "      <td>0.153846</td>\n",
       "      <td>0.250</td>\n",
       "      <td>0.354167</td>\n",
       "      <td>0.1250</td>\n",
       "      <td>0.0</td>\n",
       "      <td>1.0</td>\n",
       "      <td>0.0</td>\n",
       "      <td>0.0</td>\n",
       "      <td>0.0</td>\n",
       "      <td>0.0</td>\n",
       "      <td>1.0</td>\n",
       "    </tr>\n",
       "    <tr>\n",
       "      <th>6071</th>\n",
       "      <td>0.122880</td>\n",
       "      <td>0.000000</td>\n",
       "      <td>0.000</td>\n",
       "      <td>0.333333</td>\n",
       "      <td>0.6875</td>\n",
       "      <td>0.0</td>\n",
       "      <td>1.0</td>\n",
       "      <td>0.0</td>\n",
       "      <td>0.0</td>\n",
       "      <td>1.0</td>\n",
       "      <td>0.0</td>\n",
       "      <td>0.0</td>\n",
       "    </tr>\n",
       "    <tr>\n",
       "      <th>2337</th>\n",
       "      <td>0.239768</td>\n",
       "      <td>0.230769</td>\n",
       "      <td>0.000</td>\n",
       "      <td>0.270833</td>\n",
       "      <td>0.5625</td>\n",
       "      <td>0.0</td>\n",
       "      <td>1.0</td>\n",
       "      <td>0.0</td>\n",
       "      <td>0.0</td>\n",
       "      <td>0.0</td>\n",
       "      <td>0.0</td>\n",
       "      <td>1.0</td>\n",
       "    </tr>\n",
       "    <tr>\n",
       "      <th>1578</th>\n",
       "      <td>0.023335</td>\n",
       "      <td>0.076923</td>\n",
       "      <td>0.000</td>\n",
       "      <td>0.645833</td>\n",
       "      <td>0.5000</td>\n",
       "      <td>1.0</td>\n",
       "      <td>0.0</td>\n",
       "      <td>0.0</td>\n",
       "      <td>0.0</td>\n",
       "      <td>1.0</td>\n",
       "      <td>0.0</td>\n",
       "      <td>0.0</td>\n",
       "    </tr>\n",
       "    <tr>\n",
       "      <th>6522</th>\n",
       "      <td>0.026158</td>\n",
       "      <td>0.307692</td>\n",
       "      <td>0.000</td>\n",
       "      <td>0.395833</td>\n",
       "      <td>0.7500</td>\n",
       "      <td>0.0</td>\n",
       "      <td>1.0</td>\n",
       "      <td>0.0</td>\n",
       "      <td>1.0</td>\n",
       "      <td>0.0</td>\n",
       "      <td>0.0</td>\n",
       "      <td>0.0</td>\n",
       "    </tr>\n",
       "    <tr>\n",
       "      <th>...</th>\n",
       "      <td>...</td>\n",
       "      <td>...</td>\n",
       "      <td>...</td>\n",
       "      <td>...</td>\n",
       "      <td>...</td>\n",
       "      <td>...</td>\n",
       "      <td>...</td>\n",
       "      <td>...</td>\n",
       "      <td>...</td>\n",
       "      <td>...</td>\n",
       "      <td>...</td>\n",
       "      <td>...</td>\n",
       "    </tr>\n",
       "    <tr>\n",
       "      <th>5226</th>\n",
       "      <td>0.024104</td>\n",
       "      <td>0.384615</td>\n",
       "      <td>0.250</td>\n",
       "      <td>0.333333</td>\n",
       "      <td>0.1250</td>\n",
       "      <td>0.0</td>\n",
       "      <td>1.0</td>\n",
       "      <td>0.0</td>\n",
       "      <td>0.0</td>\n",
       "      <td>1.0</td>\n",
       "      <td>0.0</td>\n",
       "      <td>0.0</td>\n",
       "    </tr>\n",
       "    <tr>\n",
       "      <th>5390</th>\n",
       "      <td>0.046046</td>\n",
       "      <td>0.307692</td>\n",
       "      <td>0.000</td>\n",
       "      <td>0.270833</td>\n",
       "      <td>0.8125</td>\n",
       "      <td>0.0</td>\n",
       "      <td>1.0</td>\n",
       "      <td>0.0</td>\n",
       "      <td>0.0</td>\n",
       "      <td>0.0</td>\n",
       "      <td>0.0</td>\n",
       "      <td>1.0</td>\n",
       "    </tr>\n",
       "    <tr>\n",
       "      <th>860</th>\n",
       "      <td>0.047307</td>\n",
       "      <td>0.000000</td>\n",
       "      <td>0.000</td>\n",
       "      <td>0.770833</td>\n",
       "      <td>0.6875</td>\n",
       "      <td>0.0</td>\n",
       "      <td>1.0</td>\n",
       "      <td>0.0</td>\n",
       "      <td>0.0</td>\n",
       "      <td>0.0</td>\n",
       "      <td>1.0</td>\n",
       "      <td>0.0</td>\n",
       "    </tr>\n",
       "    <tr>\n",
       "      <th>7603</th>\n",
       "      <td>0.026642</td>\n",
       "      <td>0.076923</td>\n",
       "      <td>0.250</td>\n",
       "      <td>0.145833</td>\n",
       "      <td>0.5000</td>\n",
       "      <td>1.0</td>\n",
       "      <td>0.0</td>\n",
       "      <td>0.0</td>\n",
       "      <td>0.0</td>\n",
       "      <td>0.0</td>\n",
       "      <td>1.0</td>\n",
       "      <td>0.0</td>\n",
       "    </tr>\n",
       "    <tr>\n",
       "      <th>7270</th>\n",
       "      <td>0.373621</td>\n",
       "      <td>0.076923</td>\n",
       "      <td>0.125</td>\n",
       "      <td>0.333333</td>\n",
       "      <td>0.4375</td>\n",
       "      <td>1.0</td>\n",
       "      <td>0.0</td>\n",
       "      <td>0.0</td>\n",
       "      <td>0.0</td>\n",
       "      <td>1.0</td>\n",
       "      <td>0.0</td>\n",
       "      <td>0.0</td>\n",
       "    </tr>\n",
       "  </tbody>\n",
       "</table>\n",
       "<p>6263 rows × 12 columns</p>\n",
       "</div>"
      ],
      "text/plain": [
       "         Sales  Quantity  Discount  state_mean  sub_cat_encoded   \n",
       "1467  0.057885  0.153846     0.250    0.354167           0.1250  \\\n",
       "6071  0.122880  0.000000     0.000    0.333333           0.6875   \n",
       "2337  0.239768  0.230769     0.000    0.270833           0.5625   \n",
       "1578  0.023335  0.076923     0.000    0.645833           0.5000   \n",
       "6522  0.026158  0.307692     0.000    0.395833           0.7500   \n",
       "...        ...       ...       ...         ...              ...   \n",
       "5226  0.024104  0.384615     0.250    0.333333           0.1250   \n",
       "5390  0.046046  0.307692     0.000    0.270833           0.8125   \n",
       "860   0.047307  0.000000     0.000    0.770833           0.6875   \n",
       "7603  0.026642  0.076923     0.250    0.145833           0.5000   \n",
       "7270  0.373621  0.076923     0.125    0.333333           0.4375   \n",
       "\n",
       "      Main Category_Furniture  Main Category_Office Supplies   \n",
       "1467                      0.0                            1.0  \\\n",
       "6071                      0.0                            1.0   \n",
       "2337                      0.0                            1.0   \n",
       "1578                      1.0                            0.0   \n",
       "6522                      0.0                            1.0   \n",
       "...                       ...                            ...   \n",
       "5226                      0.0                            1.0   \n",
       "5390                      0.0                            1.0   \n",
       "860                       0.0                            1.0   \n",
       "7603                      1.0                            0.0   \n",
       "7270                      1.0                            0.0   \n",
       "\n",
       "      Main Category_Technology  Region_Central  Region_East  Region_South   \n",
       "1467                       0.0             0.0          0.0           0.0  \\\n",
       "6071                       0.0             0.0          1.0           0.0   \n",
       "2337                       0.0             0.0          0.0           0.0   \n",
       "1578                       0.0             0.0          1.0           0.0   \n",
       "6522                       0.0             1.0          0.0           0.0   \n",
       "...                        ...             ...          ...           ...   \n",
       "5226                       0.0             0.0          1.0           0.0   \n",
       "5390                       0.0             0.0          0.0           0.0   \n",
       "860                        0.0             0.0          0.0           1.0   \n",
       "7603                       0.0             0.0          0.0           1.0   \n",
       "7270                       0.0             0.0          1.0           0.0   \n",
       "\n",
       "      Region_West  \n",
       "1467          1.0  \n",
       "6071          0.0  \n",
       "2337          1.0  \n",
       "1578          0.0  \n",
       "6522          0.0  \n",
       "...           ...  \n",
       "5226          0.0  \n",
       "5390          1.0  \n",
       "860           0.0  \n",
       "7603          0.0  \n",
       "7270          0.0  \n",
       "\n",
       "[6263 rows x 12 columns]"
      ]
     },
     "execution_count": 14,
     "metadata": {},
     "output_type": "execute_result"
    }
   ],
   "source": [
    "final_df_norm"
   ]
  },
  {
   "cell_type": "code",
   "execution_count": 15,
   "metadata": {},
   "outputs": [],
   "source": [
    "final_df_norm[\"ReturnCategoryNominal\"]=final_df[\"ReturnCategoryNominal\"]"
   ]
  },
  {
   "cell_type": "code",
   "execution_count": 16,
   "metadata": {},
   "outputs": [],
   "source": [
    "X=final_df_norm.drop(columns=[\"ReturnCategoryNominal\"])\n",
    "y=final_df_norm[\"ReturnCategoryNominal\"]\n"
   ]
  },
  {
   "attachments": {},
   "cell_type": "markdown",
   "metadata": {},
   "source": [
    "<h3>SVM</h3\n",
    ">"
   ]
  },
  {
   "cell_type": "code",
   "execution_count": 17,
   "metadata": {},
   "outputs": [
    {
     "name": "stdout",
     "output_type": "stream",
     "text": [
      "Best Model SVC(C=10, kernel='poly')\n",
      "Best Score 0.7852461440784927\n"
     ]
    }
   ],
   "source": [
    "from sklearn.svm import SVC\n",
    "from sklearn.model_selection import GridSearchCV\n",
    "classifier = SVC()\n",
    "\n",
    "param_grid = {\n",
    "    'C': [0.1, 1, 10],\n",
    "    'kernel': ['linear', 'rbf', 'poly'],\n",
    "    'gamma': ['scale', 'auto'],\n",
    "}\n",
    "start=time.time()\n",
    "grid_search_svm = GridSearchCV(classifier, param_grid, cv=5)\n",
    "grid_search_svm.fit(X, y)\n",
    "time_map[\"Validation\"][\"svm\"]=time.time()-start\n",
    "\n",
    "best_model = grid_search_svm.best_estimator_\n",
    "print(f'Best Model {best_model}')\n",
    "print(f'Best Score {grid_search_svm.best_score_}')"
   ]
  },
  {
   "attachments": {},
   "cell_type": "markdown",
   "metadata": {},
   "source": [
    "<h3>Logistic Regression</h3>"
   ]
  },
  {
   "cell_type": "code",
   "execution_count": 18,
   "metadata": {},
   "outputs": [
    {
     "name": "stdout",
     "output_type": "stream",
     "text": [
      "Best Model LogisticRegression(C=10, max_iter=100000)\n",
      "Best Score 0.7408600190214412\n"
     ]
    }
   ],
   "source": [
    "from sklearn.linear_model import LogisticRegression\n",
    "classifier=LogisticRegression(max_iter=100000)\n",
    "\n",
    "param_grid={\n",
    "    'C': [0.1, 1, 10],\n",
    "    'solver':['lbfgs', 'liblinear', 'newton-cg', 'newton-cholesky','saga']\n",
    "}\n",
    "start=time.time()\n",
    "grid_search_lgreg=GridSearchCV(classifier,param_grid,cv=5)\n",
    "grid_search_lgreg.fit(X,y)\n",
    "time_map[\"Validation\"][\"lgreg\"]=time.time()-start\n",
    "print(f'Best Model {grid_search_lgreg.best_estimator_}')\n",
    "print(f'Best Score {grid_search_lgreg.best_score_}')"
   ]
  },
  {
   "attachments": {},
   "cell_type": "markdown",
   "metadata": {},
   "source": [
    "<h3>Decision Tree</h3>"
   ]
  },
  {
   "cell_type": "code",
   "execution_count": 19,
   "metadata": {},
   "outputs": [
    {
     "name": "stdout",
     "output_type": "stream",
     "text": [
      "Best Model: DecisionTreeClassifier(criterion='entropy', max_depth=10, min_samples_leaf=4,\n",
      "                       min_samples_split=10)\n",
      "Accuracy score: 0.8492712697194464\n"
     ]
    }
   ],
   "source": [
    "from sklearn.tree import DecisionTreeClassifier\n",
    "classifier = DecisionTreeClassifier()\n",
    "param_grid = {\n",
    "    'criterion': ['gini', 'entropy'],\n",
    "    'max_depth': [None, 5, 10, 15],\n",
    "    'min_samples_split': [2, 5, 10],\n",
    "    'min_samples_leaf': [1, 2, 4],\n",
    "}\n",
    "start=time.time()\n",
    "grid_search_dt = GridSearchCV(classifier, param_grid, cv=5)\n",
    "grid_search_dt.fit(X, y)\n",
    "time_map[\"Validation\"][\"tree\"]=time.time()-start\n",
    "print(\"Best Model:\", grid_search_dt.best_estimator_)\n",
    "print(\"Accuracy score:\", grid_search_dt.best_score_)\n"
   ]
  },
  {
   "attachments": {},
   "cell_type": "markdown",
   "metadata": {},
   "source": [
    "<h3>Random Forest</h3>"
   ]
  },
  {
   "cell_type": "code",
   "execution_count": 20,
   "metadata": {},
   "outputs": [
    {
     "name": "stdout",
     "output_type": "stream",
     "text": [
      "Best Model: DecisionTreeClassifier(criterion='log_loss', min_samples_split=10)\n",
      "Accuracy score: 0.8451205923674555\n"
     ]
    }
   ],
   "source": [
    "from sklearn.ensemble import RandomForestClassifier\n",
    "classifier=DecisionTreeClassifier()\n",
    "param_grid = {\n",
    "    'criterion':['gini','entropy','log_loss'],\n",
    "    'min_samples_split': [2, 5, 10],\n",
    "    'min_samples_leaf': [1, 2, 4],\n",
    "}\n",
    "start=time.time()\n",
    "grid_search_rf=GridSearchCV(classifier,param_grid,cv=5)\n",
    "grid_search_rf.fit(X,y)\n",
    "time_map[\"Validation\"][\"rf\"]=time.time()-start\n",
    "print(\"Best Model:\", grid_search_rf.best_estimator_)\n",
    "print(\"Accuracy score:\", grid_search_rf.best_score_)\n"
   ]
  },
  {
   "cell_type": "code",
   "execution_count": 21,
   "metadata": {},
   "outputs": [],
   "source": [
    "start=time.time()\n",
    "svc=SVC(**(grid_search_svm.best_params_)).fit(X,y)\n",
    "time_map[\"fit\"][\"svm\"]=time.time()-start\n",
    "start=time.time()\n",
    "lgreg=LogisticRegression(**(grid_search_lgreg.best_params_),max_iter=10000).fit(X,y)\n",
    "time_map[\"fit\"][\"lgreg\"]=time.time()-start\n",
    "start=time.time()\n",
    "tree=DecisionTreeClassifier(**(grid_search_dt.best_params_)).fit(X,y)\n",
    "time_map[\"fit\"][\"tree\"]=time.time()-start\n",
    "start=time.time()\n",
    "rf=RandomForestClassifier(**(grid_search_rf.best_params_)).fit(X,y)\n",
    "time_map[\"fit\"][\"rf\"]=time.time()-start"
   ]
  },
  {
   "cell_type": "code",
   "execution_count": 27,
   "metadata": {},
   "outputs": [],
   "source": [
    "missing_values = pd.read_csv('Missing_values_-_classification.csv')\n",
    "arr = missing_values['Value'].to_numpy()"
   ]
  },
  {
   "cell_type": "code",
   "execution_count": 28,
   "metadata": {},
   "outputs": [
    {
     "data": {
      "text/plain": [
       "['[CL]preprocessing_opt1.joblib']"
      ]
     },
     "execution_count": 28,
     "metadata": {},
     "output_type": "execute_result"
    }
   ],
   "source": [
    "from joblib import dump\n",
    "Model={\"Model\":{\"svc\":svc,\"lgreg\":lgreg,\"tree\":tree,\"rf\":rf},\"Scaler\":scaler,\"Onehot_scaler\":onehot_scaler}\n",
    "preprocessing={\"map_target\":transform_target,\"map_state\":mapping_dict,\"map_sub_cat\":sub_cat_dict,\n",
    "               \"Columns\":filter_numerical(final_df).columns,\"missing_values\":arr}\n",
    "dump(Model,\"[CL]model_opt1.joblib\")\n",
    "dump(preprocessing,\"[CL]preprocessing_opt1.joblib\")"
   ]
  },
  {
   "cell_type": "code",
   "execution_count": 24,
   "metadata": {},
   "outputs": [],
   "source": [
    "import matplotlib.pyplot as plt\n",
    "import seaborn as sns"
   ]
  },
  {
   "cell_type": "code",
   "execution_count": 25,
   "metadata": {},
   "outputs": [
    {
     "data": {
      "text/plain": [
       "Text(0.5, 1.0, 'Time Taken in Validation')"
      ]
     },
     "execution_count": 25,
     "metadata": {},
     "output_type": "execute_result"
    },
    {
     "data": {
      "image/png": "[encoded data removed]",
      "text/plain": [
       "<Figure size 640x480 with 1 Axes>"
      ]
     },
     "metadata": {},
     "output_type": "display_data"
    }
   ],
   "source": [
    "plt.figure()\n",
    "sns.set_style(\"darkgrid\")\n",
    "plt.rcParams[\"figure.facecolor\"] = \"gray\"\n",
    "\n",
    "sns.barplot(x=list(time_map[\"Validation\"].keys()),y=list(time_map[\"Validation\"].values()),palette=\"viridis\")\n",
    "plt.ylabel(\"Time in Seconds\")\n",
    "plt.title(\"Time Taken in Validation\")"
   ]
  },
  {
   "cell_type": "code",
   "execution_count": 26,
   "metadata": {},
   "outputs": [
    {
     "data": {
      "text/plain": [
       "Text(0.5, 1.0, 'Time Taken in Fit')"
      ]
     },
     "execution_count": 26,
     "metadata": {},
     "output_type": "execute_result"
    },
    {
     "data": {
      "image/png": "[encoded data removed]",
      "text/plain": [
       "<Figure size 640x480 with 1 Axes>"
      ]
     },
     "metadata": {},
     "output_type": "display_data"
    }
   ],
   "source": [
    "plt.figure()\n",
    "sns.set_style(\"darkgrid\")\n",
    "plt.rcParams[\"figure.facecolor\"] = \"gray\"\n",
    "\n",
    "sns.barplot(x=list(time_map[\"fit\"].keys()),y=list(time_map[\"fit\"].values()),palette=\"viridis\")\n",
    "plt.ylabel(\"Time in seconds\")\n",
    "plt.title(\"Time Taken in Fit\")"
   ]
  }
 ],
 "metadata": {
  "kernelspec": {
   "display_name": ".venv",
   "language": "python",
   "name": "python3"
  },
  "language_info": {
   "codemirror_mode": {
    "name": "ipython",
    "version": 3
   },
   "file_extension": ".py",
   "mimetype": "text/x-python",
   "name": "python",
   "nbconvert_exporter": "python",
   "pygments_lexer": "ipython3",
   "version": "3.10.1"
  },
  "orig_nbformat": 4
 },
 "nbformat": 4,
 "nbformat_minor": 2
}
