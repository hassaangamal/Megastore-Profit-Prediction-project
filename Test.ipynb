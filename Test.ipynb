{
 "cells": [
  {
   "cell_type": "code",
   "execution_count": 1,
   "metadata": {},
   "outputs": [],
   "source": [
    "from joblib import load\n",
    "from UTILS import *\n",
    "from Split import test_df as data\n",
    "from sklearn.metrics import r2_score, mean_squared_error\n",
    "from sklearn.preprocessing import PolynomialFeatures"
   ]
  },
  {
   "cell_type": "code",
   "execution_count": 3,
   "metadata": {},
   "outputs": [],
   "source": [
    "preprocess_dict=load(\"preprocessing_option1.joblib\")\n",
    "# Use the loaded dictionary to transform names in new data\n",
    "data[\"state_mean\"] = data[\"State\"].map(preprocess_dict[\"state_dict\"])\n",
    "data[\"sub_cat_encoded\"] = data[\"Sub Category\"].map(preprocess_dict[\"sub_cat_dict\"])"
   ]
  },
  {
   "cell_type": "code",
   "execution_count": 4,
   "metadata": {},
   "outputs": [],
   "source": [
    "model=load(\"rf_option1.joblib\")"
   ]
  },
  {
   "cell_type": "code",
   "execution_count": 5,
   "metadata": {},
   "outputs": [],
   "source": [
    "one_hot_df=data[[\"Main Category\",\"Region\"]]#\n",
    "encoder=model[\"onehot_encoder\"]\n",
    "final_cat_df=pd.DataFrame(encoder.transform(one_hot_df),columns=encoder.get_feature_names_out(one_hot_df.columns),index=data.index)"
   ]
  },
  {
   "cell_type": "code",
   "execution_count": 6,
   "metadata": {},
   "outputs": [],
   "source": [
    "final_df_num=data[preprocess_dict[\"num_columns\"]]\n"
   ]
  },
  {
   "attachments": {},
   "cell_type": "markdown",
   "metadata": {},
   "source": [
    "<h2>Loading Model</h2>"
   ]
  },
  {
   "cell_type": "code",
   "execution_count": 7,
   "metadata": {},
   "outputs": [],
   "source": [
    "final_df=pd.concat([final_df_num,final_cat_df],axis=1)\n",
    "final_df_fill=fill_missing(final_df.drop(columns=\"Profit\"),preprocess_dict[\"missing_values\"])\n",
    "final_df_norm=pd.DataFrame(model[\"scaler\"].transform(final_df_fill),columns=final_df_fill.columns)"
   ]
  },
  {
   "cell_type": "code",
   "execution_count": 8,
   "metadata": {},
   "outputs": [
    {
     "data": {
      "text/plain": [
       "array([2.28211970e+02, 3.76422764e+00, 1.55884928e-01, 3.01305338e+01,\n",
       "       1.00000000e+01, 0.00000000e+00, 1.00000000e+00, 0.00000000e+00,\n",
       "       0.00000000e+00, 0.00000000e+00, 0.00000000e+00, 1.00000000e+00])"
      ]
     },
     "execution_count": 8,
     "metadata": {},
     "output_type": "execute_result"
    }
   ],
   "source": [
    "preprocess_dict[\"missing_values\"]"
   ]
  },
  {
   "cell_type": "code",
   "execution_count": 9,
   "metadata": {},
   "outputs": [
    {
     "data": {
      "text/plain": [
       "Index(['Sales', 'Quantity', 'Discount', 'Profit', 'state_mean',\n",
       "       'sub_cat_encoded', 'Main Category_Furniture',\n",
       "       'Main Category_Office Supplies', 'Main Category_Technology',\n",
       "       'Region_Central', 'Region_East', 'Region_South', 'Region_West'],\n",
       "      dtype='object')"
      ]
     },
     "execution_count": 9,
     "metadata": {},
     "output_type": "execute_result"
    }
   ],
   "source": [
    "final_df.columns"
   ]
  },
  {
   "cell_type": "code",
   "execution_count": 10,
   "metadata": {},
   "outputs": [],
   "source": [
    "X=final_df_norm\n",
    "y=final_df[\"Profit\"]"
   ]
  },
  {
   "attachments": {},
   "cell_type": "markdown",
   "metadata": {},
   "source": [
    "<h3>Random Forest</h2>"
   ]
  },
  {
   "cell_type": "code",
   "execution_count": 12,
   "metadata": {},
   "outputs": [
    {
     "name": "stdout",
     "output_type": "stream",
     "text": [
      "R^2 Score:  0.9142622347977666\n",
      "Mean Squared Error (MSE):  3135.7370572682144\n"
     ]
    }
   ],
   "source": [
    "y_pred = model[\"model\"][\"rf\"].predict(X)\n",
    "r2_op1 = r2_score(y, y_pred)\n",
    "mse_op1 = mean_squared_error(y, y_pred)\n",
    "\n",
    "print(\"R^2 Score: \", r2_op1)\n",
    "print(\"Mean Squared Error (MSE): \", mse_op1)"
   ]
  },
  {
   "attachments": {},
   "cell_type": "markdown",
   "metadata": {},
   "source": [
    "<h3>Polynomial Regression</h3>"
   ]
  },
  {
   "cell_type": "code",
   "execution_count": 13,
   "metadata": {},
   "outputs": [
    {
     "name": "stdout",
     "output_type": "stream",
     "text": [
      "R^2 Score:  0.811782151721069\n",
      "Mean Squared Error (MSE):  6883.8006250267335\n"
     ]
    }
   ],
   "source": [
    "x_poly=PolynomialFeatures(degree=model[\"model\"][\"plreg\"][1]).fit_transform(X)\n",
    "y_pred = model[\"model\"][\"plreg\"][0].predict(x_poly)\n",
    "r2_op1 = r2_score(y, y_pred)\n",
    "mse_op1 = mean_squared_error(y, y_pred)\n",
    "\n",
    "print(\"R^2 Score: \", r2_op1)\n",
    "print(\"Mean Squared Error (MSE): \", mse_op1)"
   ]
  },
  {
   "attachments": {},
   "cell_type": "markdown",
   "metadata": {},
   "source": [
    "<h3>Gradient Boosting Regressor</h3>"
   ]
  },
  {
   "cell_type": "code",
   "execution_count": 14,
   "metadata": {},
   "outputs": [
    {
     "name": "stdout",
     "output_type": "stream",
     "text": [
      "R^2 Score:  0.9214642288952606\n",
      "Mean Squared Error (MSE):  2872.334346403634\n"
     ]
    }
   ],
   "source": [
    "y_pred = model[\"model\"][\"gbr\"].predict(X)\n",
    "r2_op1 = r2_score(y, y_pred)\n",
    "mse_op1 = mean_squared_error(y, y_pred)\n",
    "print(\"R^2 Score: \", r2_op1)\n",
    "print(\"Mean Squared Error (MSE): \", mse_op1)\n"
   ]
  }
 ],
 "metadata": {
  "kernelspec": {
   "display_name": ".venv",
   "language": "python",
   "name": "python3"
  },
  "language_info": {
   "codemirror_mode": {
    "name": "ipython",
    "version": 3
   },
   "file_extension": ".py",
   "mimetype": "text/x-python",
   "name": "python",
   "nbconvert_exporter": "python",
   "pygments_lexer": "ipython3",
   "version": "3.10.1"
  },
  "orig_nbformat": 4
 },
 "nbformat": 4,
 "nbformat_minor": 2
}
