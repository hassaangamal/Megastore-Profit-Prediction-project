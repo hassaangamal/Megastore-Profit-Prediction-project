{
 "cells": [
  {
   "attachments": {},
   "cell_type": "markdown",
   "metadata": {},
   "source": [
    "<h2>IMPORT LIBRARIES</h2>"
   ]
  },
  {
   "cell_type": "code",
   "execution_count": 1,
   "metadata": {},
   "outputs": [
    {
     "name": "stderr",
     "output_type": "stream",
     "text": [
      "d:\\FCIS\\Machine Learning\\Project\\Environ\\.venv\\lib\\site-packages\\tqdm\\auto.py:21: TqdmWarning: IProgress not found. Please update jupyter and ipywidgets. See https://ipywidgets.readthedocs.io/en/stable/user_install.html\n",
      "  from .autonotebook import tqdm as notebook_tqdm\n"
     ]
    }
   ],
   "source": [
    "import numpy as np\n",
    "import pandas as pd\n",
    "import seaborn as sns\n",
    "import matplotlib.pyplot as plt\n",
    "from sklearn import linear_model\n",
    "from sklearn import metrics\n",
    "from sklearn import preprocessing\n",
    "from sklearn.model_selection import train_test_split\n",
    "from sklearn.preprocessing import PolynomialFeatures\n",
    "from sklearn.linear_model import ElasticNet\n",
    "\n",
    "from sklearn.preprocessing import LabelEncoder\n",
    "from sklearn.preprocessing import StandardScaler\n",
    "from sklearn.preprocessing import MinMaxScaler\n",
    "from sklearn.ensemble import RandomForestRegressor \n",
    "from sklearn.linear_model import LinearRegression\n",
    "from sklearn.preprocessing import PolynomialFeatures\n",
    "from sklearn.model_selection import GridSearchCV\n",
    "from sklearn.pipeline import make_pipeline\n",
    "import shap\n",
    "from sklearn.metrics import r2_score, mean_squared_error\n",
    "import itertools\n",
    "import functools\n",
    "import re"
   ]
  },
  {
   "cell_type": "code",
   "execution_count": 2,
   "metadata": {},
   "outputs": [],
   "source": [
    "from scipy.stats import zscore\n",
    "import pywt\n",
    "from scipy.stats import pointbiserialr,f_oneway\n",
    "import copy\n"
   ]
  },
  {
   "attachments": {},
   "cell_type": "markdown",
   "metadata": {},
   "source": [
    "<h3>UTILS</h3>"
   ]
  },
  {
   "cell_type": "code",
   "execution_count": 3,
   "metadata": {},
   "outputs": [],
   "source": [
    "def anova_test(df, categorical_columns, target_column):\n",
    "    \n",
    "    p_values = {}  \n",
    "    \n",
    "    for categorical_column in categorical_columns:\n",
    "        categories = df[categorical_column].unique()\n",
    "        \n",
    "        data = []\n",
    "        \n",
    "        for category in categories:\n",
    "            data.append(df[df[categorical_column] == category][target_column])\n",
    "        \n",
    "        statistic, p_value = f_oneway(*data)\n",
    "        \n",
    "        p_values[categorical_column] = p_value\n",
    "    \n",
    "    return p_values"
   ]
  },
  {
   "cell_type": "code",
   "execution_count": 4,
   "metadata": {},
   "outputs": [],
   "source": [
    "def filter_categorial(df):\n",
    "    categorical_columns = df.select_dtypes(include=['object', 'category']).columns\n",
    "    categorical_df = df[categorical_columns]\n",
    "\n",
    "    return categorical_df"
   ]
  },
  {
   "cell_type": "code",
   "execution_count": 5,
   "metadata": {},
   "outputs": [],
   "source": [
    "def filter_numerical(df):\n",
    "    numerical_columns = df.select_dtypes(exclude=['object', 'category']).columns\n",
    "    numerical_df = df[numerical_columns]\n",
    "\n",
    "    return numerical_df"
   ]
  },
  {
   "cell_type": "code",
   "execution_count": 6,
   "metadata": {},
   "outputs": [],
   "source": [
    "def transform_ordinal_means(df,column,target):  \n",
    "    return df.groupby(column)[target].transform(\"mean\")"
   ]
  },
  {
   "cell_type": "code",
   "execution_count": 7,
   "metadata": {},
   "outputs": [],
   "source": [
    "def transform_ordinal(df,column,target):\n",
    "    sub_dict=df.groupby(column)[target].mean().sort_values()\n",
    "    sub_dict={k:v for v,k in enumerate(sub_dict.keys())}\n",
    "    return sub_dict     #df[new_col]=df[column].map(transform_ordinal(df,column,target_col\"Profit\")) To apply mapping on the dataframe in a new column"
   ]
  },
  {
   "cell_type": "code",
   "execution_count": 8,
   "metadata": {},
   "outputs": [],
   "source": [
    "def feature_select_numerical(df,target_col):\n",
    "    \n",
    "    corr=filter_numerical(df).corr().round(2)\n",
    "    final_df=pd.DataFrame()\n",
    "    for column in corr.columns:\n",
    "        if(abs(corr[column][target_col])>=0.05):\n",
    "            final_df[column]=df[column]\n",
    "    return final_df"
   ]
  },
  {
   "cell_type": "code",
   "execution_count": 9,
   "metadata": {},
   "outputs": [],
   "source": [
    "def one_hot_encode_columns(columns_list, df):\n",
    "    \n",
    "    encoded_df = pd.DataFrame()\n",
    "\n",
    "    for col in columns_list:\n",
    "        encoded_cols = pd.get_dummies(df[col], prefix=col, prefix_sep='_',dtype=int)\n",
    "        encoded_df = pd.concat([encoded_df, encoded_cols], axis=1)\n",
    "\n",
    "    return encoded_df"
   ]
  },
  {
   "cell_type": "code",
   "execution_count": 10,
   "metadata": {},
   "outputs": [],
   "source": [
    "def normalize_feature(df):\n",
    "    copy_df=copy.deepcopy(df)\n",
    "    scaler=MinMaxScaler()\n",
    "    scaler.fit(copy_df)\n",
    "    return pd.DataFrame(scaler.transform(copy_df),columns=df.columns)"
   ]
  },
  {
   "attachments": {},
   "cell_type": "markdown",
   "metadata": {},
   "source": [
    "<h3>Data Reading</h3>"
   ]
  },
  {
   "cell_type": "code",
   "execution_count": 11,
   "metadata": {},
   "outputs": [],
   "source": [
    "data = pd.read_csv('megastore-regression-dataset.csv')"
   ]
  },
  {
   "cell_type": "code",
   "execution_count": 12,
   "metadata": {},
   "outputs": [],
   "source": [
    "\n",
    "data['Order Date']=pd.to_datetime(data['Order Date'])\n",
    "data['Order year']=data['Order Date'].dt.year\n",
    "data['Order quarter']=data['Order Date'].dt.quarter\n",
    "data = data.drop('Order Date', axis=1)\n",
    "\n",
    "data['Ship Date']=pd.to_datetime(data['Ship Date'])\n",
    "data['Ship year']=data['Ship Date'].dt.year\n",
    "data['Ship quarter']=data['Ship Date'].dt.quarter\n",
    "data = data.drop('Ship Date', axis=1)"
   ]
  },
  {
   "attachments": {},
   "cell_type": "markdown",
   "metadata": {},
   "source": [
    "<h3>Convert CategoryTree to Main Category and Sub Category Features</h3>"
   ]
  },
  {
   "cell_type": "code",
   "execution_count": 13,
   "metadata": {},
   "outputs": [],
   "source": [
    "data[[\"Main Category\",\"Sub Category\"]]=data[\"CategoryTree\"].str.extract(\"'MainCategory': '(?P<Main_Category>[^']*)', 'SubCategory': '(?P<Sub_Category>[^']*)'\")"
   ]
  },
  {
   "cell_type": "code",
   "execution_count": 14,
   "metadata": {},
   "outputs": [],
   "source": [
    "data.drop(columns=['CategoryTree'],inplace=True)"
   ]
  },
  {
   "cell_type": "code",
   "execution_count": 15,
   "metadata": {},
   "outputs": [
    {
     "data": {
      "text/plain": [
       "Index(['Row ID', 'Order ID', 'Ship Mode', 'Customer ID', 'Customer Name',\n",
       "       'Segment', 'Country', 'City', 'State', 'Postal Code', 'Region',\n",
       "       'Product ID', 'Product Name', 'Sales', 'Quantity', 'Discount', 'Profit',\n",
       "       'Order year', 'Order quarter', 'Ship year', 'Ship quarter',\n",
       "       'Main Category', 'Sub Category'],\n",
       "      dtype='object')"
      ]
     },
     "execution_count": 15,
     "metadata": {},
     "output_type": "execute_result"
    }
   ],
   "source": [
    "data.columns"
   ]
  },
  {
   "attachments": {},
   "cell_type": "markdown",
   "metadata": {},
   "source": [
    "<h3>Searching for nulls</h3>"
   ]
  },
  {
   "cell_type": "code",
   "execution_count": 16,
   "metadata": {},
   "outputs": [
    {
     "data": {
      "text/plain": [
       "Row ID           0\n",
       "Order ID         0\n",
       "Ship Mode        0\n",
       "Customer ID      0\n",
       "Customer Name    0\n",
       "Segment          0\n",
       "Country          0\n",
       "City             0\n",
       "State            0\n",
       "Postal Code      0\n",
       "Region           0\n",
       "Product ID       0\n",
       "Product Name     0\n",
       "Sales            0\n",
       "Quantity         0\n",
       "Discount         0\n",
       "Profit           0\n",
       "Order year       0\n",
       "Order quarter    0\n",
       "Ship year        0\n",
       "Ship quarter     0\n",
       "Main Category    0\n",
       "Sub Category     0\n",
       "dtype: int64"
      ]
     },
     "execution_count": 16,
     "metadata": {},
     "output_type": "execute_result"
    }
   ],
   "source": [
    "data.isna().sum()       #No nulls in the data"
   ]
  },
  {
   "attachments": {},
   "cell_type": "markdown",
   "metadata": {},
   "source": [
    "<h3>Outliers Searching</h3>"
   ]
  },
  {
   "cell_type": "code",
   "execution_count": 17,
   "metadata": {},
   "outputs": [
    {
     "name": "stdout",
     "output_type": "stream",
     "text": [
      "56       682.5168\n",
      "75     -2639.9912\n",
      "117    -1141.4700\n",
      "125     2239.9872\n",
      "171      700.9800\n",
      "          ...    \n",
      "7636    3177.4750\n",
      "7682     757.4112\n",
      "7722    4630.4755\n",
      "7741    1119.9968\n",
      "7764    1270.9900\n",
      "Name: Profit, Length: 94, dtype: float64\n"
     ]
    }
   ],
   "source": [
    "z_scores = zscore(data['Profit'])\n",
    "\n",
    "# Identify potential outliers based on z-scores\n",
    "outliers = data[abs(z_scores) > 3]  # Using a threshold of 3 for z-scores\n",
    "print(outliers['Profit'])"
   ]
  },
  {
   "attachments": {},
   "cell_type": "markdown",
   "metadata": {},
   "source": [
    "<h2>General Analysis</h2>"
   ]
  },
  {
   "cell_type": "code",
   "execution_count": 18,
   "metadata": {},
   "outputs": [
    {
     "data": {
      "text/plain": [
       "(array([ 0.,  1.,  0.,  3.,  2.,  1.,  0.,  0.,  0.,  0.,  0.,  2.,  2.,\n",
       "         1.,  1.,  0.,  0.,  1.,  0.,  1.,  1.,  1.,  0.,  1.,  0.,  1.,\n",
       "         1.,  1.,  1.,  0.,  2.,  0.,  2.,  2.,  1.,  0.,  1.,  0.,  0.,\n",
       "         0.,  0.,  1.,  0.,  0.,  0.,  0.,  1.,  0.,  2.,  0.,  0.,  0.,\n",
       "         0.,  0.,  2.,  0.,  1.,  0.,  0.,  0.,  1.,  1.,  0.,  1.,  1.,\n",
       "         0.,  0.,  0.,  0.,  1.,  0.,  0.,  0.,  1.,  0.,  1.,  0.,  1.,\n",
       "         2.,  0.,  1.,  0.,  0.,  0.,  0.,  3.,  0.,  0.,  0.,  0.,  1.,\n",
       "         0.,  1.,  0.,  0.,  1.,  0.,  0.,  0.,  1.,  0.,  0.,  0.,  1.,\n",
       "         0.,  0.,  0.,  0.,  0.,  1.,  0.,  1.,  1.,  1.,  1.,  2.,  1.,\n",
       "         0.,  0.,  1.,  3.,  0.,  2.,  0.,  0.,  1.,  1.,  0.,  0.,  0.,\n",
       "         1.,  1.,  0.,  0.,  2.,  0.,  0.,  0.,  0.,  0.,  4.,  0.,  0.,\n",
       "         1.,  0.,  1.,  0.,  1.,  0.,  1.,  1.,  0.,  1.,  1.,  0.,  0.,\n",
       "         0.,  0.,  1.,  3.,  2.,  1.,  1.,  1.,  1.,  0.,  0.,  2.,  2.,\n",
       "         1.,  0.,  0.,  0.,  0.,  1.,  1.,  2.,  2.,  0.,  0.,  0.,  0.,\n",
       "         0.,  2.,  3.,  1.,  0.,  0.,  1.,  0.,  1.,  0.,  0.,  0.,  0.,\n",
       "         1.,  1.,  0.,  0.,  0.,  2.,  0.,  0.,  1.,  1.,  2.,  1.,  1.,\n",
       "         1.,  1.,  1.,  2.,  0.,  0.,  0.,  1.,  1.,  1.,  1.,  1.,  0.,\n",
       "         0.,  0.,  3.,  0.,  1.,  0.,  4.,  1.,  0.,  0.,  2.,  0.,  2.,\n",
       "         1.,  3.,  2.,  1.,  2.,  1.,  2.,  1.,  1.,  1.,  0.,  1.,  1.,\n",
       "         0.,  2.,  1.,  0.,  0.,  2.,  0.,  0.,  2.,  2.,  1.,  2.,  1.,\n",
       "         1.,  0.,  0.,  2.,  3.,  1.,  3.,  3.,  3.,  1.,  4.,  0.,  0.,\n",
       "         2.,  0.,  2.,  0.,  0.,  3.,  5.,  2.,  1.,  0.,  0.,  2.,  2.,\n",
       "         3.,  3.,  0.,  0.,  0.,  0.,  2.,  1.,  0.,  0.,  2.,  1.,  0.,\n",
       "         1.,  1.,  0.,  2.,  0.,  1.,  3.,  0.,  0.,  1.,  1.,  1.,  1.,\n",
       "         0.,  0.,  1.,  1.,  1.,  2.,  4.,  3.,  4.,  0.,  1.,  2.,  0.,\n",
       "         2.,  4.,  0.,  2.,  2.,  2.,  2.,  1.,  2.,  1.,  2.,  2.,  2.,\n",
       "         5.,  0.,  3.,  3.,  2.,  2.,  3.,  2.,  0.,  1.,  3.,  2.,  3.,\n",
       "         1.,  6.,  5.,  4.,  4.,  3.,  2.,  6.,  0.,  2.,  5.,  0.,  2.,\n",
       "         1.,  5.,  6.,  1.,  1.,  2.,  3.,  2.,  2.,  4.,  3.,  4.,  2.,\n",
       "         5.,  5.,  3.,  4.,  3.,  3.,  0.,  1.,  1.,  6.,  1.,  1.,  3.,\n",
       "         2.,  2.,  2.,  2.,  5.,  2.,  6.,  3.,  3.,  5.,  5.,  3.,  5.,\n",
       "         2.,  3.,  3.,  0.,  4.,  4.,  9.,  5.,  5.,  6.,  3.,  5.,  3.,\n",
       "         3.,  5.,  3.,  2.,  4.,  3.,  8.,  1.,  6.,  6.,  7., 12.,  3.,\n",
       "         6., 10., 11.,  6.,  7.,  3., 11.,  5.,  4.,  1.,  7.,  5.,  2.,\n",
       "         8.,  3.,  4.,  4.,  3.,  6.,  7., 14.,  5.,  5.,  4.,  2., 14.,\n",
       "         5.,  7., 12.,  8.,  9., 12., 13., 10.,  7.,  9., 10.,  1., 14.,\n",
       "        13., 15.,  9.,  7.,  6.,  4.,  6., 13., 17., 16.,  6., 11., 13.,\n",
       "        13., 14., 14., 14., 10., 26., 16., 16., 18., 16.,  9., 20., 18.,\n",
       "         8., 10., 14.,  2.,  4.,  1., 64., 35., 55., 41., 54., 74., 51.,\n",
       "        62., 91., 59., 58., 79., 51., 73., 69., 69., 73., 76., 93., 62.,\n",
       "        64., 55., 62., 54., 44., 56., 58., 77., 62., 52., 51., 90., 63.,\n",
       "        51., 53., 49., 46., 41., 39., 37., 33., 44., 35., 45., 37., 44.,\n",
       "        71., 31., 48., 44., 23., 32., 36., 23., 31., 35., 23., 33., 33.,\n",
       "        26., 24., 19., 34., 26., 30., 23., 21., 24., 18., 28., 12., 26.,\n",
       "        18., 28., 17., 23., 21., 55., 20., 27., 22., 17., 13., 35., 11.,\n",
       "         9., 20., 12., 16., 23., 16., 24., 12., 21., 11., 11.,  8., 17.,\n",
       "        18., 20., 23.,  6., 15., 17., 15., 21., 10., 14., 18.,  8., 14.,\n",
       "        14., 18., 19., 15., 17., 17., 12., 11., 19.,  7.,  9., 10.,  1.,\n",
       "        18., 18.,  5., 13.,  5.,  5.,  7.,  7., 11.,  9., 15.,  6., 13.,\n",
       "        10.,  8., 12., 12.,  4., 10., 16., 10., 10., 12.,  9., 10., 10.,\n",
       "        10.,  8., 10.,  5.,  4., 16.,  5., 15.,  4.,  5.,  7.,  9.,  7.,\n",
       "         5.,  4.,  4.,  9., 10.,  8., 11.,  3.,  7.,  7.,  8., 11.,  6.,\n",
       "         7.,  2., 14., 13.,  3.,  5.,  6.,  4.,  7.,  4.,  2.,  3.,  9.,\n",
       "         7.,  9., 11.,  2.,  3.,  9.,  2.,  2.,  8.,  5.,  5.,  4.,  8.,\n",
       "         6.,  2.,  4.,  9.,  6.,  7.,  7., 15.,  5.,  3.,  2.,  1.,  4.,\n",
       "         6.,  3.,  5.,  5.,  5.,  1.,  3.,  4.,  0.,  5.,  2.,  8.,  9.,\n",
       "         2., 10.,  6.,  4.,  3.,  5.,  3.,  5.,  1.,  2.,  3., 12.,  1.,\n",
       "         6.,  9.,  2.,  8.,  2.,  4.,  6.,  3.,  6.,  5., 14.,  8.,  0.,\n",
       "         4.,  3.,  1.,  4.,  5.,  7.,  2.,  4., 10.,  9.,  4.,  4.,  7.,\n",
       "         4.,  2., 10.,  3.,  9.,  5.,  6.,  5.,  3.,  0.,  2.,  7.,  7.,\n",
       "         4.,  8.,  5.,  2.,  4.,  1.,  3.,  9.,  0.,  0.,  2.,  1.,  3.,\n",
       "         5.,  1.,  4.,  1.,  4.,  1.,  2.,  2., 10.,  8.,  1.,  2.,  0.,\n",
       "         7.,  0.,  0.,  0.,  4.,  4.,  1.,  4.,  7.,  2.,  0.,  1.,  4.,\n",
       "         6.,  3.,  1.,  2.,  7.,  0.,  0.,  3.,  2.,  1.,  3.,  2.,  1.,\n",
       "         4.,  4.,  1.,  4.,  1.,  2.,  2.,  4.,  5.,  3.,  2.,  1.,  9.,\n",
       "         4.,  0.,  0.,  4.,  4.,  9.,  3.,  5.,  1.,  2.,  1.,  4.,  1.,\n",
       "         2.,  4.,  0.,  0.,  5.,  3.,  3.,  1.,  1.,  5.,  0.,  0.,  1.,\n",
       "         1.,  2.,  1.,  7.,  2.,  1.,  5.,  6.,  2.,  3.,  6.,  0.,  4.,\n",
       "         2.,  1.,  1.,  3.,  6.,  2.,  1.,  1.,  2.,  5.,  7.,  1.,  0.,\n",
       "         0.,  2.,  6.,  2.,  2.,  1.,  7.,  3.,  5.,  1.,  3.,  1.,  1.,\n",
       "         1.,  3.,  1.,  0.,  1.,  0.,  6.,  1.,  2.,  6.,  3.,  2.,  6.,\n",
       "         1.,  2.,  1.,  3.,  2.,  0.,  5.,  0.,  7.,  0.,  0.,  0.,  1.,\n",
       "         2.,  2.,  1.,  3.,  4.,  2.,  0.,  2.,  0.,  0.,  5.,  2.,  1.,\n",
       "        11.,  0.,  2.,  0.,  4.,  2.,  1.,  1.,  0.,  4.,  6.,  1.,  5.,\n",
       "         0.,  0.,  1.,  0.,  1.,  2.,  2.,  1.,  0.,  1.,  3.,  0.,  1.,\n",
       "         1.,  0.,  2.,  2.,  1.,  0.,  1.,  2.,  0.,  1.,  5.,  1.,  1.,\n",
       "         1.,  1.,  2.,  0.,  2.,  0.,  0.,  0.,  3.,  3.,  0.,  1.]),\n",
       " array([-100. ,  -99.8,  -99.6, ...,   99.6,   99.8,  100. ]),\n",
       " <BarContainer object of 1000 artists>)"
      ]
     },
     "execution_count": 18,
     "metadata": {},
     "output_type": "execute_result"
    },
    {
     "data": {
      "image/png": "[encoded data removed]",
      "text/plain": [
       "<Figure size 640x480 with 1 Axes>"
      ]
     },
     "metadata": {},
     "output_type": "display_data"
    }
   ],
   "source": [
    "plt.hist(data[\"Profit\"],range=(-100,100),bins=1000)"
   ]
  },
  {
   "cell_type": "code",
   "execution_count": 19,
   "metadata": {},
   "outputs": [
    {
     "data": {
      "text/plain": [
       "Text(0, 0.5, 'Mean Profit')"
      ]
     },
     "execution_count": 19,
     "metadata": {},
     "output_type": "execute_result"
    },
    {
     "data": {
      "image/png": "[encoded data removed]",
      "text/plain": [
       "<Figure size 640x480 with 1 Axes>"
      ]
     },
     "metadata": {},
     "output_type": "display_data"
    }
   ],
   "source": [
    "plt.bar(data.groupby('Order quarter')['Profit'].mean().to_dict().keys(),data.groupby('Order quarter')['Profit'].mean().to_dict().values())\n",
    "plt.xticks([1,2,3,4],data[\"Order quarter\"].unique().sort())\n",
    "plt.xlabel(\"Quarter\")\n",
    "plt.ylabel(\"Mean Profit\")"
   ]
  },
  {
   "attachments": {},
   "cell_type": "markdown",
   "metadata": {},
   "source": [
    "<h3>Create Another Column \"Mean profit for each state\" and \"Mean profit for each customer\" (Customer_loyalty)</h3>"
   ]
  },
  {
   "cell_type": "code",
   "execution_count": 18,
   "metadata": {},
   "outputs": [],
   "source": [
    "mapping_dict=data.groupby(\"State\")[\"Profit\"].mean().to_dict()\n",
    "data['state_mean'] = data['State'].map(mapping_dict)"
   ]
  },
  {
   "cell_type": "code",
   "execution_count": 19,
   "metadata": {},
   "outputs": [
    {
     "data": {
      "text/html": [
       "<div>\n",
       "<style scoped>\n",
       "    .dataframe tbody tr th:only-of-type {\n",
       "        vertical-align: middle;\n",
       "    }\n",
       "\n",
       "    .dataframe tbody tr th {\n",
       "        vertical-align: top;\n",
       "    }\n",
       "\n",
       "    .dataframe thead th {\n",
       "        text-align: right;\n",
       "    }\n",
       "</style>\n",
       "<table border=\"1\" class=\"dataframe\">\n",
       "  <thead>\n",
       "    <tr style=\"text-align: right;\">\n",
       "      <th></th>\n",
       "      <th>state_mean</th>\n",
       "      <th>State</th>\n",
       "    </tr>\n",
       "  </thead>\n",
       "  <tbody>\n",
       "    <tr>\n",
       "      <th>0</th>\n",
       "      <td>66.225242</td>\n",
       "      <td>New York</td>\n",
       "    </tr>\n",
       "    <tr>\n",
       "      <th>1</th>\n",
       "      <td>62.855090</td>\n",
       "      <td>Indiana</td>\n",
       "    </tr>\n",
       "    <tr>\n",
       "      <th>2</th>\n",
       "      <td>37.685365</td>\n",
       "      <td>California</td>\n",
       "    </tr>\n",
       "    <tr>\n",
       "      <th>3</th>\n",
       "      <td>68.536951</td>\n",
       "      <td>Virginia</td>\n",
       "    </tr>\n",
       "    <tr>\n",
       "      <th>4</th>\n",
       "      <td>-26.915380</td>\n",
       "      <td>Texas</td>\n",
       "    </tr>\n",
       "    <tr>\n",
       "      <th>...</th>\n",
       "      <td>...</td>\n",
       "      <td>...</td>\n",
       "    </tr>\n",
       "    <tr>\n",
       "      <th>7990</th>\n",
       "      <td>-24.956068</td>\n",
       "      <td>Ohio</td>\n",
       "    </tr>\n",
       "    <tr>\n",
       "      <th>7991</th>\n",
       "      <td>37.685365</td>\n",
       "      <td>California</td>\n",
       "    </tr>\n",
       "    <tr>\n",
       "      <th>7992</th>\n",
       "      <td>66.225242</td>\n",
       "      <td>New York</td>\n",
       "    </tr>\n",
       "    <tr>\n",
       "      <th>7993</th>\n",
       "      <td>37.685365</td>\n",
       "      <td>California</td>\n",
       "    </tr>\n",
       "    <tr>\n",
       "      <th>7994</th>\n",
       "      <td>66.225242</td>\n",
       "      <td>New York</td>\n",
       "    </tr>\n",
       "  </tbody>\n",
       "</table>\n",
       "<p>7995 rows × 2 columns</p>\n",
       "</div>"
      ],
      "text/plain": [
       "      state_mean       State\n",
       "0      66.225242    New York\n",
       "1      62.855090     Indiana\n",
       "2      37.685365  California\n",
       "3      68.536951    Virginia\n",
       "4     -26.915380       Texas\n",
       "...          ...         ...\n",
       "7990  -24.956068        Ohio\n",
       "7991   37.685365  California\n",
       "7992   66.225242    New York\n",
       "7993   37.685365  California\n",
       "7994   66.225242    New York\n",
       "\n",
       "[7995 rows x 2 columns]"
      ]
     },
     "execution_count": 19,
     "metadata": {},
     "output_type": "execute_result"
    }
   ],
   "source": [
    "data[['state_mean','State']]            #Same as Transform_ordinal_means function"
   ]
  },
  {
   "cell_type": "code",
   "execution_count": 20,
   "metadata": {},
   "outputs": [
    {
     "data": {
      "text/plain": [
       "0.21440769026938017"
      ]
     },
     "execution_count": 20,
     "metadata": {},
     "output_type": "execute_result"
    }
   ],
   "source": [
    "data[\"state_mean\"].corr(data[\"Profit\"])     #Gets 21% Correlation With the target variable\n"
   ]
  },
  {
   "cell_type": "code",
   "execution_count": 21,
   "metadata": {},
   "outputs": [],
   "source": [
    "data.drop(columns=[\"Row ID\",\"Order ID\",\"Customer ID\",\"City\",\"Postal Code\",\"Ship year\",\"Ship quarter\",\"Product Name\"],inplace=True)"
   ]
  },
  {
   "cell_type": "code",
   "execution_count": 22,
   "metadata": {},
   "outputs": [],
   "source": [
    "data[\"customer_loyalty\"]=data.groupby(\"Customer Name\")[\"Profit\"].transform(\"mean\")"
   ]
  },
  {
   "cell_type": "code",
   "execution_count": 23,
   "metadata": {},
   "outputs": [
    {
     "data": {
      "text/plain": [
       "0.3293185171329078"
      ]
     },
     "execution_count": 23,
     "metadata": {},
     "output_type": "execute_result"
    }
   ],
   "source": [
    "data[\"customer_loyalty\"].corr(data[\"Profit\"])   #High Correlation between customer loyalty and profit"
   ]
  },
  {
   "cell_type": "code",
   "execution_count": 24,
   "metadata": {},
   "outputs": [
    {
     "data": {
      "text/plain": [
       "0.5715250812257774"
      ]
     },
     "execution_count": 24,
     "metadata": {},
     "output_type": "execute_result"
    }
   ],
   "source": [
    "data[\"Sales\"].corr(data[\"Profit\"])"
   ]
  },
  {
   "cell_type": "code",
   "execution_count": 25,
   "metadata": {},
   "outputs": [
    {
     "data": {
      "text/plain": [
       "Index(['Ship Mode', 'Customer Name', 'Segment', 'Country', 'State', 'Region',\n",
       "       'Product ID', 'Sales', 'Quantity', 'Discount', 'Profit', 'Order year',\n",
       "       'Order quarter', 'Main Category', 'Sub Category', 'state_mean',\n",
       "       'customer_loyalty'],\n",
       "      dtype='object')"
      ]
     },
     "execution_count": 25,
     "metadata": {},
     "output_type": "execute_result"
    }
   ],
   "source": [
    "data.columns"
   ]
  },
  {
   "cell_type": "code",
   "execution_count": 26,
   "metadata": {},
   "outputs": [
    {
     "data": {
      "text/plain": [
       "0.012600317679478052"
      ]
     },
     "execution_count": 26,
     "metadata": {},
     "output_type": "execute_result"
    }
   ],
   "source": [
    "data[\"Order year\"].corr(data[\"Profit\"])     #Order year has a bad correlation , To be Dropped"
   ]
  },
  {
   "cell_type": "code",
   "execution_count": 27,
   "metadata": {},
   "outputs": [
    {
     "data": {
      "text/plain": [
       "Ship Mode\n",
       "Same Day          24.580392\n",
       "Second Class      27.360317\n",
       "Standard Class    29.375327\n",
       "First Class       38.695110\n",
       "Name: Profit, dtype: float64"
      ]
     },
     "execution_count": 27,
     "metadata": {},
     "output_type": "execute_result"
    }
   ],
   "source": [
    "ship_map=data.groupby(\"Ship Mode\")[\"Profit\"].mean().sort_values()\n",
    "ship_map"
   ]
  },
  {
   "cell_type": "code",
   "execution_count": 28,
   "metadata": {},
   "outputs": [
    {
     "data": {
      "text/plain": [
       "{'Same Day': 0, 'Second Class': 1, 'Standard Class': 2, 'First Class': 3}"
      ]
     },
     "execution_count": 28,
     "metadata": {},
     "output_type": "execute_result"
    }
   ],
   "source": [
    "ship_map={k:v for v,k in enumerate(ship_map.keys())} \n",
    "ship_map"
   ]
  },
  {
   "cell_type": "code",
   "execution_count": 29,
   "metadata": {},
   "outputs": [],
   "source": [
    "data['ship_priority'] = data['Ship Mode'].map(ship_map) # same as Transform_ordinal function"
   ]
  },
  {
   "cell_type": "code",
   "execution_count": 30,
   "metadata": {},
   "outputs": [
    {
     "data": {
      "text/html": [
       "<div>\n",
       "<style scoped>\n",
       "    .dataframe tbody tr th:only-of-type {\n",
       "        vertical-align: middle;\n",
       "    }\n",
       "\n",
       "    .dataframe tbody tr th {\n",
       "        vertical-align: top;\n",
       "    }\n",
       "\n",
       "    .dataframe thead th {\n",
       "        text-align: right;\n",
       "    }\n",
       "</style>\n",
       "<table border=\"1\" class=\"dataframe\">\n",
       "  <thead>\n",
       "    <tr style=\"text-align: right;\">\n",
       "      <th></th>\n",
       "      <th>ship_priority</th>\n",
       "      <th>Profit</th>\n",
       "      <th>Ship Mode</th>\n",
       "    </tr>\n",
       "  </thead>\n",
       "  <tbody>\n",
       "    <tr>\n",
       "      <th>0</th>\n",
       "      <td>0</td>\n",
       "      <td>5.9970</td>\n",
       "      <td>Same Day</td>\n",
       "    </tr>\n",
       "    <tr>\n",
       "      <th>1</th>\n",
       "      <td>2</td>\n",
       "      <td>60.4224</td>\n",
       "      <td>Standard Class</td>\n",
       "    </tr>\n",
       "    <tr>\n",
       "      <th>2</th>\n",
       "      <td>2</td>\n",
       "      <td>4.6488</td>\n",
       "      <td>Standard Class</td>\n",
       "    </tr>\n",
       "    <tr>\n",
       "      <th>3</th>\n",
       "      <td>2</td>\n",
       "      <td>15.5520</td>\n",
       "      <td>Standard Class</td>\n",
       "    </tr>\n",
       "    <tr>\n",
       "      <th>4</th>\n",
       "      <td>2</td>\n",
       "      <td>-15.5904</td>\n",
       "      <td>Standard Class</td>\n",
       "    </tr>\n",
       "    <tr>\n",
       "      <th>...</th>\n",
       "      <td>...</td>\n",
       "      <td>...</td>\n",
       "      <td>...</td>\n",
       "    </tr>\n",
       "    <tr>\n",
       "      <th>7990</th>\n",
       "      <td>3</td>\n",
       "      <td>2.9145</td>\n",
       "      <td>First Class</td>\n",
       "    </tr>\n",
       "    <tr>\n",
       "      <th>7991</th>\n",
       "      <td>3</td>\n",
       "      <td>12.2247</td>\n",
       "      <td>First Class</td>\n",
       "    </tr>\n",
       "    <tr>\n",
       "      <th>7992</th>\n",
       "      <td>2</td>\n",
       "      <td>6.0030</td>\n",
       "      <td>Standard Class</td>\n",
       "    </tr>\n",
       "    <tr>\n",
       "      <th>7993</th>\n",
       "      <td>2</td>\n",
       "      <td>21.5964</td>\n",
       "      <td>Standard Class</td>\n",
       "    </tr>\n",
       "    <tr>\n",
       "      <th>7994</th>\n",
       "      <td>2</td>\n",
       "      <td>7.4952</td>\n",
       "      <td>Standard Class</td>\n",
       "    </tr>\n",
       "  </tbody>\n",
       "</table>\n",
       "<p>7995 rows × 3 columns</p>\n",
       "</div>"
      ],
      "text/plain": [
       "      ship_priority   Profit       Ship Mode\n",
       "0                 0   5.9970        Same Day\n",
       "1                 2  60.4224  Standard Class\n",
       "2                 2   4.6488  Standard Class\n",
       "3                 2  15.5520  Standard Class\n",
       "4                 2 -15.5904  Standard Class\n",
       "...             ...      ...             ...\n",
       "7990              3   2.9145     First Class\n",
       "7991              3  12.2247     First Class\n",
       "7992              2   6.0030  Standard Class\n",
       "7993              2  21.5964  Standard Class\n",
       "7994              2   7.4952  Standard Class\n",
       "\n",
       "[7995 rows x 3 columns]"
      ]
     },
     "execution_count": 30,
     "metadata": {},
     "output_type": "execute_result"
    }
   ],
   "source": [
    "data[[\"ship_priority\",\"Profit\",\"Ship Mode\"]]"
   ]
  },
  {
   "cell_type": "code",
   "execution_count": 31,
   "metadata": {},
   "outputs": [
    {
     "data": {
      "text/plain": [
       "0.015395039276256964"
      ]
     },
     "execution_count": 31,
     "metadata": {},
     "output_type": "execute_result"
    }
   ],
   "source": [
    "data[\"ship_priority\"].corr(data[\"Profit\"])      #Ship priority has Bad correlation, To be Dropped"
   ]
  },
  {
   "cell_type": "code",
   "execution_count": 32,
   "metadata": {},
   "outputs": [
    {
     "data": {
      "text/plain": [
       "{'Tables': 0,\n",
       " 'Bookcases': 1,\n",
       " 'Supplies': 2,\n",
       " 'Fasteners': 3,\n",
       " 'Art': 4,\n",
       " 'Furnishings': 5,\n",
       " 'Labels': 6,\n",
       " 'Paper': 7,\n",
       " 'Envelopes': 8,\n",
       " 'Storage': 9,\n",
       " 'Binders': 10,\n",
       " 'Appliances': 11,\n",
       " 'Chairs': 12,\n",
       " 'Phones': 13,\n",
       " 'Accessories': 14,\n",
       " 'Machines': 15,\n",
       " 'Copiers': 16}"
      ]
     },
     "execution_count": 32,
     "metadata": {},
     "output_type": "execute_result"
    }
   ],
   "source": [
    "sub_cat_dict=data.groupby(\"Sub Category\")[\"Profit\"].mean().sort_values()\n",
    "sub_cat_dict={k:v for v,k in enumerate(sub_cat_dict.keys())}\n",
    "sub_cat_dict"
   ]
  },
  {
   "cell_type": "code",
   "execution_count": 33,
   "metadata": {},
   "outputs": [
    {
     "data": {
      "text/plain": [
       "0.13655603382651996"
      ]
     },
     "execution_count": 33,
     "metadata": {},
     "output_type": "execute_result"
    }
   ],
   "source": [
    "data[\"sub_cat_encoded\"]=data[\"Sub Category\"].map(sub_cat_dict)\n",
    "data[\"sub_cat_encoded\"].corr(data[\"Profit\"])"
   ]
  },
  {
   "cell_type": "code",
   "execution_count": 34,
   "metadata": {},
   "outputs": [
    {
     "data": {
      "text/plain": [
       "{'State': 3.0788218592530043e-52,\n",
       " 'Segment': 0.16303478233943347,\n",
       " 'Customer Name': 0.022875415355986837,\n",
       " 'Region': 0.008360591767109989,\n",
       " 'Order quarter': 0.5262944043748036,\n",
       " 'Main Category': 3.0370642607455033e-21,\n",
       " 'Sub Category': 8.083173426152449e-147,\n",
       " 'Product ID': 0.0}"
      ]
     },
     "execution_count": 34,
     "metadata": {},
     "output_type": "execute_result"
    }
   ],
   "source": [
    "anova_test(data,[\"State\",\"Segment\",\"Customer Name\",\"Region\",\"Order quarter\",\"Main Category\",\"Sub Category\",\"Product ID\"],\"Profit\")"
   ]
  },
  {
   "attachments": {},
   "cell_type": "markdown",
   "metadata": {},
   "source": [
    "<h3>Drop HIGH P-values Data</h3>"
   ]
  },
  {
   "cell_type": "code",
   "execution_count": 35,
   "metadata": {},
   "outputs": [],
   "source": [
    "data.drop(columns=[\"Country\",\"Segment\"],inplace=True)"
   ]
  },
  {
   "cell_type": "code",
   "execution_count": 36,
   "metadata": {},
   "outputs": [
    {
     "data": {
      "text/plain": [
       "Index(['Ship Mode', 'Customer Name', 'State', 'Region', 'Product ID', 'Sales',\n",
       "       'Quantity', 'Discount', 'Profit', 'Order year', 'Order quarter',\n",
       "       'Main Category', 'Sub Category', 'state_mean', 'customer_loyalty',\n",
       "       'ship_priority', 'sub_cat_encoded'],\n",
       "      dtype='object')"
      ]
     },
     "execution_count": 36,
     "metadata": {},
     "output_type": "execute_result"
    }
   ],
   "source": [
    "data.columns"
   ]
  },
  {
   "cell_type": "code",
   "execution_count": 37,
   "metadata": {},
   "outputs": [
    {
     "data": {
      "text/html": [
       "<div>\n",
       "<style scoped>\n",
       "    .dataframe tbody tr th:only-of-type {\n",
       "        vertical-align: middle;\n",
       "    }\n",
       "\n",
       "    .dataframe tbody tr th {\n",
       "        vertical-align: top;\n",
       "    }\n",
       "\n",
       "    .dataframe thead th {\n",
       "        text-align: right;\n",
       "    }\n",
       "</style>\n",
       "<table border=\"1\" class=\"dataframe\">\n",
       "  <thead>\n",
       "    <tr style=\"text-align: right;\">\n",
       "      <th></th>\n",
       "      <th>Sales</th>\n",
       "      <th>Quantity</th>\n",
       "      <th>Discount</th>\n",
       "      <th>Profit</th>\n",
       "      <th>state_mean</th>\n",
       "      <th>customer_loyalty</th>\n",
       "      <th>ship_priority</th>\n",
       "      <th>sub_cat_encoded</th>\n",
       "    </tr>\n",
       "  </thead>\n",
       "  <tbody>\n",
       "    <tr>\n",
       "      <th>0</th>\n",
       "      <td>119.940</td>\n",
       "      <td>6</td>\n",
       "      <td>0.0</td>\n",
       "      <td>5.9970</td>\n",
       "      <td>66.225242</td>\n",
       "      <td>-2.023000</td>\n",
       "      <td>0</td>\n",
       "      <td>13</td>\n",
       "    </tr>\n",
       "    <tr>\n",
       "      <th>1</th>\n",
       "      <td>125.880</td>\n",
       "      <td>6</td>\n",
       "      <td>0.0</td>\n",
       "      <td>60.4224</td>\n",
       "      <td>62.855090</td>\n",
       "      <td>35.348275</td>\n",
       "      <td>2</td>\n",
       "      <td>10</td>\n",
       "    </tr>\n",
       "    <tr>\n",
       "      <th>2</th>\n",
       "      <td>14.304</td>\n",
       "      <td>6</td>\n",
       "      <td>0.2</td>\n",
       "      <td>4.6488</td>\n",
       "      <td>37.685365</td>\n",
       "      <td>9.258253</td>\n",
       "      <td>2</td>\n",
       "      <td>10</td>\n",
       "    </tr>\n",
       "    <tr>\n",
       "      <th>3</th>\n",
       "      <td>32.400</td>\n",
       "      <td>5</td>\n",
       "      <td>0.0</td>\n",
       "      <td>15.5520</td>\n",
       "      <td>68.536951</td>\n",
       "      <td>4.654125</td>\n",
       "      <td>2</td>\n",
       "      <td>7</td>\n",
       "    </tr>\n",
       "    <tr>\n",
       "      <th>4</th>\n",
       "      <td>77.952</td>\n",
       "      <td>3</td>\n",
       "      <td>0.2</td>\n",
       "      <td>-15.5904</td>\n",
       "      <td>-26.915380</td>\n",
       "      <td>17.475229</td>\n",
       "      <td>2</td>\n",
       "      <td>9</td>\n",
       "    </tr>\n",
       "    <tr>\n",
       "      <th>...</th>\n",
       "      <td>...</td>\n",
       "      <td>...</td>\n",
       "      <td>...</td>\n",
       "      <td>...</td>\n",
       "      <td>...</td>\n",
       "      <td>...</td>\n",
       "      <td>...</td>\n",
       "      <td>...</td>\n",
       "    </tr>\n",
       "    <tr>\n",
       "      <th>7990</th>\n",
       "      <td>8.040</td>\n",
       "      <td>5</td>\n",
       "      <td>0.2</td>\n",
       "      <td>2.9145</td>\n",
       "      <td>-24.956068</td>\n",
       "      <td>-122.522389</td>\n",
       "      <td>3</td>\n",
       "      <td>3</td>\n",
       "    </tr>\n",
       "    <tr>\n",
       "      <th>7991</th>\n",
       "      <td>26.010</td>\n",
       "      <td>9</td>\n",
       "      <td>0.0</td>\n",
       "      <td>12.2247</td>\n",
       "      <td>37.685365</td>\n",
       "      <td>37.428837</td>\n",
       "      <td>3</td>\n",
       "      <td>6</td>\n",
       "    </tr>\n",
       "    <tr>\n",
       "      <th>7992</th>\n",
       "      <td>13.050</td>\n",
       "      <td>5</td>\n",
       "      <td>0.0</td>\n",
       "      <td>6.0030</td>\n",
       "      <td>66.225242</td>\n",
       "      <td>-1.279672</td>\n",
       "      <td>2</td>\n",
       "      <td>6</td>\n",
       "    </tr>\n",
       "    <tr>\n",
       "      <th>7993</th>\n",
       "      <td>59.990</td>\n",
       "      <td>7</td>\n",
       "      <td>0.0</td>\n",
       "      <td>21.5964</td>\n",
       "      <td>37.685365</td>\n",
       "      <td>4.916386</td>\n",
       "      <td>2</td>\n",
       "      <td>5</td>\n",
       "    </tr>\n",
       "    <tr>\n",
       "      <th>7994</th>\n",
       "      <td>20.820</td>\n",
       "      <td>3</td>\n",
       "      <td>0.0</td>\n",
       "      <td>7.4952</td>\n",
       "      <td>66.225242</td>\n",
       "      <td>20.689769</td>\n",
       "      <td>2</td>\n",
       "      <td>4</td>\n",
       "    </tr>\n",
       "  </tbody>\n",
       "</table>\n",
       "<p>7995 rows × 8 columns</p>\n",
       "</div>"
      ],
      "text/plain": [
       "        Sales  Quantity  Discount   Profit  state_mean  customer_loyalty   \n",
       "0     119.940         6       0.0   5.9970   66.225242         -2.023000  \\\n",
       "1     125.880         6       0.0  60.4224   62.855090         35.348275   \n",
       "2      14.304         6       0.2   4.6488   37.685365          9.258253   \n",
       "3      32.400         5       0.0  15.5520   68.536951          4.654125   \n",
       "4      77.952         3       0.2 -15.5904  -26.915380         17.475229   \n",
       "...       ...       ...       ...      ...         ...               ...   \n",
       "7990    8.040         5       0.2   2.9145  -24.956068       -122.522389   \n",
       "7991   26.010         9       0.0  12.2247   37.685365         37.428837   \n",
       "7992   13.050         5       0.0   6.0030   66.225242         -1.279672   \n",
       "7993   59.990         7       0.0  21.5964   37.685365          4.916386   \n",
       "7994   20.820         3       0.0   7.4952   66.225242         20.689769   \n",
       "\n",
       "      ship_priority  sub_cat_encoded  \n",
       "0                 0               13  \n",
       "1                 2               10  \n",
       "2                 2               10  \n",
       "3                 2                7  \n",
       "4                 2                9  \n",
       "...             ...              ...  \n",
       "7990              3                3  \n",
       "7991              3                6  \n",
       "7992              2                6  \n",
       "7993              2                5  \n",
       "7994              2                4  \n",
       "\n",
       "[7995 rows x 8 columns]"
      ]
     },
     "execution_count": 37,
     "metadata": {},
     "output_type": "execute_result"
    }
   ],
   "source": [
    "filter_numerical(data.drop(columns=[\"Order year\",\"Order quarter\"]))"
   ]
  },
  {
   "cell_type": "code",
   "execution_count": 157,
   "metadata": {},
   "outputs": [
    {
     "data": {
      "text/plain": [
       "<Axes: >"
      ]
     },
     "execution_count": 157,
     "metadata": {},
     "output_type": "execute_result"
    },
    {
     "data": {
      "image/png": "[encoded data removed]",
      "text/plain": [
       "<Figure size 640x480 with 2 Axes>"
      ]
     },
     "metadata": {},
     "output_type": "display_data"
    }
   ],
   "source": [
    "sns.heatmap(filter_numerical(data).corr().round(2), annot=True, cmap='crest', center=0)\n"
   ]
  },
  {
   "cell_type": "code",
   "execution_count": 38,
   "metadata": {},
   "outputs": [
    {
     "data": {
      "text/plain": [
       "Index(['Sales', 'Quantity', 'Discount', 'Profit', 'Order year',\n",
       "       'Order quarter', 'state_mean', 'customer_loyalty', 'ship_priority',\n",
       "       'sub_cat_encoded'],\n",
       "      dtype='object')"
      ]
     },
     "execution_count": 38,
     "metadata": {},
     "output_type": "execute_result"
    }
   ],
   "source": [
    "corr=filter_numerical(data).corr().round(2)\n",
    "corr.columns"
   ]
  },
  {
   "cell_type": "code",
   "execution_count": 39,
   "metadata": {},
   "outputs": [],
   "source": [
    "final_df_num=feature_select_numerical(data,\"Profit\")"
   ]
  },
  {
   "cell_type": "code",
   "execution_count": 40,
   "metadata": {},
   "outputs": [
    {
     "data": {
      "text/html": [
       "<div>\n",
       "<style scoped>\n",
       "    .dataframe tbody tr th:only-of-type {\n",
       "        vertical-align: middle;\n",
       "    }\n",
       "\n",
       "    .dataframe tbody tr th {\n",
       "        vertical-align: top;\n",
       "    }\n",
       "\n",
       "    .dataframe thead th {\n",
       "        text-align: right;\n",
       "    }\n",
       "</style>\n",
       "<table border=\"1\" class=\"dataframe\">\n",
       "  <thead>\n",
       "    <tr style=\"text-align: right;\">\n",
       "      <th></th>\n",
       "      <th>Sales</th>\n",
       "      <th>Quantity</th>\n",
       "      <th>Discount</th>\n",
       "      <th>Profit</th>\n",
       "      <th>state_mean</th>\n",
       "      <th>customer_loyalty</th>\n",
       "      <th>sub_cat_encoded</th>\n",
       "    </tr>\n",
       "  </thead>\n",
       "  <tbody>\n",
       "    <tr>\n",
       "      <th>0</th>\n",
       "      <td>119.940</td>\n",
       "      <td>6</td>\n",
       "      <td>0.0</td>\n",
       "      <td>5.9970</td>\n",
       "      <td>66.225242</td>\n",
       "      <td>-2.023000</td>\n",
       "      <td>13</td>\n",
       "    </tr>\n",
       "    <tr>\n",
       "      <th>1</th>\n",
       "      <td>125.880</td>\n",
       "      <td>6</td>\n",
       "      <td>0.0</td>\n",
       "      <td>60.4224</td>\n",
       "      <td>62.855090</td>\n",
       "      <td>35.348275</td>\n",
       "      <td>10</td>\n",
       "    </tr>\n",
       "    <tr>\n",
       "      <th>2</th>\n",
       "      <td>14.304</td>\n",
       "      <td>6</td>\n",
       "      <td>0.2</td>\n",
       "      <td>4.6488</td>\n",
       "      <td>37.685365</td>\n",
       "      <td>9.258253</td>\n",
       "      <td>10</td>\n",
       "    </tr>\n",
       "    <tr>\n",
       "      <th>3</th>\n",
       "      <td>32.400</td>\n",
       "      <td>5</td>\n",
       "      <td>0.0</td>\n",
       "      <td>15.5520</td>\n",
       "      <td>68.536951</td>\n",
       "      <td>4.654125</td>\n",
       "      <td>7</td>\n",
       "    </tr>\n",
       "    <tr>\n",
       "      <th>4</th>\n",
       "      <td>77.952</td>\n",
       "      <td>3</td>\n",
       "      <td>0.2</td>\n",
       "      <td>-15.5904</td>\n",
       "      <td>-26.915380</td>\n",
       "      <td>17.475229</td>\n",
       "      <td>9</td>\n",
       "    </tr>\n",
       "    <tr>\n",
       "      <th>...</th>\n",
       "      <td>...</td>\n",
       "      <td>...</td>\n",
       "      <td>...</td>\n",
       "      <td>...</td>\n",
       "      <td>...</td>\n",
       "      <td>...</td>\n",
       "      <td>...</td>\n",
       "    </tr>\n",
       "    <tr>\n",
       "      <th>7990</th>\n",
       "      <td>8.040</td>\n",
       "      <td>5</td>\n",
       "      <td>0.2</td>\n",
       "      <td>2.9145</td>\n",
       "      <td>-24.956068</td>\n",
       "      <td>-122.522389</td>\n",
       "      <td>3</td>\n",
       "    </tr>\n",
       "    <tr>\n",
       "      <th>7991</th>\n",
       "      <td>26.010</td>\n",
       "      <td>9</td>\n",
       "      <td>0.0</td>\n",
       "      <td>12.2247</td>\n",
       "      <td>37.685365</td>\n",
       "      <td>37.428837</td>\n",
       "      <td>6</td>\n",
       "    </tr>\n",
       "    <tr>\n",
       "      <th>7992</th>\n",
       "      <td>13.050</td>\n",
       "      <td>5</td>\n",
       "      <td>0.0</td>\n",
       "      <td>6.0030</td>\n",
       "      <td>66.225242</td>\n",
       "      <td>-1.279672</td>\n",
       "      <td>6</td>\n",
       "    </tr>\n",
       "    <tr>\n",
       "      <th>7993</th>\n",
       "      <td>59.990</td>\n",
       "      <td>7</td>\n",
       "      <td>0.0</td>\n",
       "      <td>21.5964</td>\n",
       "      <td>37.685365</td>\n",
       "      <td>4.916386</td>\n",
       "      <td>5</td>\n",
       "    </tr>\n",
       "    <tr>\n",
       "      <th>7994</th>\n",
       "      <td>20.820</td>\n",
       "      <td>3</td>\n",
       "      <td>0.0</td>\n",
       "      <td>7.4952</td>\n",
       "      <td>66.225242</td>\n",
       "      <td>20.689769</td>\n",
       "      <td>4</td>\n",
       "    </tr>\n",
       "  </tbody>\n",
       "</table>\n",
       "<p>7995 rows × 7 columns</p>\n",
       "</div>"
      ],
      "text/plain": [
       "        Sales  Quantity  Discount   Profit  state_mean  customer_loyalty   \n",
       "0     119.940         6       0.0   5.9970   66.225242         -2.023000  \\\n",
       "1     125.880         6       0.0  60.4224   62.855090         35.348275   \n",
       "2      14.304         6       0.2   4.6488   37.685365          9.258253   \n",
       "3      32.400         5       0.0  15.5520   68.536951          4.654125   \n",
       "4      77.952         3       0.2 -15.5904  -26.915380         17.475229   \n",
       "...       ...       ...       ...      ...         ...               ...   \n",
       "7990    8.040         5       0.2   2.9145  -24.956068       -122.522389   \n",
       "7991   26.010         9       0.0  12.2247   37.685365         37.428837   \n",
       "7992   13.050         5       0.0   6.0030   66.225242         -1.279672   \n",
       "7993   59.990         7       0.0  21.5964   37.685365          4.916386   \n",
       "7994   20.820         3       0.0   7.4952   66.225242         20.689769   \n",
       "\n",
       "      sub_cat_encoded  \n",
       "0                  13  \n",
       "1                  10  \n",
       "2                  10  \n",
       "3                   7  \n",
       "4                   9  \n",
       "...               ...  \n",
       "7990                3  \n",
       "7991                6  \n",
       "7992                6  \n",
       "7993                5  \n",
       "7994                4  \n",
       "\n",
       "[7995 rows x 7 columns]"
      ]
     },
     "execution_count": 40,
     "metadata": {},
     "output_type": "execute_result"
    }
   ],
   "source": [
    "final_df_num"
   ]
  },
  {
   "cell_type": "code",
   "execution_count": 41,
   "metadata": {},
   "outputs": [
    {
     "data": {
      "text/html": [
       "<div>\n",
       "<style scoped>\n",
       "    .dataframe tbody tr th:only-of-type {\n",
       "        vertical-align: middle;\n",
       "    }\n",
       "\n",
       "    .dataframe tbody tr th {\n",
       "        vertical-align: top;\n",
       "    }\n",
       "\n",
       "    .dataframe thead th {\n",
       "        text-align: right;\n",
       "    }\n",
       "</style>\n",
       "<table border=\"1\" class=\"dataframe\">\n",
       "  <thead>\n",
       "    <tr style=\"text-align: right;\">\n",
       "      <th></th>\n",
       "      <th>Ship Mode</th>\n",
       "      <th>Customer Name</th>\n",
       "      <th>State</th>\n",
       "      <th>Region</th>\n",
       "      <th>Product ID</th>\n",
       "      <th>Main Category</th>\n",
       "      <th>Sub Category</th>\n",
       "    </tr>\n",
       "  </thead>\n",
       "  <tbody>\n",
       "    <tr>\n",
       "      <th>0</th>\n",
       "      <td>Same Day</td>\n",
       "      <td>Charlotte Melton</td>\n",
       "      <td>New York</td>\n",
       "      <td>East</td>\n",
       "      <td>TEC-PH-10002583</td>\n",
       "      <td>Technology</td>\n",
       "      <td>Phones</td>\n",
       "    </tr>\n",
       "    <tr>\n",
       "      <th>1</th>\n",
       "      <td>Standard Class</td>\n",
       "      <td>Patrick O'Donnell</td>\n",
       "      <td>Indiana</td>\n",
       "      <td>Central</td>\n",
       "      <td>OFF-BI-10001989</td>\n",
       "      <td>Office Supplies</td>\n",
       "      <td>Binders</td>\n",
       "    </tr>\n",
       "    <tr>\n",
       "      <th>2</th>\n",
       "      <td>Standard Class</td>\n",
       "      <td>Darrin Sayre</td>\n",
       "      <td>California</td>\n",
       "      <td>West</td>\n",
       "      <td>OFF-BI-10002609</td>\n",
       "      <td>Office Supplies</td>\n",
       "      <td>Binders</td>\n",
       "    </tr>\n",
       "    <tr>\n",
       "      <th>3</th>\n",
       "      <td>Standard Class</td>\n",
       "      <td>Mike Kennedy</td>\n",
       "      <td>Virginia</td>\n",
       "      <td>South</td>\n",
       "      <td>OFF-PA-10004983</td>\n",
       "      <td>Office Supplies</td>\n",
       "      <td>Paper</td>\n",
       "    </tr>\n",
       "    <tr>\n",
       "      <th>4</th>\n",
       "      <td>Standard Class</td>\n",
       "      <td>Lindsay Shagiari</td>\n",
       "      <td>Texas</td>\n",
       "      <td>Central</td>\n",
       "      <td>OFF-ST-10002583</td>\n",
       "      <td>Office Supplies</td>\n",
       "      <td>Storage</td>\n",
       "    </tr>\n",
       "    <tr>\n",
       "      <th>...</th>\n",
       "      <td>...</td>\n",
       "      <td>...</td>\n",
       "      <td>...</td>\n",
       "      <td>...</td>\n",
       "      <td>...</td>\n",
       "      <td>...</td>\n",
       "      <td>...</td>\n",
       "    </tr>\n",
       "    <tr>\n",
       "      <th>7990</th>\n",
       "      <td>First Class</td>\n",
       "      <td>Victoria Pisteka</td>\n",
       "      <td>Ohio</td>\n",
       "      <td>East</td>\n",
       "      <td>OFF-FA-10002988</td>\n",
       "      <td>Office Supplies</td>\n",
       "      <td>Fasteners</td>\n",
       "    </tr>\n",
       "    <tr>\n",
       "      <th>7991</th>\n",
       "      <td>First Class</td>\n",
       "      <td>Steven Cartwright</td>\n",
       "      <td>California</td>\n",
       "      <td>West</td>\n",
       "      <td>OFF-LA-10004689</td>\n",
       "      <td>Office Supplies</td>\n",
       "      <td>Labels</td>\n",
       "    </tr>\n",
       "    <tr>\n",
       "      <th>7992</th>\n",
       "      <td>Standard Class</td>\n",
       "      <td>Karl Braun</td>\n",
       "      <td>New York</td>\n",
       "      <td>East</td>\n",
       "      <td>OFF-LA-10000262</td>\n",
       "      <td>Office Supplies</td>\n",
       "      <td>Labels</td>\n",
       "    </tr>\n",
       "    <tr>\n",
       "      <th>7993</th>\n",
       "      <td>Standard Class</td>\n",
       "      <td>Christy Brittain</td>\n",
       "      <td>California</td>\n",
       "      <td>West</td>\n",
       "      <td>FUR-FU-10000719</td>\n",
       "      <td>Furniture</td>\n",
       "      <td>Furnishings</td>\n",
       "    </tr>\n",
       "    <tr>\n",
       "      <th>7994</th>\n",
       "      <td>Standard Class</td>\n",
       "      <td>Todd Boyes</td>\n",
       "      <td>New York</td>\n",
       "      <td>East</td>\n",
       "      <td>OFF-AR-10001860</td>\n",
       "      <td>Office Supplies</td>\n",
       "      <td>Art</td>\n",
       "    </tr>\n",
       "  </tbody>\n",
       "</table>\n",
       "<p>7995 rows × 7 columns</p>\n",
       "</div>"
      ],
      "text/plain": [
       "           Ship Mode      Customer Name       State   Region       Product ID   \n",
       "0           Same Day   Charlotte Melton    New York     East  TEC-PH-10002583  \\\n",
       "1     Standard Class  Patrick O'Donnell     Indiana  Central  OFF-BI-10001989   \n",
       "2     Standard Class       Darrin Sayre  California     West  OFF-BI-10002609   \n",
       "3     Standard Class       Mike Kennedy    Virginia    South  OFF-PA-10004983   \n",
       "4     Standard Class   Lindsay Shagiari       Texas  Central  OFF-ST-10002583   \n",
       "...              ...                ...         ...      ...              ...   \n",
       "7990     First Class   Victoria Pisteka        Ohio     East  OFF-FA-10002988   \n",
       "7991     First Class  Steven Cartwright  California     West  OFF-LA-10004689   \n",
       "7992  Standard Class         Karl Braun    New York     East  OFF-LA-10000262   \n",
       "7993  Standard Class   Christy Brittain  California     West  FUR-FU-10000719   \n",
       "7994  Standard Class         Todd Boyes    New York     East  OFF-AR-10001860   \n",
       "\n",
       "        Main Category Sub Category  \n",
       "0          Technology       Phones  \n",
       "1     Office Supplies      Binders  \n",
       "2     Office Supplies      Binders  \n",
       "3     Office Supplies        Paper  \n",
       "4     Office Supplies      Storage  \n",
       "...               ...          ...  \n",
       "7990  Office Supplies    Fasteners  \n",
       "7991  Office Supplies       Labels  \n",
       "7992  Office Supplies       Labels  \n",
       "7993        Furniture  Furnishings  \n",
       "7994  Office Supplies          Art  \n",
       "\n",
       "[7995 rows x 7 columns]"
      ]
     },
     "execution_count": 41,
     "metadata": {},
     "output_type": "execute_result"
    }
   ],
   "source": [
    "filter_categorial(data)"
   ]
  },
  {
   "attachments": {},
   "cell_type": "markdown",
   "metadata": {},
   "source": [
    "<h3>Another Encoding Method <b>try for every CATEGORICAL FEATURE in regression</b> </h3>"
   ]
  },
  {
   "cell_type": "code",
   "execution_count": 46,
   "metadata": {},
   "outputs": [
    {
     "data": {
      "text/plain": [
       "0       49.472034\n",
       "1       28.607205\n",
       "2       28.607205\n",
       "3       24.131058\n",
       "4       27.473830\n",
       "          ...    \n",
       "7990     4.460996\n",
       "7991    15.893989\n",
       "7992    15.893989\n",
       "7993    12.628857\n",
       "7994     8.085378\n",
       "Name: sub_cat_means, Length: 7995, dtype: float64"
      ]
     },
     "execution_count": 46,
     "metadata": {},
     "output_type": "execute_result"
    }
   ],
   "source": [
    "data[\"sub_cat_means\"]=data.groupby(\"Sub Category\")[\"Profit\"].transform(\"mean\")      #Sub category means (Same as transform_ordinal_means)\n",
    "data[\"sub_cat_means\"]"
   ]
  },
  {
   "cell_type": "code",
   "execution_count": 47,
   "metadata": {},
   "outputs": [
    {
     "data": {
      "text/plain": [
       "0.29722364533606654"
      ]
     },
     "execution_count": 47,
     "metadata": {},
     "output_type": "execute_result"
    }
   ],
   "source": [
    "data[\"sub_cat_means\"].corr(data[\"Profit\"])      \n",
    "#GETS HIGH CORRELATION But i thik something is wrong by transforming each feature with its means (Try in regression)"
   ]
  },
  {
   "cell_type": "code",
   "execution_count": 48,
   "metadata": {},
   "outputs": [],
   "source": [
    "data.drop(columns=[\"sub_cat_means\"],inplace=True)"
   ]
  },
  {
   "attachments": {},
   "cell_type": "markdown",
   "metadata": {},
   "source": [
    "<h3>Encode the lower P-values Columns with one-hot-encoding <b>try both one-hot and transform ordinal  </h3>"
   ]
  },
  {
   "cell_type": "code",
   "execution_count": 42,
   "metadata": {},
   "outputs": [],
   "source": [
    "final_cat_df=one_hot_encode_columns([\"Main Category\",\"Region\"],data)  #Categorical features"
   ]
  },
  {
   "cell_type": "code",
   "execution_count": 43,
   "metadata": {},
   "outputs": [
    {
     "data": {
      "text/plain": [
       "Main Category_Furniture          int32\n",
       "Main Category_Office Supplies    int32\n",
       "Main Category_Technology         int32\n",
       "Region_Central                   int32\n",
       "Region_East                      int32\n",
       "Region_South                     int32\n",
       "Region_West                      int32\n",
       "dtype: object"
      ]
     },
     "execution_count": 43,
     "metadata": {},
     "output_type": "execute_result"
    }
   ],
   "source": [
    "final_cat_df.dtypes"
   ]
  },
  {
   "cell_type": "code",
   "execution_count": 44,
   "metadata": {},
   "outputs": [
    {
     "data": {
      "text/html": [
       "<div>\n",
       "<style scoped>\n",
       "    .dataframe tbody tr th:only-of-type {\n",
       "        vertical-align: middle;\n",
       "    }\n",
       "\n",
       "    .dataframe tbody tr th {\n",
       "        vertical-align: top;\n",
       "    }\n",
       "\n",
       "    .dataframe thead th {\n",
       "        text-align: right;\n",
       "    }\n",
       "</style>\n",
       "<table border=\"1\" class=\"dataframe\">\n",
       "  <thead>\n",
       "    <tr style=\"text-align: right;\">\n",
       "      <th></th>\n",
       "      <th>Sales</th>\n",
       "      <th>Quantity</th>\n",
       "      <th>Discount</th>\n",
       "      <th>Profit</th>\n",
       "      <th>state_mean</th>\n",
       "      <th>customer_loyalty</th>\n",
       "      <th>sub_cat_encoded</th>\n",
       "    </tr>\n",
       "  </thead>\n",
       "  <tbody>\n",
       "    <tr>\n",
       "      <th>0</th>\n",
       "      <td>119.940</td>\n",
       "      <td>6</td>\n",
       "      <td>0.0</td>\n",
       "      <td>5.9970</td>\n",
       "      <td>66.225242</td>\n",
       "      <td>-2.023000</td>\n",
       "      <td>13</td>\n",
       "    </tr>\n",
       "    <tr>\n",
       "      <th>1</th>\n",
       "      <td>125.880</td>\n",
       "      <td>6</td>\n",
       "      <td>0.0</td>\n",
       "      <td>60.4224</td>\n",
       "      <td>62.855090</td>\n",
       "      <td>35.348275</td>\n",
       "      <td>10</td>\n",
       "    </tr>\n",
       "    <tr>\n",
       "      <th>2</th>\n",
       "      <td>14.304</td>\n",
       "      <td>6</td>\n",
       "      <td>0.2</td>\n",
       "      <td>4.6488</td>\n",
       "      <td>37.685365</td>\n",
       "      <td>9.258253</td>\n",
       "      <td>10</td>\n",
       "    </tr>\n",
       "    <tr>\n",
       "      <th>3</th>\n",
       "      <td>32.400</td>\n",
       "      <td>5</td>\n",
       "      <td>0.0</td>\n",
       "      <td>15.5520</td>\n",
       "      <td>68.536951</td>\n",
       "      <td>4.654125</td>\n",
       "      <td>7</td>\n",
       "    </tr>\n",
       "    <tr>\n",
       "      <th>4</th>\n",
       "      <td>77.952</td>\n",
       "      <td>3</td>\n",
       "      <td>0.2</td>\n",
       "      <td>-15.5904</td>\n",
       "      <td>-26.915380</td>\n",
       "      <td>17.475229</td>\n",
       "      <td>9</td>\n",
       "    </tr>\n",
       "    <tr>\n",
       "      <th>...</th>\n",
       "      <td>...</td>\n",
       "      <td>...</td>\n",
       "      <td>...</td>\n",
       "      <td>...</td>\n",
       "      <td>...</td>\n",
       "      <td>...</td>\n",
       "      <td>...</td>\n",
       "    </tr>\n",
       "    <tr>\n",
       "      <th>7990</th>\n",
       "      <td>8.040</td>\n",
       "      <td>5</td>\n",
       "      <td>0.2</td>\n",
       "      <td>2.9145</td>\n",
       "      <td>-24.956068</td>\n",
       "      <td>-122.522389</td>\n",
       "      <td>3</td>\n",
       "    </tr>\n",
       "    <tr>\n",
       "      <th>7991</th>\n",
       "      <td>26.010</td>\n",
       "      <td>9</td>\n",
       "      <td>0.0</td>\n",
       "      <td>12.2247</td>\n",
       "      <td>37.685365</td>\n",
       "      <td>37.428837</td>\n",
       "      <td>6</td>\n",
       "    </tr>\n",
       "    <tr>\n",
       "      <th>7992</th>\n",
       "      <td>13.050</td>\n",
       "      <td>5</td>\n",
       "      <td>0.0</td>\n",
       "      <td>6.0030</td>\n",
       "      <td>66.225242</td>\n",
       "      <td>-1.279672</td>\n",
       "      <td>6</td>\n",
       "    </tr>\n",
       "    <tr>\n",
       "      <th>7993</th>\n",
       "      <td>59.990</td>\n",
       "      <td>7</td>\n",
       "      <td>0.0</td>\n",
       "      <td>21.5964</td>\n",
       "      <td>37.685365</td>\n",
       "      <td>4.916386</td>\n",
       "      <td>5</td>\n",
       "    </tr>\n",
       "    <tr>\n",
       "      <th>7994</th>\n",
       "      <td>20.820</td>\n",
       "      <td>3</td>\n",
       "      <td>0.0</td>\n",
       "      <td>7.4952</td>\n",
       "      <td>66.225242</td>\n",
       "      <td>20.689769</td>\n",
       "      <td>4</td>\n",
       "    </tr>\n",
       "  </tbody>\n",
       "</table>\n",
       "<p>7995 rows × 7 columns</p>\n",
       "</div>"
      ],
      "text/plain": [
       "        Sales  Quantity  Discount   Profit  state_mean  customer_loyalty   \n",
       "0     119.940         6       0.0   5.9970   66.225242         -2.023000  \\\n",
       "1     125.880         6       0.0  60.4224   62.855090         35.348275   \n",
       "2      14.304         6       0.2   4.6488   37.685365          9.258253   \n",
       "3      32.400         5       0.0  15.5520   68.536951          4.654125   \n",
       "4      77.952         3       0.2 -15.5904  -26.915380         17.475229   \n",
       "...       ...       ...       ...      ...         ...               ...   \n",
       "7990    8.040         5       0.2   2.9145  -24.956068       -122.522389   \n",
       "7991   26.010         9       0.0  12.2247   37.685365         37.428837   \n",
       "7992   13.050         5       0.0   6.0030   66.225242         -1.279672   \n",
       "7993   59.990         7       0.0  21.5964   37.685365          4.916386   \n",
       "7994   20.820         3       0.0   7.4952   66.225242         20.689769   \n",
       "\n",
       "      sub_cat_encoded  \n",
       "0                  13  \n",
       "1                  10  \n",
       "2                  10  \n",
       "3                   7  \n",
       "4                   9  \n",
       "...               ...  \n",
       "7990                3  \n",
       "7991                6  \n",
       "7992                6  \n",
       "7993                5  \n",
       "7994                4  \n",
       "\n",
       "[7995 rows x 7 columns]"
      ]
     },
     "execution_count": 44,
     "metadata": {},
     "output_type": "execute_result"
    }
   ],
   "source": [
    "final_df_num        #Numerical Values"
   ]
  },
  {
   "cell_type": "code",
   "execution_count": 45,
   "metadata": {},
   "outputs": [],
   "source": [
    "final_df=pd.concat([final_df_num,final_cat_df],axis=1)\n"
   ]
  },
  {
   "cell_type": "code",
   "execution_count": 46,
   "metadata": {},
   "outputs": [
    {
     "data": {
      "text/plain": [
       "Index(['Sales', 'Quantity', 'Discount', 'Profit', 'state_mean',\n",
       "       'customer_loyalty', 'sub_cat_encoded', 'Main Category_Furniture',\n",
       "       'Main Category_Office Supplies', 'Main Category_Technology',\n",
       "       'Region_Central', 'Region_East', 'Region_South', 'Region_West'],\n",
       "      dtype='object')"
      ]
     },
     "execution_count": 46,
     "metadata": {},
     "output_type": "execute_result"
    }
   ],
   "source": [
    "final_df.columns"
   ]
  },
  {
   "attachments": {},
   "cell_type": "markdown",
   "metadata": {},
   "source": [
    "<h3>Explain Output of both feature-encoding functions</h3>"
   ]
  },
  {
   "cell_type": "code",
   "execution_count": 55,
   "metadata": {},
   "outputs": [
    {
     "data": {
      "text/plain": [
       "0       66.225242\n",
       "1       62.855090\n",
       "2       37.685365\n",
       "3       68.536951\n",
       "4      -26.915380\n",
       "          ...    \n",
       "7990   -24.956068\n",
       "7991    37.685365\n",
       "7992    66.225242\n",
       "7993    37.685365\n",
       "7994    66.225242\n",
       "Name: Profit, Length: 7995, dtype: float64"
      ]
     },
     "execution_count": 55,
     "metadata": {},
     "output_type": "execute_result"
    }
   ],
   "source": [
    "transform_ordinal_means(data,\"State\",\"Profit\")"
   ]
  },
  {
   "cell_type": "code",
   "execution_count": 55,
   "metadata": {},
   "outputs": [
    {
     "data": {
      "text/plain": [
       "{'Tennessee': 0,\n",
       " 'North Carolina': 1,\n",
       " 'Colorado': 2,\n",
       " 'Texas': 3,\n",
       " 'Ohio': 4,\n",
       " 'Pennsylvania': 5,\n",
       " 'Illinois': 6,\n",
       " 'West Virginia': 7,\n",
       " 'Arizona': 8,\n",
       " 'Oregon': 9,\n",
       " 'Florida': 10,\n",
       " 'Kansas': 11,\n",
       " 'South Dakota': 12,\n",
       " 'New Mexico': 13,\n",
       " 'North Dakota': 14,\n",
       " 'South Carolina': 15,\n",
       " 'California': 16,\n",
       " 'Iowa': 17,\n",
       " 'Utah': 18,\n",
       " 'Idaho': 19,\n",
       " 'Connecticut': 20,\n",
       " 'New Hampshire': 21,\n",
       " 'Massachusetts': 22,\n",
       " 'Louisiana': 23,\n",
       " 'Maine': 24,\n",
       " 'Arkansas': 25,\n",
       " 'Mississippi': 26,\n",
       " 'Missouri': 27,\n",
       " 'Indiana': 28,\n",
       " 'Nebraska': 29,\n",
       " 'New York': 30,\n",
       " 'Wisconsin': 31,\n",
       " 'Virginia': 32,\n",
       " 'Maryland': 33,\n",
       " 'Washington': 34,\n",
       " 'Kentucky': 35,\n",
       " 'New Jersey': 36,\n",
       " 'Oklahoma': 37,\n",
       " 'District of Columbia': 38,\n",
       " 'Alabama': 39,\n",
       " 'Wyoming': 40,\n",
       " 'Nevada': 41,\n",
       " 'Georgia': 42,\n",
       " 'Michigan': 43,\n",
       " 'Delaware': 44,\n",
       " 'Minnesota': 45,\n",
       " 'Rhode Island': 46,\n",
       " 'Montana': 47,\n",
       " 'Vermont': 48}"
      ]
     },
     "execution_count": 55,
     "metadata": {},
     "output_type": "execute_result"
    }
   ],
   "source": [
    "transform_ordinal(data,\"State\",\"Profit\")"
   ]
  },
  {
   "attachments": {},
   "cell_type": "markdown",
   "metadata": {},
   "source": [
    "<h3>Turn dataframe into CSV</h3>"
   ]
  },
  {
   "cell_type": "code",
   "execution_count": 179,
   "metadata": {},
   "outputs": [],
   "source": [
    "final_df.to_csv(\"best_features.csv\",index=False)"
   ]
  },
  {
   "cell_type": "code",
   "execution_count": 194,
   "metadata": {},
   "outputs": [
    {
     "data": {
      "text/html": [
       "<div>\n",
       "<style scoped>\n",
       "    .dataframe tbody tr th:only-of-type {\n",
       "        vertical-align: middle;\n",
       "    }\n",
       "\n",
       "    .dataframe tbody tr th {\n",
       "        vertical-align: top;\n",
       "    }\n",
       "\n",
       "    .dataframe thead th {\n",
       "        text-align: right;\n",
       "    }\n",
       "</style>\n",
       "<table border=\"1\" class=\"dataframe\">\n",
       "  <thead>\n",
       "    <tr style=\"text-align: right;\">\n",
       "      <th></th>\n",
       "      <th>Sales</th>\n",
       "      <th>Quantity</th>\n",
       "      <th>Discount</th>\n",
       "      <th>Profit</th>\n",
       "      <th>state_mean</th>\n",
       "      <th>customer_loyalty</th>\n",
       "      <th>sub_cat_encoded</th>\n",
       "      <th>Main Category_Furniture</th>\n",
       "      <th>Main Category_Office Supplies</th>\n",
       "      <th>Main Category_Technology</th>\n",
       "      <th>Region_Central</th>\n",
       "      <th>Region_East</th>\n",
       "      <th>Region_South</th>\n",
       "      <th>Region_West</th>\n",
       "    </tr>\n",
       "  </thead>\n",
       "  <tbody>\n",
       "    <tr>\n",
       "      <th>0</th>\n",
       "      <td>119.940</td>\n",
       "      <td>6</td>\n",
       "      <td>0.0</td>\n",
       "      <td>5.9970</td>\n",
       "      <td>66.225242</td>\n",
       "      <td>-2.023000</td>\n",
       "      <td>13</td>\n",
       "      <td>0</td>\n",
       "      <td>0</td>\n",
       "      <td>1</td>\n",
       "      <td>0</td>\n",
       "      <td>1</td>\n",
       "      <td>0</td>\n",
       "      <td>0</td>\n",
       "    </tr>\n",
       "    <tr>\n",
       "      <th>1</th>\n",
       "      <td>125.880</td>\n",
       "      <td>6</td>\n",
       "      <td>0.0</td>\n",
       "      <td>60.4224</td>\n",
       "      <td>62.855090</td>\n",
       "      <td>35.348275</td>\n",
       "      <td>10</td>\n",
       "      <td>0</td>\n",
       "      <td>1</td>\n",
       "      <td>0</td>\n",
       "      <td>1</td>\n",
       "      <td>0</td>\n",
       "      <td>0</td>\n",
       "      <td>0</td>\n",
       "    </tr>\n",
       "    <tr>\n",
       "      <th>2</th>\n",
       "      <td>14.304</td>\n",
       "      <td>6</td>\n",
       "      <td>0.2</td>\n",
       "      <td>4.6488</td>\n",
       "      <td>37.685365</td>\n",
       "      <td>9.258253</td>\n",
       "      <td>10</td>\n",
       "      <td>0</td>\n",
       "      <td>1</td>\n",
       "      <td>0</td>\n",
       "      <td>0</td>\n",
       "      <td>0</td>\n",
       "      <td>0</td>\n",
       "      <td>1</td>\n",
       "    </tr>\n",
       "    <tr>\n",
       "      <th>3</th>\n",
       "      <td>32.400</td>\n",
       "      <td>5</td>\n",
       "      <td>0.0</td>\n",
       "      <td>15.5520</td>\n",
       "      <td>68.536951</td>\n",
       "      <td>4.654125</td>\n",
       "      <td>7</td>\n",
       "      <td>0</td>\n",
       "      <td>1</td>\n",
       "      <td>0</td>\n",
       "      <td>0</td>\n",
       "      <td>0</td>\n",
       "      <td>1</td>\n",
       "      <td>0</td>\n",
       "    </tr>\n",
       "    <tr>\n",
       "      <th>4</th>\n",
       "      <td>77.952</td>\n",
       "      <td>3</td>\n",
       "      <td>0.2</td>\n",
       "      <td>-15.5904</td>\n",
       "      <td>-26.915380</td>\n",
       "      <td>17.475229</td>\n",
       "      <td>9</td>\n",
       "      <td>0</td>\n",
       "      <td>1</td>\n",
       "      <td>0</td>\n",
       "      <td>1</td>\n",
       "      <td>0</td>\n",
       "      <td>0</td>\n",
       "      <td>0</td>\n",
       "    </tr>\n",
       "    <tr>\n",
       "      <th>...</th>\n",
       "      <td>...</td>\n",
       "      <td>...</td>\n",
       "      <td>...</td>\n",
       "      <td>...</td>\n",
       "      <td>...</td>\n",
       "      <td>...</td>\n",
       "      <td>...</td>\n",
       "      <td>...</td>\n",
       "      <td>...</td>\n",
       "      <td>...</td>\n",
       "      <td>...</td>\n",
       "      <td>...</td>\n",
       "      <td>...</td>\n",
       "      <td>...</td>\n",
       "    </tr>\n",
       "    <tr>\n",
       "      <th>7990</th>\n",
       "      <td>8.040</td>\n",
       "      <td>5</td>\n",
       "      <td>0.2</td>\n",
       "      <td>2.9145</td>\n",
       "      <td>-24.956068</td>\n",
       "      <td>-122.522389</td>\n",
       "      <td>3</td>\n",
       "      <td>0</td>\n",
       "      <td>1</td>\n",
       "      <td>0</td>\n",
       "      <td>0</td>\n",
       "      <td>1</td>\n",
       "      <td>0</td>\n",
       "      <td>0</td>\n",
       "    </tr>\n",
       "    <tr>\n",
       "      <th>7991</th>\n",
       "      <td>26.010</td>\n",
       "      <td>9</td>\n",
       "      <td>0.0</td>\n",
       "      <td>12.2247</td>\n",
       "      <td>37.685365</td>\n",
       "      <td>37.428837</td>\n",
       "      <td>6</td>\n",
       "      <td>0</td>\n",
       "      <td>1</td>\n",
       "      <td>0</td>\n",
       "      <td>0</td>\n",
       "      <td>0</td>\n",
       "      <td>0</td>\n",
       "      <td>1</td>\n",
       "    </tr>\n",
       "    <tr>\n",
       "      <th>7992</th>\n",
       "      <td>13.050</td>\n",
       "      <td>5</td>\n",
       "      <td>0.0</td>\n",
       "      <td>6.0030</td>\n",
       "      <td>66.225242</td>\n",
       "      <td>-1.279672</td>\n",
       "      <td>6</td>\n",
       "      <td>0</td>\n",
       "      <td>1</td>\n",
       "      <td>0</td>\n",
       "      <td>0</td>\n",
       "      <td>1</td>\n",
       "      <td>0</td>\n",
       "      <td>0</td>\n",
       "    </tr>\n",
       "    <tr>\n",
       "      <th>7993</th>\n",
       "      <td>59.990</td>\n",
       "      <td>7</td>\n",
       "      <td>0.0</td>\n",
       "      <td>21.5964</td>\n",
       "      <td>37.685365</td>\n",
       "      <td>4.916386</td>\n",
       "      <td>5</td>\n",
       "      <td>1</td>\n",
       "      <td>0</td>\n",
       "      <td>0</td>\n",
       "      <td>0</td>\n",
       "      <td>0</td>\n",
       "      <td>0</td>\n",
       "      <td>1</td>\n",
       "    </tr>\n",
       "    <tr>\n",
       "      <th>7994</th>\n",
       "      <td>20.820</td>\n",
       "      <td>3</td>\n",
       "      <td>0.0</td>\n",
       "      <td>7.4952</td>\n",
       "      <td>66.225242</td>\n",
       "      <td>20.689769</td>\n",
       "      <td>4</td>\n",
       "      <td>0</td>\n",
       "      <td>1</td>\n",
       "      <td>0</td>\n",
       "      <td>0</td>\n",
       "      <td>1</td>\n",
       "      <td>0</td>\n",
       "      <td>0</td>\n",
       "    </tr>\n",
       "  </tbody>\n",
       "</table>\n",
       "<p>7995 rows × 14 columns</p>\n",
       "</div>"
      ],
      "text/plain": [
       "        Sales  Quantity  Discount   Profit  state_mean  customer_loyalty   \n",
       "0     119.940         6       0.0   5.9970   66.225242         -2.023000  \\\n",
       "1     125.880         6       0.0  60.4224   62.855090         35.348275   \n",
       "2      14.304         6       0.2   4.6488   37.685365          9.258253   \n",
       "3      32.400         5       0.0  15.5520   68.536951          4.654125   \n",
       "4      77.952         3       0.2 -15.5904  -26.915380         17.475229   \n",
       "...       ...       ...       ...      ...         ...               ...   \n",
       "7990    8.040         5       0.2   2.9145  -24.956068       -122.522389   \n",
       "7991   26.010         9       0.0  12.2247   37.685365         37.428837   \n",
       "7992   13.050         5       0.0   6.0030   66.225242         -1.279672   \n",
       "7993   59.990         7       0.0  21.5964   37.685365          4.916386   \n",
       "7994   20.820         3       0.0   7.4952   66.225242         20.689769   \n",
       "\n",
       "      sub_cat_encoded  Main Category_Furniture  Main Category_Office Supplies   \n",
       "0                  13                        0                              0  \\\n",
       "1                  10                        0                              1   \n",
       "2                  10                        0                              1   \n",
       "3                   7                        0                              1   \n",
       "4                   9                        0                              1   \n",
       "...               ...                      ...                            ...   \n",
       "7990                3                        0                              1   \n",
       "7991                6                        0                              1   \n",
       "7992                6                        0                              1   \n",
       "7993                5                        1                              0   \n",
       "7994                4                        0                              1   \n",
       "\n",
       "      Main Category_Technology  Region_Central  Region_East  Region_South   \n",
       "0                            1               0            1             0  \\\n",
       "1                            0               1            0             0   \n",
       "2                            0               0            0             0   \n",
       "3                            0               0            0             1   \n",
       "4                            0               1            0             0   \n",
       "...                        ...             ...          ...           ...   \n",
       "7990                         0               0            1             0   \n",
       "7991                         0               0            0             0   \n",
       "7992                         0               0            1             0   \n",
       "7993                         0               0            0             0   \n",
       "7994                         0               0            1             0   \n",
       "\n",
       "      Region_West  \n",
       "0               0  \n",
       "1               0  \n",
       "2               1  \n",
       "3               0  \n",
       "4               0  \n",
       "...           ...  \n",
       "7990            0  \n",
       "7991            1  \n",
       "7992            0  \n",
       "7993            1  \n",
       "7994            0  \n",
       "\n",
       "[7995 rows x 14 columns]"
      ]
     },
     "execution_count": 194,
     "metadata": {},
     "output_type": "execute_result"
    }
   ],
   "source": [
    "final_df"
   ]
  },
  {
   "cell_type": "code",
   "execution_count": 47,
   "metadata": {},
   "outputs": [],
   "source": [
    "final_df_norm=normalize_feature(final_df)\n",
    "X_op1=final_df.drop(columns=[\"Profit\"])\n",
    "Y_op1=final_df[\"Profit\"]"
   ]
  },
  {
   "cell_type": "code",
   "execution_count": 48,
   "metadata": {},
   "outputs": [],
   "source": [
    "X_train1,X_test1,Y_train1,Y_test1=train_test_split(X_op1,Y_op1,test_size=0.2,random_state=42)"
   ]
  },
  {
   "cell_type": "code",
   "execution_count": 58,
   "metadata": {},
   "outputs": [
    {
     "data": {
      "text/html": [
       "<div>\n",
       "<style scoped>\n",
       "    .dataframe tbody tr th:only-of-type {\n",
       "        vertical-align: middle;\n",
       "    }\n",
       "\n",
       "    .dataframe tbody tr th {\n",
       "        vertical-align: top;\n",
       "    }\n",
       "\n",
       "    .dataframe thead th {\n",
       "        text-align: right;\n",
       "    }\n",
       "</style>\n",
       "<table border=\"1\" class=\"dataframe\">\n",
       "  <thead>\n",
       "    <tr style=\"text-align: right;\">\n",
       "      <th></th>\n",
       "      <th>Sales</th>\n",
       "      <th>Quantity</th>\n",
       "      <th>Discount</th>\n",
       "      <th>state_mean</th>\n",
       "      <th>customer_loyalty</th>\n",
       "      <th>sub_cat_encoded</th>\n",
       "      <th>Main Category_Furniture</th>\n",
       "      <th>Main Category_Office Supplies</th>\n",
       "      <th>Main Category_Technology</th>\n",
       "      <th>Region_Central</th>\n",
       "      <th>Region_East</th>\n",
       "      <th>Region_South</th>\n",
       "      <th>Region_West</th>\n",
       "    </tr>\n",
       "  </thead>\n",
       "  <tbody>\n",
       "    <tr>\n",
       "      <th>5487</th>\n",
       "      <td>5.640</td>\n",
       "      <td>3</td>\n",
       "      <td>0.0</td>\n",
       "      <td>100.241852</td>\n",
       "      <td>22.378300</td>\n",
       "      <td>10</td>\n",
       "      <td>0</td>\n",
       "      <td>1</td>\n",
       "      <td>0</td>\n",
       "      <td>0</td>\n",
       "      <td>0</td>\n",
       "      <td>1</td>\n",
       "      <td>0</td>\n",
       "    </tr>\n",
       "    <tr>\n",
       "      <th>2577</th>\n",
       "      <td>31.104</td>\n",
       "      <td>6</td>\n",
       "      <td>0.2</td>\n",
       "      <td>-24.956068</td>\n",
       "      <td>23.388259</td>\n",
       "      <td>7</td>\n",
       "      <td>0</td>\n",
       "      <td>1</td>\n",
       "      <td>0</td>\n",
       "      <td>0</td>\n",
       "      <td>1</td>\n",
       "      <td>0</td>\n",
       "      <td>0</td>\n",
       "    </tr>\n",
       "    <tr>\n",
       "      <th>3692</th>\n",
       "      <td>128.850</td>\n",
       "      <td>3</td>\n",
       "      <td>0.0</td>\n",
       "      <td>50.863920</td>\n",
       "      <td>-2.941147</td>\n",
       "      <td>13</td>\n",
       "      <td>0</td>\n",
       "      <td>0</td>\n",
       "      <td>1</td>\n",
       "      <td>0</td>\n",
       "      <td>1</td>\n",
       "      <td>0</td>\n",
       "      <td>0</td>\n",
       "    </tr>\n",
       "    <tr>\n",
       "      <th>5918</th>\n",
       "      <td>269.980</td>\n",
       "      <td>2</td>\n",
       "      <td>0.0</td>\n",
       "      <td>64.248610</td>\n",
       "      <td>36.447300</td>\n",
       "      <td>13</td>\n",
       "      <td>0</td>\n",
       "      <td>0</td>\n",
       "      <td>1</td>\n",
       "      <td>1</td>\n",
       "      <td>0</td>\n",
       "      <td>0</td>\n",
       "      <td>0</td>\n",
       "    </tr>\n",
       "    <tr>\n",
       "      <th>7562</th>\n",
       "      <td>115.360</td>\n",
       "      <td>7</td>\n",
       "      <td>0.0</td>\n",
       "      <td>82.080005</td>\n",
       "      <td>-34.777609</td>\n",
       "      <td>14</td>\n",
       "      <td>0</td>\n",
       "      <td>0</td>\n",
       "      <td>1</td>\n",
       "      <td>0</td>\n",
       "      <td>1</td>\n",
       "      <td>0</td>\n",
       "      <td>0</td>\n",
       "    </tr>\n",
       "    <tr>\n",
       "      <th>...</th>\n",
       "      <td>...</td>\n",
       "      <td>...</td>\n",
       "      <td>...</td>\n",
       "      <td>...</td>\n",
       "      <td>...</td>\n",
       "      <td>...</td>\n",
       "      <td>...</td>\n",
       "      <td>...</td>\n",
       "      <td>...</td>\n",
       "      <td>...</td>\n",
       "      <td>...</td>\n",
       "      <td>...</td>\n",
       "      <td>...</td>\n",
       "    </tr>\n",
       "    <tr>\n",
       "      <th>1079</th>\n",
       "      <td>45.680</td>\n",
       "      <td>2</td>\n",
       "      <td>0.0</td>\n",
       "      <td>75.591956</td>\n",
       "      <td>16.419270</td>\n",
       "      <td>7</td>\n",
       "      <td>0</td>\n",
       "      <td>1</td>\n",
       "      <td>0</td>\n",
       "      <td>0</td>\n",
       "      <td>0</td>\n",
       "      <td>1</td>\n",
       "      <td>0</td>\n",
       "    </tr>\n",
       "    <tr>\n",
       "      <th>6573</th>\n",
       "      <td>2.610</td>\n",
       "      <td>1</td>\n",
       "      <td>0.0</td>\n",
       "      <td>108.775088</td>\n",
       "      <td>31.095184</td>\n",
       "      <td>6</td>\n",
       "      <td>0</td>\n",
       "      <td>1</td>\n",
       "      <td>0</td>\n",
       "      <td>1</td>\n",
       "      <td>0</td>\n",
       "      <td>0</td>\n",
       "      <td>0</td>\n",
       "    </tr>\n",
       "    <tr>\n",
       "      <th>1115</th>\n",
       "      <td>71.970</td>\n",
       "      <td>3</td>\n",
       "      <td>0.0</td>\n",
       "      <td>37.685365</td>\n",
       "      <td>23.324029</td>\n",
       "      <td>8</td>\n",
       "      <td>0</td>\n",
       "      <td>1</td>\n",
       "      <td>0</td>\n",
       "      <td>0</td>\n",
       "      <td>0</td>\n",
       "      <td>0</td>\n",
       "      <td>1</td>\n",
       "    </tr>\n",
       "    <tr>\n",
       "      <th>4747</th>\n",
       "      <td>64.140</td>\n",
       "      <td>3</td>\n",
       "      <td>0.0</td>\n",
       "      <td>66.225242</td>\n",
       "      <td>26.118240</td>\n",
       "      <td>4</td>\n",
       "      <td>0</td>\n",
       "      <td>1</td>\n",
       "      <td>0</td>\n",
       "      <td>0</td>\n",
       "      <td>1</td>\n",
       "      <td>0</td>\n",
       "      <td>0</td>\n",
       "    </tr>\n",
       "    <tr>\n",
       "      <th>6733</th>\n",
       "      <td>39.840</td>\n",
       "      <td>8</td>\n",
       "      <td>0.0</td>\n",
       "      <td>37.685365</td>\n",
       "      <td>20.699222</td>\n",
       "      <td>6</td>\n",
       "      <td>0</td>\n",
       "      <td>1</td>\n",
       "      <td>0</td>\n",
       "      <td>0</td>\n",
       "      <td>0</td>\n",
       "      <td>0</td>\n",
       "      <td>1</td>\n",
       "    </tr>\n",
       "  </tbody>\n",
       "</table>\n",
       "<p>1599 rows × 13 columns</p>\n",
       "</div>"
      ],
      "text/plain": [
       "        Sales  Quantity  Discount  state_mean  customer_loyalty   \n",
       "5487    5.640         3       0.0  100.241852         22.378300  \\\n",
       "2577   31.104         6       0.2  -24.956068         23.388259   \n",
       "3692  128.850         3       0.0   50.863920         -2.941147   \n",
       "5918  269.980         2       0.0   64.248610         36.447300   \n",
       "7562  115.360         7       0.0   82.080005        -34.777609   \n",
       "...       ...       ...       ...         ...               ...   \n",
       "1079   45.680         2       0.0   75.591956         16.419270   \n",
       "6573    2.610         1       0.0  108.775088         31.095184   \n",
       "1115   71.970         3       0.0   37.685365         23.324029   \n",
       "4747   64.140         3       0.0   66.225242         26.118240   \n",
       "6733   39.840         8       0.0   37.685365         20.699222   \n",
       "\n",
       "      sub_cat_encoded  Main Category_Furniture  Main Category_Office Supplies   \n",
       "5487               10                        0                              1  \\\n",
       "2577                7                        0                              1   \n",
       "3692               13                        0                              0   \n",
       "5918               13                        0                              0   \n",
       "7562               14                        0                              0   \n",
       "...               ...                      ...                            ...   \n",
       "1079                7                        0                              1   \n",
       "6573                6                        0                              1   \n",
       "1115                8                        0                              1   \n",
       "4747                4                        0                              1   \n",
       "6733                6                        0                              1   \n",
       "\n",
       "      Main Category_Technology  Region_Central  Region_East  Region_South   \n",
       "5487                         0               0            0             1  \\\n",
       "2577                         0               0            1             0   \n",
       "3692                         1               0            1             0   \n",
       "5918                         1               1            0             0   \n",
       "7562                         1               0            1             0   \n",
       "...                        ...             ...          ...           ...   \n",
       "1079                         0               0            0             1   \n",
       "6573                         0               1            0             0   \n",
       "1115                         0               0            0             0   \n",
       "4747                         0               0            1             0   \n",
       "6733                         0               0            0             0   \n",
       "\n",
       "      Region_West  \n",
       "5487            0  \n",
       "2577            0  \n",
       "3692            0  \n",
       "5918            0  \n",
       "7562            0  \n",
       "...           ...  \n",
       "1079            0  \n",
       "6573            0  \n",
       "1115            1  \n",
       "4747            0  \n",
       "6733            1  \n",
       "\n",
       "[1599 rows x 13 columns]"
      ]
     },
     "execution_count": 58,
     "metadata": {},
     "output_type": "execute_result"
    }
   ],
   "source": [
    "X_test1"
   ]
  },
  {
   "cell_type": "code",
   "execution_count": 49,
   "metadata": {},
   "outputs": [
    {
     "data": {
      "text/plain": [
       "Index(['Sales', 'Quantity', 'Discount', 'Profit', 'state_mean',\n",
       "       'customer_loyalty', 'sub_cat_encoded', 'Main Category_Furniture',\n",
       "       'Main Category_Office Supplies', 'Main Category_Technology',\n",
       "       'Region_Central', 'Region_East', 'Region_South', 'Region_West'],\n",
       "      dtype='object')"
      ]
     },
     "execution_count": 49,
     "metadata": {},
     "output_type": "execute_result"
    }
   ],
   "source": [
    "final_df_norm.columns"
   ]
  },
  {
   "attachments": {},
   "cell_type": "markdown",
   "metadata": {},
   "source": [
    "<h3>SHAP Explainer with <b>OPTION 1</b></h3>"
   ]
  },
  {
   "cell_type": "code",
   "execution_count": 60,
   "metadata": {},
   "outputs": [
    {
     "data": {
      "text/plain": [
       "5487     2.7072\n",
       "2577    10.8864\n",
       "3692     3.8655\n",
       "5918    72.8946\n",
       "7562    49.6048\n",
       "         ...   \n",
       "1079    21.0128\n",
       "6573     1.2006\n",
       "1115    35.9850\n",
       "4747    16.6764\n",
       "6733    18.3264\n",
       "Name: Profit, Length: 1599, dtype: float64"
      ]
     },
     "execution_count": 60,
     "metadata": {},
     "output_type": "execute_result"
    }
   ],
   "source": []
  },
  {
   "attachments": {},
   "cell_type": "markdown",
   "metadata": {},
   "source": [
    "<h3>OPTION 1 score</h3>"
   ]
  },
  {
   "cell_type": "code",
   "execution_count": 50,
   "metadata": {},
   "outputs": [
    {
     "name": "stdout",
     "output_type": "stream",
     "text": [
      "R^2 Score:  0.9377400902568765\n",
      "Mean Squared Error (MSE):  2277.0678207343917\n"
     ]
    }
   ],
   "source": [
    "rf1 = RandomForestRegressor(n_estimators=90, random_state=42)\n",
    "\n",
    "# Train the model using the training data\n",
    "rf1.fit(X_train1, Y_train1)\n",
    "\n",
    "# Make predictions on the testing data\n",
    "y_pred1 = rf1.predict(X_test1)\n",
    "\n",
    "# Calculate R^2 score and Mean Squared Error (MSE) for the model\n",
    "r2_op1 = r2_score(Y_test1, y_pred1)\n",
    "mse_op1 = mean_squared_error(Y_test1, y_pred1)\n",
    "\n",
    "print(\"R^2 Score: \", r2_op1)\n",
    "print(\"Mean Squared Error (MSE): \", mse_op1)"
   ]
  },
  {
   "cell_type": "code",
   "execution_count": 66,
   "metadata": {},
   "outputs": [
    {
     "name": "stdout",
     "output_type": "stream",
     "text": [
      "R^2 Score:  0.9377400902568765\n",
      "Mean Squared Error (MSE):  2277.0678207343917\n"
     ]
    }
   ],
   "source": [
    "from joblib import load\n",
    "from sklearn.metrics import r2_score, mean_squared_error\n",
    "pipe_loaded = load('my_model.joblib')\n",
    "y_pred = pipe_loaded.predict(X_test1)\n",
    "r2_op1 = r2_score(Y_test1, y_pred)\n",
    "mse_op1 = mean_squared_error(Y_test1, y_pred)\n",
    "\n",
    "print(\"R^2 Score: \", r2_op1)\n",
    "print(\"Mean Squared Error (MSE): \", mse_op1)"
   ]
  },
  {
   "cell_type": "code",
   "execution_count": 92,
   "metadata": {},
   "outputs": [
    {
     "name": "stdout",
     "output_type": "stream",
     "text": [
      "Best Polynomial Order: 3\n",
      "R-squared Score: 0.8576203348986265\n"
     ]
    }
   ],
   "source": [
    "pipeline = make_pipeline(PolynomialFeatures(), LinearRegression())\n",
    "\n",
    "# Define the hyperparameters to search over\n",
    "param_grid = {'polynomialfeatures__degree': [1, 2, 3, 4]}  # Try different polynomial degrees\n",
    "\n",
    "# Use GridSearchCV to find the best polynomial order\n",
    "grid = GridSearchCV(pipeline,scoring=\"r2\" ,param_grid=param_grid, cv=5)  # 5-fold cross-validation\n",
    "grid.fit(X_op1, Y_op1)\n",
    "\n",
    "# Get the best polynomial order\n",
    "best_polynomial_order = grid.best_params_['polynomialfeatures__degree']\n",
    "best_r2_score_poly=grid.best_score_\n",
    "# Print the best polynomial order and the R-squared score\n",
    "print(\"Best Polynomial Order:\", best_polynomial_order)\n",
    "print(\"R-squared Score:\", best_r2_score_poly)"
   ]
  },
  {
   "cell_type": "code",
   "execution_count": 196,
   "metadata": {},
   "outputs": [
    {
     "name": "stdout",
     "output_type": "stream",
     "text": [
      "R^2 Score:  0.5248355624039485\n",
      "Mean Squared Error (MSE):  0.0001558425124810638\n"
     ]
    }
   ],
   "source": [
    "lr1 = LinearRegression()\n",
    "\n",
    "# Train the model using the training data\n",
    "lr1.fit(X_train1, Y_train1)\n",
    "\n",
    "# Make predictions on the testing data\n",
    "y_pred1 = lr1.predict(X_test1)\n",
    "\n",
    "# Calculate R^2 score and Mean Squared Error (MSE) for the model\n",
    "r2_linop1 = r2_score(Y_test1, y_pred1)\n",
    "mse_linop1 = mean_squared_error(Y_test1, y_pred1)\n",
    "\n",
    "print(\"R^2 Score: \", r2_linop1)\n",
    "print(\"Mean Squared Error (MSE): \", mse_linop1)"
   ]
  },
  {
   "cell_type": "code",
   "execution_count": 152,
   "metadata": {},
   "outputs": [
    {
     "data": {
      "text/html": [
       "<style>#sk-container-id-7 {color: black;background-color: white;}#sk-container-id-7 pre{padding: 0;}#sk-container-id-7 div.sk-toggleable {background-color: white;}#sk-container-id-7 label.sk-toggleable__label {cursor: pointer;display: block;width: 100%;margin-bottom: 0;padding: 0.3em;box-sizing: border-box;text-align: center;}#sk-container-id-7 label.sk-toggleable__label-arrow:before {content: \"▸\";float: left;margin-right: 0.25em;color: #696969;}#sk-container-id-7 label.sk-toggleable__label-arrow:hover:before {color: black;}#sk-container-id-7 div.sk-estimator:hover label.sk-toggleable__label-arrow:before {color: black;}#sk-container-id-7 div.sk-toggleable__content {max-height: 0;max-width: 0;overflow: hidden;text-align: left;background-color: #f0f8ff;}#sk-container-id-7 div.sk-toggleable__content pre {margin: 0.2em;color: black;border-radius: 0.25em;background-color: #f0f8ff;}#sk-container-id-7 input.sk-toggleable__control:checked~div.sk-toggleable__content {max-height: 200px;max-width: 100%;overflow: auto;}#sk-container-id-7 input.sk-toggleable__control:checked~label.sk-toggleable__label-arrow:before {content: \"▾\";}#sk-container-id-7 div.sk-estimator input.sk-toggleable__control:checked~label.sk-toggleable__label {background-color: #d4ebff;}#sk-container-id-7 div.sk-label input.sk-toggleable__control:checked~label.sk-toggleable__label {background-color: #d4ebff;}#sk-container-id-7 input.sk-hidden--visually {border: 0;clip: rect(1px 1px 1px 1px);clip: rect(1px, 1px, 1px, 1px);height: 1px;margin: -1px;overflow: hidden;padding: 0;position: absolute;width: 1px;}#sk-container-id-7 div.sk-estimator {font-family: monospace;background-color: #f0f8ff;border: 1px dotted black;border-radius: 0.25em;box-sizing: border-box;margin-bottom: 0.5em;}#sk-container-id-7 div.sk-estimator:hover {background-color: #d4ebff;}#sk-container-id-7 div.sk-parallel-item::after {content: \"\";width: 100%;border-bottom: 1px solid gray;flex-grow: 1;}#sk-container-id-7 div.sk-label:hover label.sk-toggleable__label {background-color: #d4ebff;}#sk-container-id-7 div.sk-serial::before {content: \"\";position: absolute;border-left: 1px solid gray;box-sizing: border-box;top: 0;bottom: 0;left: 50%;z-index: 0;}#sk-container-id-7 div.sk-serial {display: flex;flex-direction: column;align-items: center;background-color: white;padding-right: 0.2em;padding-left: 0.2em;position: relative;}#sk-container-id-7 div.sk-item {position: relative;z-index: 1;}#sk-container-id-7 div.sk-parallel {display: flex;align-items: stretch;justify-content: center;background-color: white;position: relative;}#sk-container-id-7 div.sk-item::before, #sk-container-id-7 div.sk-parallel-item::before {content: \"\";position: absolute;border-left: 1px solid gray;box-sizing: border-box;top: 0;bottom: 0;left: 50%;z-index: -1;}#sk-container-id-7 div.sk-parallel-item {display: flex;flex-direction: column;z-index: 1;position: relative;background-color: white;}#sk-container-id-7 div.sk-parallel-item:first-child::after {align-self: flex-end;width: 50%;}#sk-container-id-7 div.sk-parallel-item:last-child::after {align-self: flex-start;width: 50%;}#sk-container-id-7 div.sk-parallel-item:only-child::after {width: 0;}#sk-container-id-7 div.sk-dashed-wrapped {border: 1px dashed gray;margin: 0 0.4em 0.5em 0.4em;box-sizing: border-box;padding-bottom: 0.4em;background-color: white;}#sk-container-id-7 div.sk-label label {font-family: monospace;font-weight: bold;display: inline-block;line-height: 1.2em;}#sk-container-id-7 div.sk-label-container {text-align: center;}#sk-container-id-7 div.sk-container {/* jupyter's `normalize.less` sets `[hidden] { display: none; }` but bootstrap.min.css set `[hidden] { display: none !important; }` so we also need the `!important` here to be able to override the default hidden behavior on the sphinx rendered scikit-learn.org. See: https://github.com/scikit-learn/scikit-learn/issues/21755 */display: inline-block !important;position: relative;}#sk-container-id-7 div.sk-text-repr-fallback {display: none;}</style><div id=\"sk-container-id-7\" class=\"sk-top-container\"><div class=\"sk-text-repr-fallback\"><pre>RandomForestRegressor()</pre><b>In a Jupyter environment, please rerun this cell to show the HTML representation or trust the notebook. <br />On GitHub, the HTML representation is unable to render, please try loading this page with nbviewer.org.</b></div><div class=\"sk-container\" hidden><div class=\"sk-item\"><div class=\"sk-estimator sk-toggleable\"><input class=\"sk-toggleable__control sk-hidden--visually\" id=\"sk-estimator-id-7\" type=\"checkbox\" checked><label for=\"sk-estimator-id-7\" class=\"sk-toggleable__label sk-toggleable__label-arrow\">RandomForestRegressor</label><div class=\"sk-toggleable__content\"><pre>RandomForestRegressor()</pre></div></div></div></div></div>"
      ],
      "text/plain": [
       "RandomForestRegressor()"
      ]
     },
     "execution_count": 152,
     "metadata": {},
     "output_type": "execute_result"
    }
   ],
   "source": [
    "model_profit = RandomForestRegressor()\n",
    "model_profit.fit(X_train1, Y_train1)"
   ]
  },
  {
   "cell_type": "code",
   "execution_count": 84,
   "metadata": {},
   "outputs": [
    {
     "name": "stderr",
     "output_type": "stream",
     "text": [
      "Permutation explainer: 1600it [24:52,  1.06it/s]                          \n"
     ]
    }
   ],
   "source": [
    "explainer_profit = shap.Explainer(model_profit.predict, X_test1)\n",
    "shap_values_profit = explainer_profit(X_test1)"
   ]
  },
  {
   "cell_type": "code",
   "execution_count": 86,
   "metadata": {},
   "outputs": [
    {
     "name": "stderr",
     "output_type": "stream",
     "text": [
      "No data for colormapping provided via 'c'. Parameters 'vmin', 'vmax' will be ignored\n"
     ]
    },
    {
     "data": {
      "image/png": "[encoded data removed]",
      "text/plain": [
       "<Figure size 800x670 with 2 Axes>"
      ]
     },
     "metadata": {},
     "output_type": "display_data"
    }
   ],
   "source": [
    "shap.summary_plot(shap_values_profit)"
   ]
  },
  {
   "cell_type": "code",
   "execution_count": 76,
   "metadata": {},
   "outputs": [
    {
     "data": {
      "text/plain": [
       "Main Category\n",
       "Furniture           9.688984\n",
       "Office Supplies    22.748605\n",
       "Technology         78.233416\n",
       "Name: Profit, dtype: float64"
      ]
     },
     "execution_count": 76,
     "metadata": {},
     "output_type": "execute_result"
    }
   ],
   "source": [
    "data.groupby(\"Main Category\")[\"Profit\"].mean()"
   ]
  },
  {
   "cell_type": "code",
   "execution_count": null,
   "metadata": {},
   "outputs": [],
   "source": [
    "table_dict={k:v.mean() for k,v in zip(shap_values_profit.feature_names,shap_values_profit.values)}"
   ]
  },
  {
   "cell_type": "code",
   "execution_count": 61,
   "metadata": {},
   "outputs": [
    {
     "data": {
      "text/plain": [
       "Index(['Sales', 'Quantity', 'Discount', 'Profit', 'state_mean',\n",
       "       'customer_loyalty', 'sub_cat_encoded', 'Main Category_Furniture',\n",
       "       'Main Category_Office Supplies', 'Main Category_Technology',\n",
       "       'Region_Central', 'Region_East', 'Region_South', 'Region_West'],\n",
       "      dtype='object')"
      ]
     },
     "execution_count": 61,
     "metadata": {},
     "output_type": "execute_result"
    }
   ],
   "source": [
    "final_df.columns"
   ]
  },
  {
   "cell_type": "code",
   "execution_count": 62,
   "metadata": {},
   "outputs": [
    {
     "data": {
      "text/html": [
       "<div>\n",
       "<style scoped>\n",
       "    .dataframe tbody tr th:only-of-type {\n",
       "        vertical-align: middle;\n",
       "    }\n",
       "\n",
       "    .dataframe tbody tr th {\n",
       "        vertical-align: top;\n",
       "    }\n",
       "\n",
       "    .dataframe thead th {\n",
       "        text-align: right;\n",
       "    }\n",
       "</style>\n",
       "<table border=\"1\" class=\"dataframe\">\n",
       "  <thead>\n",
       "    <tr style=\"text-align: right;\">\n",
       "      <th></th>\n",
       "      <th>Sales</th>\n",
       "      <th>Quantity</th>\n",
       "      <th>Discount</th>\n",
       "      <th>Profit</th>\n",
       "      <th>state_mean</th>\n",
       "      <th>customer_loyalty</th>\n",
       "      <th>sub_cat_encoded</th>\n",
       "      <th>Main Category_Furniture</th>\n",
       "      <th>Main Category_Office Supplies</th>\n",
       "      <th>Main Category_Technology</th>\n",
       "      <th>Region_Central</th>\n",
       "      <th>Region_East</th>\n",
       "      <th>Region_South</th>\n",
       "      <th>Region_West</th>\n",
       "    </tr>\n",
       "  </thead>\n",
       "  <tbody>\n",
       "    <tr>\n",
       "      <th>0</th>\n",
       "      <td>0.008536</td>\n",
       "      <td>0.384615</td>\n",
       "      <td>0.00</td>\n",
       "      <td>0.364204</td>\n",
       "      <td>0.386097</td>\n",
       "      <td>0.427245</td>\n",
       "      <td>0.8125</td>\n",
       "      <td>0.0</td>\n",
       "      <td>0.0</td>\n",
       "      <td>1.0</td>\n",
       "      <td>0.0</td>\n",
       "      <td>1.0</td>\n",
       "      <td>0.0</td>\n",
       "      <td>0.0</td>\n",
       "    </tr>\n",
       "    <tr>\n",
       "      <th>1</th>\n",
       "      <td>0.008960</td>\n",
       "      <td>0.384615</td>\n",
       "      <td>0.00</td>\n",
       "      <td>0.369358</td>\n",
       "      <td>0.372660</td>\n",
       "      <td>0.450631</td>\n",
       "      <td>0.6250</td>\n",
       "      <td>0.0</td>\n",
       "      <td>1.0</td>\n",
       "      <td>0.0</td>\n",
       "      <td>1.0</td>\n",
       "      <td>0.0</td>\n",
       "      <td>0.0</td>\n",
       "      <td>0.0</td>\n",
       "    </tr>\n",
       "    <tr>\n",
       "      <th>2</th>\n",
       "      <td>0.000990</td>\n",
       "      <td>0.384615</td>\n",
       "      <td>0.25</td>\n",
       "      <td>0.364077</td>\n",
       "      <td>0.272307</td>\n",
       "      <td>0.434304</td>\n",
       "      <td>0.6250</td>\n",
       "      <td>0.0</td>\n",
       "      <td>1.0</td>\n",
       "      <td>0.0</td>\n",
       "      <td>0.0</td>\n",
       "      <td>0.0</td>\n",
       "      <td>0.0</td>\n",
       "      <td>1.0</td>\n",
       "    </tr>\n",
       "    <tr>\n",
       "      <th>3</th>\n",
       "      <td>0.002283</td>\n",
       "      <td>0.307692</td>\n",
       "      <td>0.00</td>\n",
       "      <td>0.365109</td>\n",
       "      <td>0.395314</td>\n",
       "      <td>0.431423</td>\n",
       "      <td>0.4375</td>\n",
       "      <td>0.0</td>\n",
       "      <td>1.0</td>\n",
       "      <td>0.0</td>\n",
       "      <td>0.0</td>\n",
       "      <td>0.0</td>\n",
       "      <td>1.0</td>\n",
       "      <td>0.0</td>\n",
       "    </tr>\n",
       "    <tr>\n",
       "      <th>4</th>\n",
       "      <td>0.005536</td>\n",
       "      <td>0.153846</td>\n",
       "      <td>0.25</td>\n",
       "      <td>0.362160</td>\n",
       "      <td>0.014739</td>\n",
       "      <td>0.439446</td>\n",
       "      <td>0.5625</td>\n",
       "      <td>0.0</td>\n",
       "      <td>1.0</td>\n",
       "      <td>0.0</td>\n",
       "      <td>1.0</td>\n",
       "      <td>0.0</td>\n",
       "      <td>0.0</td>\n",
       "      <td>0.0</td>\n",
       "    </tr>\n",
       "    <tr>\n",
       "      <th>...</th>\n",
       "      <td>...</td>\n",
       "      <td>...</td>\n",
       "      <td>...</td>\n",
       "      <td>...</td>\n",
       "      <td>...</td>\n",
       "      <td>...</td>\n",
       "      <td>...</td>\n",
       "      <td>...</td>\n",
       "      <td>...</td>\n",
       "      <td>...</td>\n",
       "      <td>...</td>\n",
       "      <td>...</td>\n",
       "      <td>...</td>\n",
       "      <td>...</td>\n",
       "    </tr>\n",
       "    <tr>\n",
       "      <th>7990</th>\n",
       "      <td>0.000543</td>\n",
       "      <td>0.307692</td>\n",
       "      <td>0.25</td>\n",
       "      <td>0.363912</td>\n",
       "      <td>0.022551</td>\n",
       "      <td>0.351840</td>\n",
       "      <td>0.1875</td>\n",
       "      <td>0.0</td>\n",
       "      <td>1.0</td>\n",
       "      <td>0.0</td>\n",
       "      <td>0.0</td>\n",
       "      <td>1.0</td>\n",
       "      <td>0.0</td>\n",
       "      <td>0.0</td>\n",
       "    </tr>\n",
       "    <tr>\n",
       "      <th>7991</th>\n",
       "      <td>0.001826</td>\n",
       "      <td>0.615385</td>\n",
       "      <td>0.00</td>\n",
       "      <td>0.364794</td>\n",
       "      <td>0.272307</td>\n",
       "      <td>0.451932</td>\n",
       "      <td>0.3750</td>\n",
       "      <td>0.0</td>\n",
       "      <td>1.0</td>\n",
       "      <td>0.0</td>\n",
       "      <td>0.0</td>\n",
       "      <td>0.0</td>\n",
       "      <td>0.0</td>\n",
       "      <td>1.0</td>\n",
       "    </tr>\n",
       "    <tr>\n",
       "      <th>7992</th>\n",
       "      <td>0.000900</td>\n",
       "      <td>0.307692</td>\n",
       "      <td>0.00</td>\n",
       "      <td>0.364205</td>\n",
       "      <td>0.386097</td>\n",
       "      <td>0.427710</td>\n",
       "      <td>0.3750</td>\n",
       "      <td>0.0</td>\n",
       "      <td>1.0</td>\n",
       "      <td>0.0</td>\n",
       "      <td>0.0</td>\n",
       "      <td>1.0</td>\n",
       "      <td>0.0</td>\n",
       "      <td>0.0</td>\n",
       "    </tr>\n",
       "    <tr>\n",
       "      <th>7993</th>\n",
       "      <td>0.004253</td>\n",
       "      <td>0.461538</td>\n",
       "      <td>0.00</td>\n",
       "      <td>0.365682</td>\n",
       "      <td>0.272307</td>\n",
       "      <td>0.431587</td>\n",
       "      <td>0.3125</td>\n",
       "      <td>1.0</td>\n",
       "      <td>0.0</td>\n",
       "      <td>0.0</td>\n",
       "      <td>0.0</td>\n",
       "      <td>0.0</td>\n",
       "      <td>0.0</td>\n",
       "      <td>1.0</td>\n",
       "    </tr>\n",
       "    <tr>\n",
       "      <th>7994</th>\n",
       "      <td>0.001455</td>\n",
       "      <td>0.153846</td>\n",
       "      <td>0.00</td>\n",
       "      <td>0.364346</td>\n",
       "      <td>0.386097</td>\n",
       "      <td>0.441458</td>\n",
       "      <td>0.2500</td>\n",
       "      <td>0.0</td>\n",
       "      <td>1.0</td>\n",
       "      <td>0.0</td>\n",
       "      <td>0.0</td>\n",
       "      <td>1.0</td>\n",
       "      <td>0.0</td>\n",
       "      <td>0.0</td>\n",
       "    </tr>\n",
       "  </tbody>\n",
       "</table>\n",
       "<p>7995 rows × 14 columns</p>\n",
       "</div>"
      ],
      "text/plain": [
       "         Sales  Quantity  Discount    Profit  state_mean  customer_loyalty   \n",
       "0     0.008536  0.384615      0.00  0.364204    0.386097          0.427245  \\\n",
       "1     0.008960  0.384615      0.00  0.369358    0.372660          0.450631   \n",
       "2     0.000990  0.384615      0.25  0.364077    0.272307          0.434304   \n",
       "3     0.002283  0.307692      0.00  0.365109    0.395314          0.431423   \n",
       "4     0.005536  0.153846      0.25  0.362160    0.014739          0.439446   \n",
       "...        ...       ...       ...       ...         ...               ...   \n",
       "7990  0.000543  0.307692      0.25  0.363912    0.022551          0.351840   \n",
       "7991  0.001826  0.615385      0.00  0.364794    0.272307          0.451932   \n",
       "7992  0.000900  0.307692      0.00  0.364205    0.386097          0.427710   \n",
       "7993  0.004253  0.461538      0.00  0.365682    0.272307          0.431587   \n",
       "7994  0.001455  0.153846      0.00  0.364346    0.386097          0.441458   \n",
       "\n",
       "      sub_cat_encoded  Main Category_Furniture  Main Category_Office Supplies   \n",
       "0              0.8125                      0.0                            0.0  \\\n",
       "1              0.6250                      0.0                            1.0   \n",
       "2              0.6250                      0.0                            1.0   \n",
       "3              0.4375                      0.0                            1.0   \n",
       "4              0.5625                      0.0                            1.0   \n",
       "...               ...                      ...                            ...   \n",
       "7990           0.1875                      0.0                            1.0   \n",
       "7991           0.3750                      0.0                            1.0   \n",
       "7992           0.3750                      0.0                            1.0   \n",
       "7993           0.3125                      1.0                            0.0   \n",
       "7994           0.2500                      0.0                            1.0   \n",
       "\n",
       "      Main Category_Technology  Region_Central  Region_East  Region_South   \n",
       "0                          1.0             0.0          1.0           0.0  \\\n",
       "1                          0.0             1.0          0.0           0.0   \n",
       "2                          0.0             0.0          0.0           0.0   \n",
       "3                          0.0             0.0          0.0           1.0   \n",
       "4                          0.0             1.0          0.0           0.0   \n",
       "...                        ...             ...          ...           ...   \n",
       "7990                       0.0             0.0          1.0           0.0   \n",
       "7991                       0.0             0.0          0.0           0.0   \n",
       "7992                       0.0             0.0          1.0           0.0   \n",
       "7993                       0.0             0.0          0.0           0.0   \n",
       "7994                       0.0             0.0          1.0           0.0   \n",
       "\n",
       "      Region_West  \n",
       "0             0.0  \n",
       "1             0.0  \n",
       "2             1.0  \n",
       "3             0.0  \n",
       "4             0.0  \n",
       "...           ...  \n",
       "7990          0.0  \n",
       "7991          1.0  \n",
       "7992          0.0  \n",
       "7993          1.0  \n",
       "7994          0.0  \n",
       "\n",
       "[7995 rows x 14 columns]"
      ]
     },
     "execution_count": 62,
     "metadata": {},
     "output_type": "execute_result"
    }
   ],
   "source": [
    "normalize_feature(final_df)"
   ]
  },
  {
   "attachments": {},
   "cell_type": "markdown",
   "metadata": {},
   "source": [
    "<h3>OPTION 2</h3>"
   ]
  },
  {
   "cell_type": "code",
   "execution_count": 63,
   "metadata": {},
   "outputs": [],
   "source": [
    "ship_dict=transform_ordinal(data,\"Ship Mode\",\"Profit\")\n",
    "final_df[\"ship_ordinal\"]=data[\"Ship Mode\"].map(ship_dict)\n",
    "main_cat_dict=transform_ordinal(data,\"Main Category\",\"Profit\")\n",
    "final_df[\"main_cat_ordinal\"]=data[\"Main Category\"].map(main_cat_dict)\n",
    "region_dict=transform_ordinal(data,\"Region\",\"Profit\")\n",
    "final_df[\"region_ordinal\"]=data[\"Region\"].map(region_dict)\n"
   ]
  },
  {
   "cell_type": "code",
   "execution_count": 64,
   "metadata": {},
   "outputs": [],
   "source": [
    "final_df.drop(columns=[\"Main Category_Furniture\",\"Main Category_Office Supplies\",\"Main Category_Technology\",\"Region_Central\",\n",
    "                       \"Region_East\",\"Region_South\",\"Region_West\"],inplace=True)"
   ]
  },
  {
   "cell_type": "code",
   "execution_count": 65,
   "metadata": {},
   "outputs": [],
   "source": [
    "df_norm=normalize_feature(final_df)"
   ]
  },
  {
   "cell_type": "code",
   "execution_count": 66,
   "metadata": {},
   "outputs": [],
   "source": [
    "X_op2=df_norm.drop(columns=[\"Profit\"])\n",
    "Y_op2=df_norm[\"Profit\"]"
   ]
  },
  {
   "cell_type": "code",
   "execution_count": 67,
   "metadata": {},
   "outputs": [],
   "source": [
    "X_train2,X_test2,Y_train2,Y_test2=train_test_split(X_op2,Y_op2,test_size=0.2,random_state=42)"
   ]
  },
  {
   "attachments": {},
   "cell_type": "markdown",
   "metadata": {},
   "source": [
    "<h3>SHAP Explainer With <b>Option 2</b></h3>"
   ]
  },
  {
   "cell_type": "code",
   "execution_count": 138,
   "metadata": {},
   "outputs": [
    {
     "data": {
      "text/html": [
       "<style>#sk-container-id-6 {color: black;background-color: white;}#sk-container-id-6 pre{padding: 0;}#sk-container-id-6 div.sk-toggleable {background-color: white;}#sk-container-id-6 label.sk-toggleable__label {cursor: pointer;display: block;width: 100%;margin-bottom: 0;padding: 0.3em;box-sizing: border-box;text-align: center;}#sk-container-id-6 label.sk-toggleable__label-arrow:before {content: \"▸\";float: left;margin-right: 0.25em;color: #696969;}#sk-container-id-6 label.sk-toggleable__label-arrow:hover:before {color: black;}#sk-container-id-6 div.sk-estimator:hover label.sk-toggleable__label-arrow:before {color: black;}#sk-container-id-6 div.sk-toggleable__content {max-height: 0;max-width: 0;overflow: hidden;text-align: left;background-color: #f0f8ff;}#sk-container-id-6 div.sk-toggleable__content pre {margin: 0.2em;color: black;border-radius: 0.25em;background-color: #f0f8ff;}#sk-container-id-6 input.sk-toggleable__control:checked~div.sk-toggleable__content {max-height: 200px;max-width: 100%;overflow: auto;}#sk-container-id-6 input.sk-toggleable__control:checked~label.sk-toggleable__label-arrow:before {content: \"▾\";}#sk-container-id-6 div.sk-estimator input.sk-toggleable__control:checked~label.sk-toggleable__label {background-color: #d4ebff;}#sk-container-id-6 div.sk-label input.sk-toggleable__control:checked~label.sk-toggleable__label {background-color: #d4ebff;}#sk-container-id-6 input.sk-hidden--visually {border: 0;clip: rect(1px 1px 1px 1px);clip: rect(1px, 1px, 1px, 1px);height: 1px;margin: -1px;overflow: hidden;padding: 0;position: absolute;width: 1px;}#sk-container-id-6 div.sk-estimator {font-family: monospace;background-color: #f0f8ff;border: 1px dotted black;border-radius: 0.25em;box-sizing: border-box;margin-bottom: 0.5em;}#sk-container-id-6 div.sk-estimator:hover {background-color: #d4ebff;}#sk-container-id-6 div.sk-parallel-item::after {content: \"\";width: 100%;border-bottom: 1px solid gray;flex-grow: 1;}#sk-container-id-6 div.sk-label:hover label.sk-toggleable__label {background-color: #d4ebff;}#sk-container-id-6 div.sk-serial::before {content: \"\";position: absolute;border-left: 1px solid gray;box-sizing: border-box;top: 0;bottom: 0;left: 50%;z-index: 0;}#sk-container-id-6 div.sk-serial {display: flex;flex-direction: column;align-items: center;background-color: white;padding-right: 0.2em;padding-left: 0.2em;position: relative;}#sk-container-id-6 div.sk-item {position: relative;z-index: 1;}#sk-container-id-6 div.sk-parallel {display: flex;align-items: stretch;justify-content: center;background-color: white;position: relative;}#sk-container-id-6 div.sk-item::before, #sk-container-id-6 div.sk-parallel-item::before {content: \"\";position: absolute;border-left: 1px solid gray;box-sizing: border-box;top: 0;bottom: 0;left: 50%;z-index: -1;}#sk-container-id-6 div.sk-parallel-item {display: flex;flex-direction: column;z-index: 1;position: relative;background-color: white;}#sk-container-id-6 div.sk-parallel-item:first-child::after {align-self: flex-end;width: 50%;}#sk-container-id-6 div.sk-parallel-item:last-child::after {align-self: flex-start;width: 50%;}#sk-container-id-6 div.sk-parallel-item:only-child::after {width: 0;}#sk-container-id-6 div.sk-dashed-wrapped {border: 1px dashed gray;margin: 0 0.4em 0.5em 0.4em;box-sizing: border-box;padding-bottom: 0.4em;background-color: white;}#sk-container-id-6 div.sk-label label {font-family: monospace;font-weight: bold;display: inline-block;line-height: 1.2em;}#sk-container-id-6 div.sk-label-container {text-align: center;}#sk-container-id-6 div.sk-container {/* jupyter's `normalize.less` sets `[hidden] { display: none; }` but bootstrap.min.css set `[hidden] { display: none !important; }` so we also need the `!important` here to be able to override the default hidden behavior on the sphinx rendered scikit-learn.org. See: https://github.com/scikit-learn/scikit-learn/issues/21755 */display: inline-block !important;position: relative;}#sk-container-id-6 div.sk-text-repr-fallback {display: none;}</style><div id=\"sk-container-id-6\" class=\"sk-top-container\"><div class=\"sk-text-repr-fallback\"><pre>RandomForestRegressor()</pre><b>In a Jupyter environment, please rerun this cell to show the HTML representation or trust the notebook. <br />On GitHub, the HTML representation is unable to render, please try loading this page with nbviewer.org.</b></div><div class=\"sk-container\" hidden><div class=\"sk-item\"><div class=\"sk-estimator sk-toggleable\"><input class=\"sk-toggleable__control sk-hidden--visually\" id=\"sk-estimator-id-6\" type=\"checkbox\" checked><label for=\"sk-estimator-id-6\" class=\"sk-toggleable__label sk-toggleable__label-arrow\">RandomForestRegressor</label><div class=\"sk-toggleable__content\"><pre>RandomForestRegressor()</pre></div></div></div></div></div>"
      ],
      "text/plain": [
       "RandomForestRegressor()"
      ]
     },
     "execution_count": 138,
     "metadata": {},
     "output_type": "execute_result"
    }
   ],
   "source": [
    "model_profit = RandomForestRegressor()\n",
    "model_profit.fit(X_train2, Y_train2)"
   ]
  },
  {
   "cell_type": "code",
   "execution_count": 139,
   "metadata": {},
   "outputs": [
    {
     "name": "stderr",
     "output_type": "stream",
     "text": [
      "Exact explainer: 1600it [11:44,  2.24it/s]                          \n"
     ]
    }
   ],
   "source": [
    "explainer_profit = shap.Explainer(model_profit.predict, X_test2)\n",
    "shap_values_profit = explainer_profit(X_test2)"
   ]
  },
  {
   "cell_type": "code",
   "execution_count": 140,
   "metadata": {},
   "outputs": [
    {
     "name": "stderr",
     "output_type": "stream",
     "text": [
      "No data for colormapping provided via 'c'. Parameters 'vmin', 'vmax' will be ignored\n"
     ]
    },
    {
     "data": {
      "image/png": "[encoded data removed]",
      "text/plain": [
       "<Figure size 800x510 with 2 Axes>"
      ]
     },
     "metadata": {},
     "output_type": "display_data"
    }
   ],
   "source": [
    "shap.summary_plot(shap_values_profit)"
   ]
  },
  {
   "cell_type": "code",
   "execution_count": 142,
   "metadata": {},
   "outputs": [],
   "source": [
    "data.to_csv(\"Final.csv\",index=False)"
   ]
  },
  {
   "attachments": {},
   "cell_type": "markdown",
   "metadata": {},
   "source": [
    "<h3>OPTION 2 Score"
   ]
  },
  {
   "cell_type": "code",
   "execution_count": 73,
   "metadata": {},
   "outputs": [
    {
     "name": "stdout",
     "output_type": "stream",
     "text": [
      "R^2 Score:  0.932073781627988\n",
      "Mean Squared Error (MSE):  2.2278166665812145e-05\n"
     ]
    }
   ],
   "source": [
    "rf2 = RandomForestRegressor(n_estimators=95, random_state=42)\n",
    "\n",
    "# Train the model using the training data\n",
    "rf2.fit(X_train2, Y_train2)\n",
    "\n",
    "# Make predictions on the testing data\n",
    "y_pred2 = rf2.predict(X_test2)\n",
    "\n",
    "# Calculate R^2 score and Mean Squared Error (MSE) for the model\n",
    "r2_op2 = r2_score(Y_test2, y_pred2)\n",
    "mse_op2 = mean_squared_error(Y_test2, y_pred2)\n",
    "\n",
    "print(\"R^2 Score: \", r2_op2)\n",
    "print(\"Mean Squared Error (MSE): \", mse_op2)"
   ]
  },
  {
   "attachments": {},
   "cell_type": "markdown",
   "metadata": {},
   "source": [
    "<h3>Polynomial Order For <b>OPTION 2<b></h3>"
   ]
  },
  {
   "cell_type": "code",
   "execution_count": 74,
   "metadata": {},
   "outputs": [],
   "source": [
    "pipeline = make_pipeline(PolynomialFeatures(), LinearRegression())\n",
    "\n",
    "# Define the hyperparameters to search over\n",
    "param_grid = {'polynomialfeatures__degree': [1, 2, 3, 4]}  # Try different polynomial degrees\n",
    "\n",
    "# Use GridSearchCV to find the best polynomial order\n",
    "grid = GridSearchCV(pipeline, param_grid=param_grid, cv=5)  # 5-fold cross-validation\n",
    "grid.fit(X_train2, Y_train2)\n",
    "\n",
    "# Get the best polynomial order\n",
    "best_polynomial_order = grid.best_params_['polynomialfeatures__degree']"
   ]
  },
  {
   "cell_type": "code",
   "execution_count": 76,
   "metadata": {},
   "outputs": [
    {
     "name": "stdout",
     "output_type": "stream",
     "text": [
      "Best Polynomial Order: 2\n",
      "R-squared Score: 0.8364378638200528\n"
     ]
    }
   ],
   "source": [
    "best_pipeline = make_pipeline(PolynomialFeatures(degree=best_polynomial_order), LinearRegression())\n",
    "\n",
    "best_pipeline.fit(X_train2, Y_train2)\n",
    "\n",
    "# Predict the target values\n",
    "y_pred2 = best_pipeline.predict(X_test2)\n",
    "\n",
    "# Calculate the R-squared score\n",
    "r2poly_2 = r2_score(Y_test2, y_pred2)\n",
    "\n",
    "# Print the best polynomial order and the R-squared score\n",
    "print(\"Best Polynomial Order:\", best_polynomial_order)\n",
    "print(\"R-squared Score:\", r2poly_2)"
   ]
  },
  {
   "attachments": {},
   "cell_type": "markdown",
   "metadata": {},
   "source": [
    "<h3>Option: 3 One Hot Encode Main Category and state and drop \"State mean\"\" </h3>"
   ]
  },
  {
   "cell_type": "code",
   "execution_count": 77,
   "metadata": {},
   "outputs": [
    {
     "data": {
      "text/html": [
       "<div>\n",
       "<style scoped>\n",
       "    .dataframe tbody tr th:only-of-type {\n",
       "        vertical-align: middle;\n",
       "    }\n",
       "\n",
       "    .dataframe tbody tr th {\n",
       "        vertical-align: top;\n",
       "    }\n",
       "\n",
       "    .dataframe thead th {\n",
       "        text-align: right;\n",
       "    }\n",
       "</style>\n",
       "<table border=\"1\" class=\"dataframe\">\n",
       "  <thead>\n",
       "    <tr style=\"text-align: right;\">\n",
       "      <th></th>\n",
       "      <th>Sales</th>\n",
       "      <th>Quantity</th>\n",
       "      <th>Discount</th>\n",
       "      <th>Profit</th>\n",
       "      <th>Order year</th>\n",
       "      <th>Order quarter</th>\n",
       "      <th>customer_loyalty</th>\n",
       "      <th>ship_priority</th>\n",
       "      <th>sub_cat_encoded</th>\n",
       "    </tr>\n",
       "  </thead>\n",
       "  <tbody>\n",
       "    <tr>\n",
       "      <th>0</th>\n",
       "      <td>119.940</td>\n",
       "      <td>6</td>\n",
       "      <td>0.0</td>\n",
       "      <td>5.9970</td>\n",
       "      <td>2017</td>\n",
       "      <td>4</td>\n",
       "      <td>-2.023000</td>\n",
       "      <td>0</td>\n",
       "      <td>13</td>\n",
       "    </tr>\n",
       "    <tr>\n",
       "      <th>1</th>\n",
       "      <td>125.880</td>\n",
       "      <td>6</td>\n",
       "      <td>0.0</td>\n",
       "      <td>60.4224</td>\n",
       "      <td>2017</td>\n",
       "      <td>3</td>\n",
       "      <td>35.348275</td>\n",
       "      <td>2</td>\n",
       "      <td>10</td>\n",
       "    </tr>\n",
       "    <tr>\n",
       "      <th>2</th>\n",
       "      <td>14.304</td>\n",
       "      <td>6</td>\n",
       "      <td>0.2</td>\n",
       "      <td>4.6488</td>\n",
       "      <td>2014</td>\n",
       "      <td>3</td>\n",
       "      <td>9.258253</td>\n",
       "      <td>2</td>\n",
       "      <td>10</td>\n",
       "    </tr>\n",
       "    <tr>\n",
       "      <th>3</th>\n",
       "      <td>32.400</td>\n",
       "      <td>5</td>\n",
       "      <td>0.0</td>\n",
       "      <td>15.5520</td>\n",
       "      <td>2017</td>\n",
       "      <td>2</td>\n",
       "      <td>4.654125</td>\n",
       "      <td>2</td>\n",
       "      <td>7</td>\n",
       "    </tr>\n",
       "    <tr>\n",
       "      <th>4</th>\n",
       "      <td>77.952</td>\n",
       "      <td>3</td>\n",
       "      <td>0.2</td>\n",
       "      <td>-15.5904</td>\n",
       "      <td>2017</td>\n",
       "      <td>4</td>\n",
       "      <td>17.475229</td>\n",
       "      <td>2</td>\n",
       "      <td>9</td>\n",
       "    </tr>\n",
       "  </tbody>\n",
       "</table>\n",
       "</div>"
      ],
      "text/plain": [
       "     Sales  Quantity  Discount   Profit  Order year  Order quarter   \n",
       "0  119.940         6       0.0   5.9970        2017              4  \\\n",
       "1  125.880         6       0.0  60.4224        2017              3   \n",
       "2   14.304         6       0.2   4.6488        2014              3   \n",
       "3   32.400         5       0.0  15.5520        2017              2   \n",
       "4   77.952         3       0.2 -15.5904        2017              4   \n",
       "\n",
       "   customer_loyalty  ship_priority  sub_cat_encoded  \n",
       "0         -2.023000              0               13  \n",
       "1         35.348275              2               10  \n",
       "2          9.258253              2               10  \n",
       "3          4.654125              2                7  \n",
       "4         17.475229              2                9  "
      ]
     },
     "execution_count": 77,
     "metadata": {},
     "output_type": "execute_result"
    }
   ],
   "source": [
    "final_df_op3=data.drop(columns=[\"Ship Mode\",\"Customer Name\",\"State\",\"Product ID\",\"Region\",\"Main Category\",\"Sub Category\",\"state_mean\"])\n",
    "final_df_op3.head()"
   ]
  },
  {
   "cell_type": "code",
   "execution_count": 78,
   "metadata": {},
   "outputs": [
    {
     "data": {
      "text/html": [
       "<div>\n",
       "<style scoped>\n",
       "    .dataframe tbody tr th:only-of-type {\n",
       "        vertical-align: middle;\n",
       "    }\n",
       "\n",
       "    .dataframe tbody tr th {\n",
       "        vertical-align: top;\n",
       "    }\n",
       "\n",
       "    .dataframe thead th {\n",
       "        text-align: right;\n",
       "    }\n",
       "</style>\n",
       "<table border=\"1\" class=\"dataframe\">\n",
       "  <thead>\n",
       "    <tr style=\"text-align: right;\">\n",
       "      <th></th>\n",
       "      <th>Sales</th>\n",
       "      <th>Quantity</th>\n",
       "      <th>Discount</th>\n",
       "      <th>Profit</th>\n",
       "      <th>Order year</th>\n",
       "      <th>Order quarter</th>\n",
       "      <th>customer_loyalty</th>\n",
       "      <th>ship_priority</th>\n",
       "      <th>sub_cat_encoded</th>\n",
       "      <th>State_Alabama</th>\n",
       "      <th>...</th>\n",
       "      <th>State_West Virginia</th>\n",
       "      <th>State_Wisconsin</th>\n",
       "      <th>State_Wyoming</th>\n",
       "      <th>Main Category_Furniture</th>\n",
       "      <th>Main Category_Office Supplies</th>\n",
       "      <th>Main Category_Technology</th>\n",
       "      <th>Region_Central</th>\n",
       "      <th>Region_East</th>\n",
       "      <th>Region_South</th>\n",
       "      <th>Region_West</th>\n",
       "    </tr>\n",
       "  </thead>\n",
       "  <tbody>\n",
       "    <tr>\n",
       "      <th>0</th>\n",
       "      <td>119.940</td>\n",
       "      <td>6</td>\n",
       "      <td>0.0</td>\n",
       "      <td>5.9970</td>\n",
       "      <td>2017</td>\n",
       "      <td>4</td>\n",
       "      <td>-2.023000</td>\n",
       "      <td>0</td>\n",
       "      <td>13</td>\n",
       "      <td>0</td>\n",
       "      <td>...</td>\n",
       "      <td>0</td>\n",
       "      <td>0</td>\n",
       "      <td>0</td>\n",
       "      <td>0</td>\n",
       "      <td>0</td>\n",
       "      <td>1</td>\n",
       "      <td>0</td>\n",
       "      <td>1</td>\n",
       "      <td>0</td>\n",
       "      <td>0</td>\n",
       "    </tr>\n",
       "    <tr>\n",
       "      <th>1</th>\n",
       "      <td>125.880</td>\n",
       "      <td>6</td>\n",
       "      <td>0.0</td>\n",
       "      <td>60.4224</td>\n",
       "      <td>2017</td>\n",
       "      <td>3</td>\n",
       "      <td>35.348275</td>\n",
       "      <td>2</td>\n",
       "      <td>10</td>\n",
       "      <td>0</td>\n",
       "      <td>...</td>\n",
       "      <td>0</td>\n",
       "      <td>0</td>\n",
       "      <td>0</td>\n",
       "      <td>0</td>\n",
       "      <td>1</td>\n",
       "      <td>0</td>\n",
       "      <td>1</td>\n",
       "      <td>0</td>\n",
       "      <td>0</td>\n",
       "      <td>0</td>\n",
       "    </tr>\n",
       "    <tr>\n",
       "      <th>2</th>\n",
       "      <td>14.304</td>\n",
       "      <td>6</td>\n",
       "      <td>0.2</td>\n",
       "      <td>4.6488</td>\n",
       "      <td>2014</td>\n",
       "      <td>3</td>\n",
       "      <td>9.258253</td>\n",
       "      <td>2</td>\n",
       "      <td>10</td>\n",
       "      <td>0</td>\n",
       "      <td>...</td>\n",
       "      <td>0</td>\n",
       "      <td>0</td>\n",
       "      <td>0</td>\n",
       "      <td>0</td>\n",
       "      <td>1</td>\n",
       "      <td>0</td>\n",
       "      <td>0</td>\n",
       "      <td>0</td>\n",
       "      <td>0</td>\n",
       "      <td>1</td>\n",
       "    </tr>\n",
       "    <tr>\n",
       "      <th>3</th>\n",
       "      <td>32.400</td>\n",
       "      <td>5</td>\n",
       "      <td>0.0</td>\n",
       "      <td>15.5520</td>\n",
       "      <td>2017</td>\n",
       "      <td>2</td>\n",
       "      <td>4.654125</td>\n",
       "      <td>2</td>\n",
       "      <td>7</td>\n",
       "      <td>0</td>\n",
       "      <td>...</td>\n",
       "      <td>0</td>\n",
       "      <td>0</td>\n",
       "      <td>0</td>\n",
       "      <td>0</td>\n",
       "      <td>1</td>\n",
       "      <td>0</td>\n",
       "      <td>0</td>\n",
       "      <td>0</td>\n",
       "      <td>1</td>\n",
       "      <td>0</td>\n",
       "    </tr>\n",
       "    <tr>\n",
       "      <th>4</th>\n",
       "      <td>77.952</td>\n",
       "      <td>3</td>\n",
       "      <td>0.2</td>\n",
       "      <td>-15.5904</td>\n",
       "      <td>2017</td>\n",
       "      <td>4</td>\n",
       "      <td>17.475229</td>\n",
       "      <td>2</td>\n",
       "      <td>9</td>\n",
       "      <td>0</td>\n",
       "      <td>...</td>\n",
       "      <td>0</td>\n",
       "      <td>0</td>\n",
       "      <td>0</td>\n",
       "      <td>0</td>\n",
       "      <td>1</td>\n",
       "      <td>0</td>\n",
       "      <td>1</td>\n",
       "      <td>0</td>\n",
       "      <td>0</td>\n",
       "      <td>0</td>\n",
       "    </tr>\n",
       "    <tr>\n",
       "      <th>...</th>\n",
       "      <td>...</td>\n",
       "      <td>...</td>\n",
       "      <td>...</td>\n",
       "      <td>...</td>\n",
       "      <td>...</td>\n",
       "      <td>...</td>\n",
       "      <td>...</td>\n",
       "      <td>...</td>\n",
       "      <td>...</td>\n",
       "      <td>...</td>\n",
       "      <td>...</td>\n",
       "      <td>...</td>\n",
       "      <td>...</td>\n",
       "      <td>...</td>\n",
       "      <td>...</td>\n",
       "      <td>...</td>\n",
       "      <td>...</td>\n",
       "      <td>...</td>\n",
       "      <td>...</td>\n",
       "      <td>...</td>\n",
       "      <td>...</td>\n",
       "    </tr>\n",
       "    <tr>\n",
       "      <th>7990</th>\n",
       "      <td>8.040</td>\n",
       "      <td>5</td>\n",
       "      <td>0.2</td>\n",
       "      <td>2.9145</td>\n",
       "      <td>2015</td>\n",
       "      <td>2</td>\n",
       "      <td>-122.522389</td>\n",
       "      <td>3</td>\n",
       "      <td>3</td>\n",
       "      <td>0</td>\n",
       "      <td>...</td>\n",
       "      <td>0</td>\n",
       "      <td>0</td>\n",
       "      <td>0</td>\n",
       "      <td>0</td>\n",
       "      <td>1</td>\n",
       "      <td>0</td>\n",
       "      <td>0</td>\n",
       "      <td>1</td>\n",
       "      <td>0</td>\n",
       "      <td>0</td>\n",
       "    </tr>\n",
       "    <tr>\n",
       "      <th>7991</th>\n",
       "      <td>26.010</td>\n",
       "      <td>9</td>\n",
       "      <td>0.0</td>\n",
       "      <td>12.2247</td>\n",
       "      <td>2016</td>\n",
       "      <td>1</td>\n",
       "      <td>37.428837</td>\n",
       "      <td>3</td>\n",
       "      <td>6</td>\n",
       "      <td>0</td>\n",
       "      <td>...</td>\n",
       "      <td>0</td>\n",
       "      <td>0</td>\n",
       "      <td>0</td>\n",
       "      <td>0</td>\n",
       "      <td>1</td>\n",
       "      <td>0</td>\n",
       "      <td>0</td>\n",
       "      <td>0</td>\n",
       "      <td>0</td>\n",
       "      <td>1</td>\n",
       "    </tr>\n",
       "    <tr>\n",
       "      <th>7992</th>\n",
       "      <td>13.050</td>\n",
       "      <td>5</td>\n",
       "      <td>0.0</td>\n",
       "      <td>6.0030</td>\n",
       "      <td>2015</td>\n",
       "      <td>2</td>\n",
       "      <td>-1.279672</td>\n",
       "      <td>2</td>\n",
       "      <td>6</td>\n",
       "      <td>0</td>\n",
       "      <td>...</td>\n",
       "      <td>0</td>\n",
       "      <td>0</td>\n",
       "      <td>0</td>\n",
       "      <td>0</td>\n",
       "      <td>1</td>\n",
       "      <td>0</td>\n",
       "      <td>0</td>\n",
       "      <td>1</td>\n",
       "      <td>0</td>\n",
       "      <td>0</td>\n",
       "    </tr>\n",
       "    <tr>\n",
       "      <th>7993</th>\n",
       "      <td>59.990</td>\n",
       "      <td>7</td>\n",
       "      <td>0.0</td>\n",
       "      <td>21.5964</td>\n",
       "      <td>2016</td>\n",
       "      <td>1</td>\n",
       "      <td>4.916386</td>\n",
       "      <td>2</td>\n",
       "      <td>5</td>\n",
       "      <td>0</td>\n",
       "      <td>...</td>\n",
       "      <td>0</td>\n",
       "      <td>0</td>\n",
       "      <td>0</td>\n",
       "      <td>1</td>\n",
       "      <td>0</td>\n",
       "      <td>0</td>\n",
       "      <td>0</td>\n",
       "      <td>0</td>\n",
       "      <td>0</td>\n",
       "      <td>1</td>\n",
       "    </tr>\n",
       "    <tr>\n",
       "      <th>7994</th>\n",
       "      <td>20.820</td>\n",
       "      <td>3</td>\n",
       "      <td>0.0</td>\n",
       "      <td>7.4952</td>\n",
       "      <td>2016</td>\n",
       "      <td>4</td>\n",
       "      <td>20.689769</td>\n",
       "      <td>2</td>\n",
       "      <td>4</td>\n",
       "      <td>0</td>\n",
       "      <td>...</td>\n",
       "      <td>0</td>\n",
       "      <td>0</td>\n",
       "      <td>0</td>\n",
       "      <td>0</td>\n",
       "      <td>1</td>\n",
       "      <td>0</td>\n",
       "      <td>0</td>\n",
       "      <td>1</td>\n",
       "      <td>0</td>\n",
       "      <td>0</td>\n",
       "    </tr>\n",
       "  </tbody>\n",
       "</table>\n",
       "<p>7995 rows × 65 columns</p>\n",
       "</div>"
      ],
      "text/plain": [
       "        Sales  Quantity  Discount   Profit  Order year  Order quarter   \n",
       "0     119.940         6       0.0   5.9970        2017              4  \\\n",
       "1     125.880         6       0.0  60.4224        2017              3   \n",
       "2      14.304         6       0.2   4.6488        2014              3   \n",
       "3      32.400         5       0.0  15.5520        2017              2   \n",
       "4      77.952         3       0.2 -15.5904        2017              4   \n",
       "...       ...       ...       ...      ...         ...            ...   \n",
       "7990    8.040         5       0.2   2.9145        2015              2   \n",
       "7991   26.010         9       0.0  12.2247        2016              1   \n",
       "7992   13.050         5       0.0   6.0030        2015              2   \n",
       "7993   59.990         7       0.0  21.5964        2016              1   \n",
       "7994   20.820         3       0.0   7.4952        2016              4   \n",
       "\n",
       "      customer_loyalty  ship_priority  sub_cat_encoded  State_Alabama  ...   \n",
       "0            -2.023000              0               13              0  ...  \\\n",
       "1            35.348275              2               10              0  ...   \n",
       "2             9.258253              2               10              0  ...   \n",
       "3             4.654125              2                7              0  ...   \n",
       "4            17.475229              2                9              0  ...   \n",
       "...                ...            ...              ...            ...  ...   \n",
       "7990       -122.522389              3                3              0  ...   \n",
       "7991         37.428837              3                6              0  ...   \n",
       "7992         -1.279672              2                6              0  ...   \n",
       "7993          4.916386              2                5              0  ...   \n",
       "7994         20.689769              2                4              0  ...   \n",
       "\n",
       "      State_West Virginia  State_Wisconsin  State_Wyoming   \n",
       "0                       0                0              0  \\\n",
       "1                       0                0              0   \n",
       "2                       0                0              0   \n",
       "3                       0                0              0   \n",
       "4                       0                0              0   \n",
       "...                   ...              ...            ...   \n",
       "7990                    0                0              0   \n",
       "7991                    0                0              0   \n",
       "7992                    0                0              0   \n",
       "7993                    0                0              0   \n",
       "7994                    0                0              0   \n",
       "\n",
       "      Main Category_Furniture  Main Category_Office Supplies   \n",
       "0                           0                              0  \\\n",
       "1                           0                              1   \n",
       "2                           0                              1   \n",
       "3                           0                              1   \n",
       "4                           0                              1   \n",
       "...                       ...                            ...   \n",
       "7990                        0                              1   \n",
       "7991                        0                              1   \n",
       "7992                        0                              1   \n",
       "7993                        1                              0   \n",
       "7994                        0                              1   \n",
       "\n",
       "      Main Category_Technology  Region_Central  Region_East  Region_South   \n",
       "0                            1               0            1             0  \\\n",
       "1                            0               1            0             0   \n",
       "2                            0               0            0             0   \n",
       "3                            0               0            0             1   \n",
       "4                            0               1            0             0   \n",
       "...                        ...             ...          ...           ...   \n",
       "7990                         0               0            1             0   \n",
       "7991                         0               0            0             0   \n",
       "7992                         0               0            1             0   \n",
       "7993                         0               0            0             0   \n",
       "7994                         0               0            1             0   \n",
       "\n",
       "      Region_West  \n",
       "0               0  \n",
       "1               0  \n",
       "2               1  \n",
       "3               0  \n",
       "4               0  \n",
       "...           ...  \n",
       "7990            0  \n",
       "7991            1  \n",
       "7992            0  \n",
       "7993            1  \n",
       "7994            0  \n",
       "\n",
       "[7995 rows x 65 columns]"
      ]
     },
     "execution_count": 78,
     "metadata": {},
     "output_type": "execute_result"
    }
   ],
   "source": [
    "final_df_op3=pd.concat([final_df_op3,one_hot_encode_columns([\"State\",\"Main Category\",\"Region\"],data)],axis=1)\n",
    "final_df_op3\n"
   ]
  },
  {
   "cell_type": "code",
   "execution_count": 79,
   "metadata": {},
   "outputs": [],
   "source": [
    "final_df_op3=normalize_feature(final_df_op3)\n",
    "X_opt3=final_df_op3.drop(columns=[\"Profit\"])\n",
    "Y_opt3=final_df_op3[\"Profit\"]\n",
    "X_train3,X_test3,Y_train3,Y_test3=train_test_split(X_opt3,Y_opt3,test_size=0.2,random_state=42)"
   ]
  },
  {
   "cell_type": "code",
   "execution_count": 80,
   "metadata": {},
   "outputs": [
    {
     "name": "stdout",
     "output_type": "stream",
     "text": [
      "R^2 Score:  0.9157537662918168\n",
      "Mean Squared Error (MSE):  2.763073935956366e-05\n"
     ]
    }
   ],
   "source": [
    "rf_3 = RandomForestRegressor(n_estimators=90, random_state=42)\n",
    "\n",
    "# Train the model using the training data\n",
    "rf_3.fit(X_train3, Y_train3)\n",
    "\n",
    "# Make predictions on the testing data\n",
    "y_pred3 = rf_3.predict(X_test3)\n",
    "\n",
    "# Calculate R^2 score and Mean Squared Error (MSE) for the model\n",
    "r2_op3 = r2_score(Y_test3, y_pred3)\n",
    "mse_op3 = mean_squared_error(Y_test3, y_pred3)\n",
    "\n",
    "print(\"R^2 Score: \", r2_op3)\n",
    "print(\"Mean Squared Error (MSE): \", mse_op3)"
   ]
  },
  {
   "attachments": {},
   "cell_type": "markdown",
   "metadata": {},
   "source": [
    "<h3>Worst than the other options as shown above<h3>"
   ]
  },
  {
   "attachments": {},
   "cell_type": "markdown",
   "metadata": {},
   "source": [
    "<h3>Option 4"
   ]
  },
  {
   "cell_type": "code",
   "execution_count": 81,
   "metadata": {},
   "outputs": [],
   "source": [
    "final_df_op4=data.drop(columns=[\"Ship Mode\",\"Customer Name\",\"State\",\"Product ID\",\"Region\",\"Main Category\",\"Sub Category\"])\n",
    "final_df_op4[\"main_cat_means\"]=data[\"Main Category\"].map(transform_ordinal(data,\"Main Category\",\"Profit\"))      #No Difference between transform ordinal and transform ordinal means\n",
    "final_df_op4=normalize_feature(final_df_op4)\n",
    "X_opt4=final_df_op4.drop(columns=[\"Profit\"])\n",
    "Y_opt4=final_df_op4[\"Profit\"]\n",
    "X_train4,X_test4,Y_train4,Y_test4=train_test_split(X_opt4,Y_opt4,test_size=0.2,random_state=42)"
   ]
  },
  {
   "cell_type": "code",
   "execution_count": 82,
   "metadata": {},
   "outputs": [
    {
     "data": {
      "text/html": [
       "<div>\n",
       "<style scoped>\n",
       "    .dataframe tbody tr th:only-of-type {\n",
       "        vertical-align: middle;\n",
       "    }\n",
       "\n",
       "    .dataframe tbody tr th {\n",
       "        vertical-align: top;\n",
       "    }\n",
       "\n",
       "    .dataframe thead th {\n",
       "        text-align: right;\n",
       "    }\n",
       "</style>\n",
       "<table border=\"1\" class=\"dataframe\">\n",
       "  <thead>\n",
       "    <tr style=\"text-align: right;\">\n",
       "      <th></th>\n",
       "      <th>Sales</th>\n",
       "      <th>Quantity</th>\n",
       "      <th>Discount</th>\n",
       "      <th>Order year</th>\n",
       "      <th>Order quarter</th>\n",
       "      <th>state_mean</th>\n",
       "      <th>customer_loyalty</th>\n",
       "      <th>ship_priority</th>\n",
       "      <th>sub_cat_encoded</th>\n",
       "      <th>main_cat_means</th>\n",
       "    </tr>\n",
       "  </thead>\n",
       "  <tbody>\n",
       "    <tr>\n",
       "      <th>1467</th>\n",
       "      <td>0.006994</td>\n",
       "      <td>0.153846</td>\n",
       "      <td>0.250</td>\n",
       "      <td>0.333333</td>\n",
       "      <td>1.000000</td>\n",
       "      <td>0.411266</td>\n",
       "      <td>0.446212</td>\n",
       "      <td>0.000000</td>\n",
       "      <td>0.6250</td>\n",
       "      <td>0.5</td>\n",
       "    </tr>\n",
       "    <tr>\n",
       "      <th>6071</th>\n",
       "      <td>0.014837</td>\n",
       "      <td>0.000000</td>\n",
       "      <td>0.000</td>\n",
       "      <td>0.000000</td>\n",
       "      <td>0.333333</td>\n",
       "      <td>0.386097</td>\n",
       "      <td>0.480597</td>\n",
       "      <td>0.666667</td>\n",
       "      <td>0.6875</td>\n",
       "      <td>0.5</td>\n",
       "    </tr>\n",
       "    <tr>\n",
       "      <th>2337</th>\n",
       "      <td>0.028944</td>\n",
       "      <td>0.230769</td>\n",
       "      <td>0.000</td>\n",
       "      <td>0.000000</td>\n",
       "      <td>1.000000</td>\n",
       "      <td>0.272307</td>\n",
       "      <td>0.426901</td>\n",
       "      <td>0.666667</td>\n",
       "      <td>0.5625</td>\n",
       "      <td>0.5</td>\n",
       "    </tr>\n",
       "    <tr>\n",
       "      <th>1578</th>\n",
       "      <td>0.002824</td>\n",
       "      <td>0.076923</td>\n",
       "      <td>0.000</td>\n",
       "      <td>1.000000</td>\n",
       "      <td>0.666667</td>\n",
       "      <td>0.606755</td>\n",
       "      <td>0.438091</td>\n",
       "      <td>0.666667</td>\n",
       "      <td>0.3125</td>\n",
       "      <td>0.0</td>\n",
       "    </tr>\n",
       "    <tr>\n",
       "      <th>6522</th>\n",
       "      <td>0.003165</td>\n",
       "      <td>0.307692</td>\n",
       "      <td>0.000</td>\n",
       "      <td>1.000000</td>\n",
       "      <td>1.000000</td>\n",
       "      <td>0.285908</td>\n",
       "      <td>0.432121</td>\n",
       "      <td>0.666667</td>\n",
       "      <td>0.4375</td>\n",
       "      <td>0.5</td>\n",
       "    </tr>\n",
       "    <tr>\n",
       "      <th>...</th>\n",
       "      <td>...</td>\n",
       "      <td>...</td>\n",
       "      <td>...</td>\n",
       "      <td>...</td>\n",
       "      <td>...</td>\n",
       "      <td>...</td>\n",
       "      <td>...</td>\n",
       "      <td>...</td>\n",
       "      <td>...</td>\n",
       "      <td>...</td>\n",
       "    </tr>\n",
       "    <tr>\n",
       "      <th>5226</th>\n",
       "      <td>0.002917</td>\n",
       "      <td>0.384615</td>\n",
       "      <td>0.250</td>\n",
       "      <td>1.000000</td>\n",
       "      <td>1.000000</td>\n",
       "      <td>0.386097</td>\n",
       "      <td>0.433068</td>\n",
       "      <td>1.000000</td>\n",
       "      <td>0.6250</td>\n",
       "      <td>0.5</td>\n",
       "    </tr>\n",
       "    <tr>\n",
       "      <th>5390</th>\n",
       "      <td>0.005565</td>\n",
       "      <td>0.307692</td>\n",
       "      <td>0.000</td>\n",
       "      <td>0.000000</td>\n",
       "      <td>0.666667</td>\n",
       "      <td>0.272307</td>\n",
       "      <td>0.432988</td>\n",
       "      <td>0.666667</td>\n",
       "      <td>0.5000</td>\n",
       "      <td>0.5</td>\n",
       "    </tr>\n",
       "    <tr>\n",
       "      <th>860</th>\n",
       "      <td>0.005717</td>\n",
       "      <td>0.000000</td>\n",
       "      <td>0.000</td>\n",
       "      <td>1.000000</td>\n",
       "      <td>0.666667</td>\n",
       "      <td>0.521724</td>\n",
       "      <td>0.438593</td>\n",
       "      <td>0.666667</td>\n",
       "      <td>0.6875</td>\n",
       "      <td>0.5</td>\n",
       "    </tr>\n",
       "    <tr>\n",
       "      <th>7603</th>\n",
       "      <td>0.003223</td>\n",
       "      <td>0.076923</td>\n",
       "      <td>0.250</td>\n",
       "      <td>0.666667</td>\n",
       "      <td>1.000000</td>\n",
       "      <td>0.108628</td>\n",
       "      <td>0.433911</td>\n",
       "      <td>0.666667</td>\n",
       "      <td>0.3125</td>\n",
       "      <td>0.0</td>\n",
       "    </tr>\n",
       "    <tr>\n",
       "      <th>7270</th>\n",
       "      <td>0.045097</td>\n",
       "      <td>0.076923</td>\n",
       "      <td>0.125</td>\n",
       "      <td>0.666667</td>\n",
       "      <td>0.666667</td>\n",
       "      <td>0.386097</td>\n",
       "      <td>0.451300</td>\n",
       "      <td>0.666667</td>\n",
       "      <td>0.7500</td>\n",
       "      <td>0.0</td>\n",
       "    </tr>\n",
       "  </tbody>\n",
       "</table>\n",
       "<p>6396 rows × 10 columns</p>\n",
       "</div>"
      ],
      "text/plain": [
       "         Sales  Quantity  Discount  Order year  Order quarter  state_mean   \n",
       "1467  0.006994  0.153846     0.250    0.333333       1.000000    0.411266  \\\n",
       "6071  0.014837  0.000000     0.000    0.000000       0.333333    0.386097   \n",
       "2337  0.028944  0.230769     0.000    0.000000       1.000000    0.272307   \n",
       "1578  0.002824  0.076923     0.000    1.000000       0.666667    0.606755   \n",
       "6522  0.003165  0.307692     0.000    1.000000       1.000000    0.285908   \n",
       "...        ...       ...       ...         ...            ...         ...   \n",
       "5226  0.002917  0.384615     0.250    1.000000       1.000000    0.386097   \n",
       "5390  0.005565  0.307692     0.000    0.000000       0.666667    0.272307   \n",
       "860   0.005717  0.000000     0.000    1.000000       0.666667    0.521724   \n",
       "7603  0.003223  0.076923     0.250    0.666667       1.000000    0.108628   \n",
       "7270  0.045097  0.076923     0.125    0.666667       0.666667    0.386097   \n",
       "\n",
       "      customer_loyalty  ship_priority  sub_cat_encoded  main_cat_means  \n",
       "1467          0.446212       0.000000           0.6250             0.5  \n",
       "6071          0.480597       0.666667           0.6875             0.5  \n",
       "2337          0.426901       0.666667           0.5625             0.5  \n",
       "1578          0.438091       0.666667           0.3125             0.0  \n",
       "6522          0.432121       0.666667           0.4375             0.5  \n",
       "...                ...            ...              ...             ...  \n",
       "5226          0.433068       1.000000           0.6250             0.5  \n",
       "5390          0.432988       0.666667           0.5000             0.5  \n",
       "860           0.438593       0.666667           0.6875             0.5  \n",
       "7603          0.433911       0.666667           0.3125             0.0  \n",
       "7270          0.451300       0.666667           0.7500             0.0  \n",
       "\n",
       "[6396 rows x 10 columns]"
      ]
     },
     "execution_count": 82,
     "metadata": {},
     "output_type": "execute_result"
    }
   ],
   "source": [
    "X_train4"
   ]
  },
  {
   "attachments": {},
   "cell_type": "markdown",
   "metadata": {},
   "source": [
    "<h3>SHAP explainer for option 4</h3>"
   ]
  },
  {
   "cell_type": "code",
   "execution_count": 84,
   "metadata": {},
   "outputs": [
    {
     "name": "stderr",
     "output_type": "stream",
     "text": [
      "Exact explainer: 1600it [25:24,  1.05it/s]                          \n"
     ]
    }
   ],
   "source": [
    "model_profit = RandomForestRegressor()\n",
    "model_profit.fit(X_train4, Y_train4)\n",
    "explainer_profit = shap.Explainer(model_profit.predict, X_test4)\n",
    "shap_values_profit = explainer_profit(X_test4)"
   ]
  },
  {
   "cell_type": "code",
   "execution_count": 85,
   "metadata": {},
   "outputs": [
    {
     "name": "stderr",
     "output_type": "stream",
     "text": [
      "No data for colormapping provided via 'c'. Parameters 'vmin', 'vmax' will be ignored\n"
     ]
    },
    {
     "data": {
      "image/png": "[encoded data removed]",
      "text/plain": [
       "<Figure size 800x550 with 2 Axes>"
      ]
     },
     "metadata": {},
     "output_type": "display_data"
    }
   ],
   "source": [
    "shap.summary_plot(shap_values_profit)"
   ]
  },
  {
   "cell_type": "code",
   "execution_count": 87,
   "metadata": {},
   "outputs": [
    {
     "name": "stdout",
     "output_type": "stream",
     "text": [
      "R^2 Score:  0.9240393965554043\n",
      "Mean Squared Error (MSE):  2.4913251821356228e-05\n"
     ]
    }
   ],
   "source": [
    "rf_4 = RandomForestRegressor(n_estimators=90, random_state=42)\n",
    "\n",
    "# Train the model using the training data\n",
    "rf_4.fit(X_train4, Y_train4)\n",
    "\n",
    "# Make predictions on the testing data\n",
    "y_pred4 = rf_4.predict(X_test4)\n",
    "\n",
    "# Calculate R^2 score and Mean Squared Error (MSE) for the model\n",
    "r2_op4 = r2_score(Y_test4, y_pred4)\n",
    "mse_op4 = mean_squared_error(Y_test4, y_pred4)\n",
    "\n",
    "print(\"R^2 Score: \", r2_op4)\n",
    "print(\"Mean Squared Error (MSE): \", mse_op4)"
   ]
  },
  {
   "attachments": {},
   "cell_type": "markdown",
   "metadata": {},
   "source": [
    "<h3>Compare between the 4 options </h3>"
   ]
  },
  {
   "cell_type": "code",
   "execution_count": 193,
   "metadata": {},
   "outputs": [
    {
     "data": {
      "image/png": "[encoded data removed]",
      "text/plain": [
       "<Figure size 640x480 with 1 Axes>"
      ]
     },
     "metadata": {},
     "output_type": "display_data"
    }
   ],
   "source": [
    "models={\"Model\":[\"Option1\",\"Option2\",\"Option3\",\"Option4\"],\n",
    "        \"R2 Scores\":[r2_op1,r2_op2,r2_op3,r2_op4],\n",
    "        \"Mse\":[mse_op1,mse_op2,mse_op3,mse_op4]}\n",
    "df = pd.DataFrame(models)\n",
    "\n",
    "sns.set(style=\"whitegrid\")\n",
    "\n",
    "# Create a bar plot using Seaborn\n",
    "sns.barplot(data=df[['R2 Scores']])\n",
    "\n",
    "# Set the title and labels for the plot\n",
    "plt.title(\"Comparison of R2 Scores for Four Models\")\n",
    "plt.xlabel(\"Model\")\n",
    "plt.ylabel(\"R2 Scores\")\n",
    "\n",
    "# Show the plot\n",
    "plt.show()"
   ]
  },
  {
   "cell_type": "code",
   "execution_count": null,
   "metadata": {},
   "outputs": [],
   "source": []
  }
 ],
 "metadata": {
  "kernelspec": {
   "display_name": ".venv",
   "language": "python",
   "name": "python3"
  },
  "language_info": {
   "codemirror_mode": {
    "name": "ipython",
    "version": 3
   },
   "file_extension": ".py",
   "mimetype": "text/x-python",
   "name": "python",
   "nbconvert_exporter": "python",
   "pygments_lexer": "ipython3",
   "version": "3.10.1"
  },
  "orig_nbformat": 4
 },
 "nbformat": 4,
 "nbformat_minor": 2
}
